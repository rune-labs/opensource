{
 "cells": [
  {
   "cell_type": "markdown",
   "metadata": {},
   "source": [
    "# Explore Patient-Reported Data from StrivePD\n",
    "\n",
    "This demo walks through the process of exploring and pulling patient-reported data (e.g., symptoms, medications, activity, food/drink) from the Rune platform API. Data recorded via Rune's StrivePD app is used as an example, but the included methods will work for all data available from the Event and Span endpoints.\n",
    "\n",
    "We utilize the Rune Stream API and Python package `runeq`. Full API documentation can be found here: https://docs.runelabs.io/. Information about the Python package (SDK) can be found here: https://runeq.readthedocs.io/en/latest/.\n",
    "\n",
    "Information on StrivePD can be found here: https://strive.group/."
   ]
  },
  {
   "cell_type": "markdown",
   "metadata": {},
   "source": [
    "## Import the necessary packages/modules\n",
    "\n",
    "We will utilize some commonly used Python packages/modules, including pandas dataframes. Config and stream are imported from the Rune SDK, runeq."
   ]
  },
  {
   "cell_type": "code",
   "execution_count": 1,
   "metadata": {
    "ExecuteTime": {
     "end_time": "2021-03-31T22:53:03.878420Z",
     "start_time": "2021-03-31T22:53:03.363919Z"
    }
   },
   "outputs": [],
   "source": [
    "import os\n",
    "import datetime as dt\n",
    "import pandas as pd\n",
    "from runeq import Config, stream"
   ]
  },
  {
   "cell_type": "markdown",
   "metadata": {},
   "source": [
    "## Functions for pulling \"Event\" and \"Span\" data from the API\n",
    "\n",
    "In Rune's Stream API, there are two different endpoints for pulling different types of patient-reported \"event\" data:\n",
    "\n",
    "* Event: Events that occur at a single point in time\n",
    "* Span:  Events that have duration, including \"fuzzy\" start and end times\n",
    "\n",
    "More information on these endpoints can be found here: https://docs.runelabs.io/#tag/v1event-and-span\n",
    "\n",
    "`get_events` and `get_spans` will pull data with the Stream API. These wrapper functions can be easily modified to access the other API endpoints, or to directly write the pulled data to a file."
   ]
  },
  {
   "cell_type": "code",
   "execution_count": 2,
   "metadata": {
    "ExecuteTime": {
     "end_time": "2021-03-31T22:53:04.818349Z",
     "start_time": "2021-03-31T22:53:04.813656Z"
    }
   },
   "outputs": [],
   "source": [
    "def get_events(client, params):\n",
    "    \"\"\"Makes API calls for events, outputs dataframe\"\"\"\n",
    "\n",
    "    accessor = client.Event(**params)\n",
    "\n",
    "    df = pd.DataFrame()\n",
    "    for page in accessor.iter_json_data():\n",
    "        df_page = pd.DataFrame(page['event'])\n",
    "        df = df.append(df_page, ignore_index=True)\n",
    "\n",
    "    return df\n",
    "\n",
    "\n",
    "def get_spans(client, params):\n",
    "    \"\"\"Makes API calls for spans, outputs dataframe\"\"\"\n",
    "\n",
    "    accessor = client.Span(**params)\n",
    "\n",
    "    df = pd.DataFrame()\n",
    "    for page in accessor.iter_json_data():\n",
    "        df_page = pd.DataFrame(page['span'])\n",
    "        df = df.append(df_page, ignore_index=True)\n",
    "\n",
    "    return df"
   ]
  },
  {
   "cell_type": "markdown",
   "metadata": {},
   "source": [
    "## 1. Initialize API credentials\n",
    "\n",
    "First initialize your API credentials. These credentials are analogous to having a username/password for accessing patient data. You can set up an access token for read access to all patients within your organization. See our [API doc](https://docs.runelabs.io/stream/#section/Overview/Authentication) for instructions on how to set this up.\n",
    "\n",
    "Next, set up a .yaml file with your token ID and secret. This is text file that will store your credentials. See our [`runeq` quickstart](https://runeq.readthedocs.io/en/latest/pages/quickstart.html#configuration) for how to set this up.\n",
    "\n",
    "Once this .yaml file is in place, it can be used to create a client object."
   ]
  },
  {
   "cell_type": "code",
   "execution_count": 3,
   "metadata": {
    "ExecuteTime": {
     "end_time": "2021-03-31T22:53:06.167932Z",
     "start_time": "2021-03-31T22:53:06.164130Z"
    }
   },
   "outputs": [],
   "source": [
    "# Set up a client.\n",
    "\n",
    "cfg = Config()\n",
    "client = stream.V1Client(cfg)"
   ]
  },
  {
   "cell_type": "markdown",
   "metadata": {},
   "source": [
    "If your .yaml file is not in the default location, its path can be passed as an argument to `Config()`.\n",
    "\n",
    "This client object can now be used to make API calls. Next, we will specify the parameters for our API calls. Check out the full API documentation for required vs. optional parameters per endpoint."
   ]
  },
  {
   "cell_type": "markdown",
   "metadata": {},
   "source": [
    "## 2. Specify endpoint parameters and retrieve data\n",
    "\n",
    "The patient ID and device ID can be accessed in the [research portal](https://app.runelabs.io/). The patient ID is at the top left corner of the screen when viewing patient data, and a \"copy device ID\" button is under each data stream. Both are also available in the patient settings menu (click the \"gear\" icon).\n",
    "\n",
    "An optional device ID parameter can be included to pull events from a specific device. However, the device ID line can be removed (or commented out), so that all events will be pulled, regardless of their source. \n",
    "\n",
    "The [Rune research portal](https://app.runelabs.io/) is handy for finding windows of time that include the desired data. In this case, event data was examined in the research portal to find a window of five days that include a variety of patient reported events."
   ]
  },
  {
   "cell_type": "code",
   "execution_count": 4,
   "metadata": {
    "ExecuteTime": {
     "end_time": "2021-03-31T22:53:07.728225Z",
     "start_time": "2021-03-31T22:53:07.724490Z"
    }
   },
   "outputs": [],
   "source": [
    "params = {\n",
    "    'patient_id': 'c985db94656040cc8c4b191ea0e82d4f',\n",
    "    'device_id': '84JO8cfE',\n",
    "    'start_time': dt.datetime(2021, 2, 15).timestamp(),\n",
    "    'end_time': dt.datetime(2021, 2, 20).timestamp()\n",
    "}"
   ]
  },
  {
   "cell_type": "markdown",
   "metadata": {},
   "source": [
    "Each endpoint requires a separate pull from the API:"
   ]
  },
  {
   "cell_type": "code",
   "execution_count": 5,
   "metadata": {
    "ExecuteTime": {
     "end_time": "2021-03-31T22:53:12.777071Z",
     "start_time": "2021-03-31T22:53:09.518244Z"
    }
   },
   "outputs": [],
   "source": [
    "# Retrieve data.\n",
    "\n",
    "events = get_events(client, params)\n",
    "spans = get_spans(client, params)"
   ]
  },
  {
   "cell_type": "markdown",
   "metadata": {},
   "source": [
    "## 3. Explore the Events\n",
    "\n",
    "First, we'll focus on the \"Events\" (which occur at a single point in time).\n",
    "\n",
    "To get a feel for the structure of the data, first examine the contents of the dataframe directly."
   ]
  },
  {
   "cell_type": "code",
   "execution_count": 6,
   "metadata": {
    "ExecuteTime": {
     "end_time": "2021-03-31T22:53:14.265947Z",
     "start_time": "2021-03-31T22:53:14.241908Z"
    }
   },
   "outputs": [
    {
     "data": {
      "text/html": [
       "<div>\n",
       "<style scoped>\n",
       "    .dataframe tbody tr th:only-of-type {\n",
       "        vertical-align: middle;\n",
       "    }\n",
       "\n",
       "    .dataframe tbody tr th {\n",
       "        vertical-align: top;\n",
       "    }\n",
       "\n",
       "    .dataframe thead th {\n",
       "        text-align: right;\n",
       "    }\n",
       "</style>\n",
       "<table border=\"1\" class=\"dataframe\">\n",
       "  <thead>\n",
       "    <tr style=\"text-align: right;\">\n",
       "      <th></th>\n",
       "      <th>time</th>\n",
       "      <th>created_time</th>\n",
       "      <th>device_id</th>\n",
       "      <th>id</th>\n",
       "      <th>event_namespace</th>\n",
       "      <th>event_type</th>\n",
       "      <th>event_enum</th>\n",
       "      <th>payload</th>\n",
       "      <th>display_name</th>\n",
       "    </tr>\n",
       "  </thead>\n",
       "  <tbody>\n",
       "    <tr>\n",
       "      <th>0</th>\n",
       "      <td>1.613506e+09</td>\n",
       "      <td>1.613520e+09</td>\n",
       "      <td>84JO8cfE</td>\n",
       "      <td>event-0e82d4f-03fed649a0177b60ba5613645d2117b1...</td>\n",
       "      <td>patient</td>\n",
       "      <td>medication</td>\n",
       "      <td>carbidopa-levodopa</td>\n",
       "      <td>{'category': 'Medication', 'dosage_quantity': ...</td>\n",
       "      <td>patient.medication.carbidopa-levodopa</td>\n",
       "    </tr>\n",
       "    <tr>\n",
       "      <th>1</th>\n",
       "      <td>1.613507e+09</td>\n",
       "      <td>1.613520e+09</td>\n",
       "      <td>84JO8cfE</td>\n",
       "      <td>event-0e82d4f-38b68f62b47d7d2fc7222d460b828b6c...</td>\n",
       "      <td>patient</td>\n",
       "      <td>food-drink</td>\n",
       "      <td>caffeine</td>\n",
       "      <td>{'category': 'Food &amp; Drink', 'name': 'Caffeine'}</td>\n",
       "      <td>patient.food-drink.caffeine</td>\n",
       "    </tr>\n",
       "    <tr>\n",
       "      <th>2</th>\n",
       "      <td>1.613513e+09</td>\n",
       "      <td>1.613521e+09</td>\n",
       "      <td>84JO8cfE</td>\n",
       "      <td>event-0e82d4f-50a6710320ab862cb5ad5e1c838f5f35...</td>\n",
       "      <td>patient</td>\n",
       "      <td>medication</td>\n",
       "      <td>carbidopa-levodopa</td>\n",
       "      <td>{'category': 'Medication', 'dosage_quantity': ...</td>\n",
       "      <td>patient.medication.carbidopa-levodopa</td>\n",
       "    </tr>\n",
       "    <tr>\n",
       "      <th>3</th>\n",
       "      <td>1.613513e+09</td>\n",
       "      <td>1.613520e+09</td>\n",
       "      <td>84JO8cfE</td>\n",
       "      <td>event-0e82d4f-fff8551303f31e8587a5c3ee51671f89...</td>\n",
       "      <td>patient</td>\n",
       "      <td>medication</td>\n",
       "      <td>advil</td>\n",
       "      <td>{'category': 'Medication', 'dosage_quantity': ...</td>\n",
       "      <td>patient.medication.advil</td>\n",
       "    </tr>\n",
       "    <tr>\n",
       "      <th>4</th>\n",
       "      <td>1.613601e+09</td>\n",
       "      <td>1.613601e+09</td>\n",
       "      <td>84JO8cfE</td>\n",
       "      <td>event-0e82d4f-94fa4c50ed604d26acd02101c9e5a7dd...</td>\n",
       "      <td>patient</td>\n",
       "      <td>food-drink</td>\n",
       "      <td>caffeine</td>\n",
       "      <td>{'category': 'Food &amp; Drink', 'name': 'Caffeine'}</td>\n",
       "      <td>patient.food-drink.caffeine</td>\n",
       "    </tr>\n",
       "    <tr>\n",
       "      <th>5</th>\n",
       "      <td>1.613601e+09</td>\n",
       "      <td>1.613601e+09</td>\n",
       "      <td>84JO8cfE</td>\n",
       "      <td>event-0e82d4f-5ca83f287a96fbcb05b81b6248a7d183...</td>\n",
       "      <td>patient</td>\n",
       "      <td>symptom</td>\n",
       "      <td>on-period</td>\n",
       "      <td>{'category': 'Symptom', 'duration': None, 'int...</td>\n",
       "      <td>patient.symptom.on-period</td>\n",
       "    </tr>\n",
       "    <tr>\n",
       "      <th>6</th>\n",
       "      <td>1.613601e+09</td>\n",
       "      <td>1.613601e+09</td>\n",
       "      <td>84JO8cfE</td>\n",
       "      <td>event-0e82d4f-cc75f6224eaa96c95df7778ca01d52f9...</td>\n",
       "      <td>patient</td>\n",
       "      <td>medication</td>\n",
       "      <td>advil</td>\n",
       "      <td>{'category': 'Medication', 'dosage_quantity': ...</td>\n",
       "      <td>patient.medication.advil</td>\n",
       "    </tr>\n",
       "    <tr>\n",
       "      <th>7</th>\n",
       "      <td>1.613749e+09</td>\n",
       "      <td>1.613749e+09</td>\n",
       "      <td>84JO8cfE</td>\n",
       "      <td>event-0e82d4f-045554080432c0abc94fb8a415bf6f77...</td>\n",
       "      <td>patient</td>\n",
       "      <td>symptom</td>\n",
       "      <td>ocd</td>\n",
       "      <td>{'category': 'StriveStudy', 'duration': None, ...</td>\n",
       "      <td>patient.symptom.ocd</td>\n",
       "    </tr>\n",
       "    <tr>\n",
       "      <th>8</th>\n",
       "      <td>1.613749e+09</td>\n",
       "      <td>1.613749e+09</td>\n",
       "      <td>84JO8cfE</td>\n",
       "      <td>event-0e82d4f-b5c524f696f6b0f0f33c290ca8f59a3b...</td>\n",
       "      <td>patient</td>\n",
       "      <td>medication</td>\n",
       "      <td>advil</td>\n",
       "      <td>{'category': 'Medication', 'dosage_quantity': ...</td>\n",
       "      <td>patient.medication.advil</td>\n",
       "    </tr>\n",
       "    <tr>\n",
       "      <th>9</th>\n",
       "      <td>1.613751e+09</td>\n",
       "      <td>1.613751e+09</td>\n",
       "      <td>84JO8cfE</td>\n",
       "      <td>event-0e82d4f-88701de815e9b2ce6f214d3dc181c3a5...</td>\n",
       "      <td>patient</td>\n",
       "      <td>symptom</td>\n",
       "      <td>ocd</td>\n",
       "      <td>{'category': 'StriveStudy', 'duration': None, ...</td>\n",
       "      <td>patient.symptom.ocd</td>\n",
       "    </tr>\n",
       "    <tr>\n",
       "      <th>10</th>\n",
       "      <td>1.613751e+09</td>\n",
       "      <td>1.613751e+09</td>\n",
       "      <td>84JO8cfE</td>\n",
       "      <td>event-0e82d4f-8f140ab83988e558bfdea9a8f8891bb1...</td>\n",
       "      <td>patient</td>\n",
       "      <td>food-drink</td>\n",
       "      <td>caffeine</td>\n",
       "      <td>{'category': 'Food &amp; Drink', 'name': 'Caffeine'}</td>\n",
       "      <td>patient.food-drink.caffeine</td>\n",
       "    </tr>\n",
       "    <tr>\n",
       "      <th>11</th>\n",
       "      <td>1.613758e+09</td>\n",
       "      <td>1.613758e+09</td>\n",
       "      <td>84JO8cfE</td>\n",
       "      <td>event-0e82d4f-1f8087b728da5cf8682119a00ca284de...</td>\n",
       "      <td>patient</td>\n",
       "      <td>symptom</td>\n",
       "      <td>ocd</td>\n",
       "      <td>{'category': 'StriveStudy', 'duration': None, ...</td>\n",
       "      <td>patient.symptom.ocd</td>\n",
       "    </tr>\n",
       "  </tbody>\n",
       "</table>\n",
       "</div>"
      ],
      "text/plain": [
       "            time  created_time device_id  \\\n",
       "0   1.613506e+09  1.613520e+09  84JO8cfE   \n",
       "1   1.613507e+09  1.613520e+09  84JO8cfE   \n",
       "2   1.613513e+09  1.613521e+09  84JO8cfE   \n",
       "3   1.613513e+09  1.613520e+09  84JO8cfE   \n",
       "4   1.613601e+09  1.613601e+09  84JO8cfE   \n",
       "5   1.613601e+09  1.613601e+09  84JO8cfE   \n",
       "6   1.613601e+09  1.613601e+09  84JO8cfE   \n",
       "7   1.613749e+09  1.613749e+09  84JO8cfE   \n",
       "8   1.613749e+09  1.613749e+09  84JO8cfE   \n",
       "9   1.613751e+09  1.613751e+09  84JO8cfE   \n",
       "10  1.613751e+09  1.613751e+09  84JO8cfE   \n",
       "11  1.613758e+09  1.613758e+09  84JO8cfE   \n",
       "\n",
       "                                                   id event_namespace  \\\n",
       "0   event-0e82d4f-03fed649a0177b60ba5613645d2117b1...         patient   \n",
       "1   event-0e82d4f-38b68f62b47d7d2fc7222d460b828b6c...         patient   \n",
       "2   event-0e82d4f-50a6710320ab862cb5ad5e1c838f5f35...         patient   \n",
       "3   event-0e82d4f-fff8551303f31e8587a5c3ee51671f89...         patient   \n",
       "4   event-0e82d4f-94fa4c50ed604d26acd02101c9e5a7dd...         patient   \n",
       "5   event-0e82d4f-5ca83f287a96fbcb05b81b6248a7d183...         patient   \n",
       "6   event-0e82d4f-cc75f6224eaa96c95df7778ca01d52f9...         patient   \n",
       "7   event-0e82d4f-045554080432c0abc94fb8a415bf6f77...         patient   \n",
       "8   event-0e82d4f-b5c524f696f6b0f0f33c290ca8f59a3b...         patient   \n",
       "9   event-0e82d4f-88701de815e9b2ce6f214d3dc181c3a5...         patient   \n",
       "10  event-0e82d4f-8f140ab83988e558bfdea9a8f8891bb1...         patient   \n",
       "11  event-0e82d4f-1f8087b728da5cf8682119a00ca284de...         patient   \n",
       "\n",
       "    event_type          event_enum  \\\n",
       "0   medication  carbidopa-levodopa   \n",
       "1   food-drink            caffeine   \n",
       "2   medication  carbidopa-levodopa   \n",
       "3   medication               advil   \n",
       "4   food-drink            caffeine   \n",
       "5      symptom           on-period   \n",
       "6   medication               advil   \n",
       "7      symptom                 ocd   \n",
       "8   medication               advil   \n",
       "9      symptom                 ocd   \n",
       "10  food-drink            caffeine   \n",
       "11     symptom                 ocd   \n",
       "\n",
       "                                              payload  \\\n",
       "0   {'category': 'Medication', 'dosage_quantity': ...   \n",
       "1    {'category': 'Food & Drink', 'name': 'Caffeine'}   \n",
       "2   {'category': 'Medication', 'dosage_quantity': ...   \n",
       "3   {'category': 'Medication', 'dosage_quantity': ...   \n",
       "4    {'category': 'Food & Drink', 'name': 'Caffeine'}   \n",
       "5   {'category': 'Symptom', 'duration': None, 'int...   \n",
       "6   {'category': 'Medication', 'dosage_quantity': ...   \n",
       "7   {'category': 'StriveStudy', 'duration': None, ...   \n",
       "8   {'category': 'Medication', 'dosage_quantity': ...   \n",
       "9   {'category': 'StriveStudy', 'duration': None, ...   \n",
       "10   {'category': 'Food & Drink', 'name': 'Caffeine'}   \n",
       "11  {'category': 'StriveStudy', 'duration': None, ...   \n",
       "\n",
       "                             display_name  \n",
       "0   patient.medication.carbidopa-levodopa  \n",
       "1             patient.food-drink.caffeine  \n",
       "2   patient.medication.carbidopa-levodopa  \n",
       "3                patient.medication.advil  \n",
       "4             patient.food-drink.caffeine  \n",
       "5               patient.symptom.on-period  \n",
       "6                patient.medication.advil  \n",
       "7                     patient.symptom.ocd  \n",
       "8                patient.medication.advil  \n",
       "9                     patient.symptom.ocd  \n",
       "10            patient.food-drink.caffeine  \n",
       "11                    patient.symptom.ocd  "
      ]
     },
     "execution_count": 6,
     "metadata": {},
     "output_type": "execute_result"
    }
   ],
   "source": [
    "# Display the contents of the dataframe.\n",
    "\n",
    "events"
   ]
  },
  {
   "cell_type": "markdown",
   "metadata": {},
   "source": [
    "A few things are evident from a quick glance at the dataframe:\n",
    "\n",
    "* There are 11 different events in this time frame (as there are 11 rows in the dataframe).\n",
    "* There are two timestamps:\n",
    "    * \"time\": When the event occurred\n",
    "    * \"created_time\": When the patient entered the event into Strive\n",
    "* The event_namespace, event_type, and event_enum categorize the events\n",
    "    * This is explained in the [API documentation](https://docs.runelabs.io/#tag/v1event-and-span).\n",
    "* There is additional information about many of the events in the payload."
   ]
  },
  {
   "cell_type": "markdown",
   "metadata": {},
   "source": [
    "### Find the available event namespaces:\n",
    "\n",
    "Explore the categorization of events further by finding all of the namespaces (sources of data) available in this dataset."
   ]
  },
  {
   "cell_type": "code",
   "execution_count": 7,
   "metadata": {
    "ExecuteTime": {
     "end_time": "2021-03-31T22:53:16.273664Z",
     "start_time": "2021-03-31T22:53:16.269926Z"
    }
   },
   "outputs": [
    {
     "data": {
      "text/plain": [
       "array(['patient'], dtype=object)"
      ]
     },
     "execution_count": 7,
     "metadata": {},
     "output_type": "execute_result"
    }
   ],
   "source": [
    "events.event_namespace.unique()"
   ]
  },
  {
   "cell_type": "markdown",
   "metadata": {},
   "source": [
    "Because a device ID was specified, and it corresponds to the StrivePD app, only the \"patient\" namespace appears. Other devices (e.g., Apple Watches or deep brain stimulators) are associated with different namespaces."
   ]
  },
  {
   "cell_type": "markdown",
   "metadata": {},
   "source": [
    "### Find the available event types for each event namespace:"
   ]
  },
  {
   "cell_type": "code",
   "execution_count": 8,
   "metadata": {
    "ExecuteTime": {
     "end_time": "2021-03-31T22:53:17.934662Z",
     "start_time": "2021-03-31T22:53:17.929862Z"
    }
   },
   "outputs": [
    {
     "data": {
      "text/plain": [
       "array(['medication', 'food-drink', 'symptom'], dtype=object)"
      ]
     },
     "execution_count": 8,
     "metadata": {},
     "output_type": "execute_result"
    }
   ],
   "source": [
    "events.loc[events['event_namespace'] == 'patient'].event_type.unique()"
   ]
  },
  {
   "cell_type": "markdown",
   "metadata": {},
   "source": [
    "* patient:\n",
    "    * medication\n",
    "    * food-drink\n",
    "    * symptom\n",
    "    \n",
    "These are the types of events that exist for this patient during the chosen time window, but different event types might exist at other times, or for other devices or patients."
   ]
  },
  {
   "cell_type": "markdown",
   "metadata": {},
   "source": [
    "### Explore the possible event enums for event types in the patient namespace:"
   ]
  },
  {
   "cell_type": "code",
   "execution_count": 9,
   "metadata": {
    "ExecuteTime": {
     "end_time": "2021-03-31T22:53:38.838784Z",
     "start_time": "2021-03-31T22:53:38.833142Z"
    }
   },
   "outputs": [
    {
     "name": "stdout",
     "output_type": "stream",
     "text": [
      "* \"medication\" event enums\n",
      "    * carbidopa-levodopa\n",
      "    * advil\n",
      "* \"food-drink\" event enums\n",
      "    * caffeine\n",
      "* \"symptom\" event enums\n",
      "    * on-period\n",
      "    * ocd\n"
     ]
    }
   ],
   "source": [
    "# Loop through the event types and print all unique enums for each.\n",
    "\n",
    "for event_type in ('medication', 'food-drink', 'symptom'):\n",
    "    print(f'* \"{event_type}\" event enums')\n",
    "    enums = events.loc[events['event_type'] == event_type].event_enum.unique()\n",
    "    for enum in enums:\n",
    "        print(f'    * {enum}')"
   ]
  },
  {
   "cell_type": "markdown",
   "metadata": {},
   "source": [
    "These are the specific events that the patient reported during the chosen time window.\n",
    "\n",
    "The symptom events may seem out of place, as one might expect symptoms to have a duration (and thus come from the Span\n",
    "endpoint). In this case, the \"on-period\" symptom was mistakenly reported without a duration. The \"ocd\" symptoms are periodic reports of obsessive compulsive disorder symptom severity using an OCD-specific measure.\n",
    "\n",
    "Let's focus on the \"carbidopa-levodopa\" medication events. To extract just those events, one could parse them from the complete dataframe, or pull them directly from the API.\n",
    "\n",
    "To pull them directly from the API, use the \"event\" parameter of the Event endpoint."
   ]
  },
  {
   "cell_type": "markdown",
   "metadata": {},
   "source": [
    "### Pull a specific type of event from the API:"
   ]
  },
  {
   "cell_type": "code",
   "execution_count": 10,
   "metadata": {
    "ExecuteTime": {
     "end_time": "2021-03-31T22:53:45.340154Z",
     "start_time": "2021-03-31T22:53:43.115678Z"
    }
   },
   "outputs": [],
   "source": [
    "# Copy the previously use parameters.\n",
    "params_levodopa = params.copy()\n",
    "\n",
    "# Add the desired \"event\" parameter to the new set of parameters.\n",
    "params_levodopa['event'] = 'patient.medication.carbidopa-levodopa'\n",
    "\n",
    "# Pull from the API with the specific parameter set.\n",
    "medication_levodopa_events = get_events(client, params_levodopa)"
   ]
  },
  {
   "cell_type": "markdown",
   "metadata": {},
   "source": [
    "### Examine the dataframe of carbidopa-levodopa medication events:"
   ]
  },
  {
   "cell_type": "code",
   "execution_count": 11,
   "metadata": {
    "ExecuteTime": {
     "end_time": "2021-03-31T22:53:46.751650Z",
     "start_time": "2021-03-31T22:53:46.740903Z"
    }
   },
   "outputs": [
    {
     "data": {
      "text/html": [
       "<div>\n",
       "<style scoped>\n",
       "    .dataframe tbody tr th:only-of-type {\n",
       "        vertical-align: middle;\n",
       "    }\n",
       "\n",
       "    .dataframe tbody tr th {\n",
       "        vertical-align: top;\n",
       "    }\n",
       "\n",
       "    .dataframe thead th {\n",
       "        text-align: right;\n",
       "    }\n",
       "</style>\n",
       "<table border=\"1\" class=\"dataframe\">\n",
       "  <thead>\n",
       "    <tr style=\"text-align: right;\">\n",
       "      <th></th>\n",
       "      <th>time</th>\n",
       "      <th>created_time</th>\n",
       "      <th>device_id</th>\n",
       "      <th>id</th>\n",
       "      <th>event_namespace</th>\n",
       "      <th>event_type</th>\n",
       "      <th>event_enum</th>\n",
       "      <th>payload</th>\n",
       "      <th>display_name</th>\n",
       "    </tr>\n",
       "  </thead>\n",
       "  <tbody>\n",
       "    <tr>\n",
       "      <th>0</th>\n",
       "      <td>1613506500</td>\n",
       "      <td>1.613520e+09</td>\n",
       "      <td>84JO8cfE</td>\n",
       "      <td>event-0e82d4f-03fed649a0177b60ba5613645d2117b1...</td>\n",
       "      <td>patient</td>\n",
       "      <td>medication</td>\n",
       "      <td>carbidopa-levodopa</td>\n",
       "      <td>{'category': 'Medication', 'dosage_quantity': ...</td>\n",
       "      <td>patient.medication.carbidopa-levodopa</td>\n",
       "    </tr>\n",
       "    <tr>\n",
       "      <th>1</th>\n",
       "      <td>1613512800</td>\n",
       "      <td>1.613521e+09</td>\n",
       "      <td>84JO8cfE</td>\n",
       "      <td>event-0e82d4f-50a6710320ab862cb5ad5e1c838f5f35...</td>\n",
       "      <td>patient</td>\n",
       "      <td>medication</td>\n",
       "      <td>carbidopa-levodopa</td>\n",
       "      <td>{'category': 'Medication', 'dosage_quantity': ...</td>\n",
       "      <td>patient.medication.carbidopa-levodopa</td>\n",
       "    </tr>\n",
       "  </tbody>\n",
       "</table>\n",
       "</div>"
      ],
      "text/plain": [
       "         time  created_time device_id  \\\n",
       "0  1613506500  1.613520e+09  84JO8cfE   \n",
       "1  1613512800  1.613521e+09  84JO8cfE   \n",
       "\n",
       "                                                  id event_namespace  \\\n",
       "0  event-0e82d4f-03fed649a0177b60ba5613645d2117b1...         patient   \n",
       "1  event-0e82d4f-50a6710320ab862cb5ad5e1c838f5f35...         patient   \n",
       "\n",
       "   event_type          event_enum  \\\n",
       "0  medication  carbidopa-levodopa   \n",
       "1  medication  carbidopa-levodopa   \n",
       "\n",
       "                                             payload  \\\n",
       "0  {'category': 'Medication', 'dosage_quantity': ...   \n",
       "1  {'category': 'Medication', 'dosage_quantity': ...   \n",
       "\n",
       "                            display_name  \n",
       "0  patient.medication.carbidopa-levodopa  \n",
       "1  patient.medication.carbidopa-levodopa  "
      ]
     },
     "execution_count": 11,
     "metadata": {},
     "output_type": "execute_result"
    }
   ],
   "source": [
    "medication_levodopa_events"
   ]
  },
  {
   "cell_type": "markdown",
   "metadata": {},
   "source": [
    "This dataframe can be saved to a CSV file for local storage and access in other environments (e.g., Matlab)."
   ]
  },
  {
   "cell_type": "markdown",
   "metadata": {},
   "source": [
    "### Save the complete dataframe to a CSV file:"
   ]
  },
  {
   "cell_type": "code",
   "execution_count": 12,
   "metadata": {
    "ExecuteTime": {
     "end_time": "2021-03-30T22:57:27.342614Z",
     "start_time": "2021-03-30T22:57:27.336767Z"
    }
   },
   "outputs": [],
   "source": [
    "# Specify base path for saving data.\n",
    "BASE_PATH = '~/Documents/api_data/'\n",
    "\n",
    "# Create specific path for this file,\n",
    "#  appending the current date/time to avoid overwriting previous data.\n",
    "timestr = dt.datetime.now().strftime(\"%Y%m%d-%H%M%S\")\n",
    "save_filename = 'levodopa_' + timestr + '.csv'\n",
    "save_filepath = os.path.join(BASE_PATH, save_filename)\n",
    "\n",
    "# Save the dataframe to the specified file.\n",
    "medication_levodopa_events.to_csv(save_filepath, index=False)"
   ]
  },
  {
   "cell_type": "markdown",
   "metadata": {},
   "source": [
    "### Examine the payload of an event:\n",
    "\n",
    "In this particular case, additional information may be relevant, such as the dosage strength or quanitity, which are packed into the payload.\n",
    "\n",
    "Examine the payload of the first row in the dataframe:"
   ]
  },
  {
   "cell_type": "code",
   "execution_count": 12,
   "metadata": {
    "ExecuteTime": {
     "end_time": "2021-03-31T22:53:49.969586Z",
     "start_time": "2021-03-31T22:53:49.965459Z"
    }
   },
   "outputs": [
    {
     "data": {
      "text/plain": [
       "{'category': 'Medication',\n",
       " 'dosage_quantity': None,\n",
       " 'dosage_strength': None,\n",
       " 'failed_dose': False,\n",
       " 'name': 'Carbidopa/Levodopa',\n",
       " 'on_schedule': False}"
      ]
     },
     "execution_count": 12,
     "metadata": {},
     "output_type": "execute_result"
    }
   ],
   "source": [
    "medication_levodopa_events.iloc[0].payload"
   ]
  },
  {
   "cell_type": "markdown",
   "metadata": {
    "ExecuteTime": {
     "end_time": "2021-03-05T23:20:48.712577Z",
     "start_time": "2021-03-05T23:20:48.700169Z"
    }
   },
   "source": [
    "It appears this patient did not report the dosage strength or quantity in this instance.\n",
    "\n",
    "In some cases, it might be inconvenient to have the payload packed into one column of the CSV file.\n",
    "\n",
    "Expand the payload into separate columns in the dataframe:"
   ]
  },
  {
   "cell_type": "code",
   "execution_count": 13,
   "metadata": {
    "ExecuteTime": {
     "end_time": "2021-03-31T22:53:51.634560Z",
     "start_time": "2021-03-31T22:53:51.618196Z"
    }
   },
   "outputs": [
    {
     "data": {
      "text/html": [
       "<div>\n",
       "<style scoped>\n",
       "    .dataframe tbody tr th:only-of-type {\n",
       "        vertical-align: middle;\n",
       "    }\n",
       "\n",
       "    .dataframe tbody tr th {\n",
       "        vertical-align: top;\n",
       "    }\n",
       "\n",
       "    .dataframe thead th {\n",
       "        text-align: right;\n",
       "    }\n",
       "</style>\n",
       "<table border=\"1\" class=\"dataframe\">\n",
       "  <thead>\n",
       "    <tr style=\"text-align: right;\">\n",
       "      <th></th>\n",
       "      <th>time</th>\n",
       "      <th>created_time</th>\n",
       "      <th>device_id</th>\n",
       "      <th>id</th>\n",
       "      <th>event_namespace</th>\n",
       "      <th>event_type</th>\n",
       "      <th>event_enum</th>\n",
       "      <th>display_name</th>\n",
       "      <th>category</th>\n",
       "      <th>dosage_quantity</th>\n",
       "      <th>dosage_strength</th>\n",
       "      <th>failed_dose</th>\n",
       "      <th>name</th>\n",
       "      <th>on_schedule</th>\n",
       "    </tr>\n",
       "  </thead>\n",
       "  <tbody>\n",
       "    <tr>\n",
       "      <th>0</th>\n",
       "      <td>1613506500</td>\n",
       "      <td>1.613520e+09</td>\n",
       "      <td>84JO8cfE</td>\n",
       "      <td>event-0e82d4f-03fed649a0177b60ba5613645d2117b1...</td>\n",
       "      <td>patient</td>\n",
       "      <td>medication</td>\n",
       "      <td>carbidopa-levodopa</td>\n",
       "      <td>patient.medication.carbidopa-levodopa</td>\n",
       "      <td>Medication</td>\n",
       "      <td>NaN</td>\n",
       "      <td>None</td>\n",
       "      <td>False</td>\n",
       "      <td>Carbidopa/Levodopa</td>\n",
       "      <td>False</td>\n",
       "    </tr>\n",
       "    <tr>\n",
       "      <th>1</th>\n",
       "      <td>1613512800</td>\n",
       "      <td>1.613521e+09</td>\n",
       "      <td>84JO8cfE</td>\n",
       "      <td>event-0e82d4f-50a6710320ab862cb5ad5e1c838f5f35...</td>\n",
       "      <td>patient</td>\n",
       "      <td>medication</td>\n",
       "      <td>carbidopa-levodopa</td>\n",
       "      <td>patient.medication.carbidopa-levodopa</td>\n",
       "      <td>Medication</td>\n",
       "      <td>0.25</td>\n",
       "      <td>None</td>\n",
       "      <td>False</td>\n",
       "      <td>Carbidopa/Levodopa</td>\n",
       "      <td>False</td>\n",
       "    </tr>\n",
       "  </tbody>\n",
       "</table>\n",
       "</div>"
      ],
      "text/plain": [
       "         time  created_time device_id  \\\n",
       "0  1613506500  1.613520e+09  84JO8cfE   \n",
       "1  1613512800  1.613521e+09  84JO8cfE   \n",
       "\n",
       "                                                  id event_namespace  \\\n",
       "0  event-0e82d4f-03fed649a0177b60ba5613645d2117b1...         patient   \n",
       "1  event-0e82d4f-50a6710320ab862cb5ad5e1c838f5f35...         patient   \n",
       "\n",
       "   event_type          event_enum                           display_name  \\\n",
       "0  medication  carbidopa-levodopa  patient.medication.carbidopa-levodopa   \n",
       "1  medication  carbidopa-levodopa  patient.medication.carbidopa-levodopa   \n",
       "\n",
       "     category  dosage_quantity dosage_strength  failed_dose  \\\n",
       "0  Medication              NaN            None        False   \n",
       "1  Medication             0.25            None        False   \n",
       "\n",
       "                 name  on_schedule  \n",
       "0  Carbidopa/Levodopa        False  \n",
       "1  Carbidopa/Levodopa        False  "
      ]
     },
     "execution_count": 13,
     "metadata": {},
     "output_type": "execute_result"
    }
   ],
   "source": [
    "medication_levodopa_events_expanded = pd.concat([medication_levodopa_events.drop(\n",
    "    'payload', axis=1), pd.DataFrame(medication_levodopa_events['payload'].tolist())], axis=1)\n",
    "\n",
    "# Examine the result.\n",
    "medication_levodopa_events_expanded"
   ]
  },
  {
   "cell_type": "markdown",
   "metadata": {},
   "source": [
    "### Save the expanded version to a CSV file:"
   ]
  },
  {
   "cell_type": "code",
   "execution_count": 15,
   "metadata": {
    "ExecuteTime": {
     "end_time": "2021-03-30T22:57:37.854667Z",
     "start_time": "2021-03-30T22:57:37.850187Z"
    }
   },
   "outputs": [],
   "source": [
    "# Create a specific path for this expanded levodopa file,\n",
    "#  appending the current date/time to avoid overwriting previous data.\n",
    "timestr = dt.datetime.now().strftime(\"%Y%m%d-%H%M%S\")\n",
    "save_filename = 'medication_levodopa_expanded_' + timestr + '.csv'\n",
    "save_filepath = os.path.join(BASE_PATH, save_filename)\n",
    "\n",
    "# Save the dataframe to the specified file.\n",
    "medication_levodopa_events_expanded.to_csv(save_filepath, index=False)"
   ]
  },
  {
   "cell_type": "markdown",
   "metadata": {},
   "source": [
    "### An aside on expanding payloads in dataframes:\n",
    "\n",
    "The code used above to expand the payload of a particular event type or enum can be applied to dataframes that include more varied events. All of the fields in the different payloads become columns, and events that do not include some of those fields will have NaN values.\n",
    "\n",
    "In the above example, just substitute `events` for `medication_levodopa_events`."
   ]
  },
  {
   "cell_type": "markdown",
   "metadata": {},
   "source": [
    "## 4. Explore the Spans\n",
    "\n",
    "Next, we'll explore the \"Spans\" (which have duration).\n",
    "\n",
    "To get a feel for the structure of the data, first examine the contents of the dataframe directly."
   ]
  },
  {
   "cell_type": "code",
   "execution_count": 14,
   "metadata": {
    "ExecuteTime": {
     "end_time": "2021-03-31T22:53:56.346629Z",
     "start_time": "2021-03-31T22:53:56.327918Z"
    }
   },
   "outputs": [
    {
     "data": {
      "text/html": [
       "<div>\n",
       "<style scoped>\n",
       "    .dataframe tbody tr th:only-of-type {\n",
       "        vertical-align: middle;\n",
       "    }\n",
       "\n",
       "    .dataframe tbody tr th {\n",
       "        vertical-align: top;\n",
       "    }\n",
       "\n",
       "    .dataframe thead th {\n",
       "        text-align: right;\n",
       "    }\n",
       "</style>\n",
       "<table border=\"1\" class=\"dataframe\">\n",
       "  <thead>\n",
       "    <tr style=\"text-align: right;\">\n",
       "      <th></th>\n",
       "      <th>start_time_min</th>\n",
       "      <th>start_time</th>\n",
       "      <th>end_time</th>\n",
       "      <th>end_time_max</th>\n",
       "      <th>created_time</th>\n",
       "      <th>device_id</th>\n",
       "      <th>id</th>\n",
       "      <th>event_namespace</th>\n",
       "      <th>event_type</th>\n",
       "      <th>event_enum</th>\n",
       "      <th>payload</th>\n",
       "      <th>display_name</th>\n",
       "    </tr>\n",
       "  </thead>\n",
       "  <tbody>\n",
       "    <tr>\n",
       "      <th>0</th>\n",
       "      <td>1.613502e+09</td>\n",
       "      <td>1.613502e+09</td>\n",
       "      <td>1.613504e+09</td>\n",
       "      <td>1.613504e+09</td>\n",
       "      <td>1.613520e+09</td>\n",
       "      <td>84JO8cfE</td>\n",
       "      <td>event-0e82d4f-7cfc718bc93ec92e1c2cc407065792b7...</td>\n",
       "      <td>patient</td>\n",
       "      <td>sleep</td>\n",
       "      <td>normal</td>\n",
       "      <td>{'category': 'Sleep', 'hours_slept': '0.5', 'n...</td>\n",
       "      <td>patient.sleep.normal</td>\n",
       "    </tr>\n",
       "    <tr>\n",
       "      <th>1</th>\n",
       "      <td>1.613505e+09</td>\n",
       "      <td>1.613505e+09</td>\n",
       "      <td>1.613505e+09</td>\n",
       "      <td>1.613508e+09</td>\n",
       "      <td>1.613520e+09</td>\n",
       "      <td>84JO8cfE</td>\n",
       "      <td>event-0e82d4f-9af8d6d42c8f34b7984f40c77e3d48eb...</td>\n",
       "      <td>patient</td>\n",
       "      <td>symptom</td>\n",
       "      <td>off-period</td>\n",
       "      <td>{'category': 'Symptom', 'duration': '&lt;=1h', 'i...</td>\n",
       "      <td>patient.symptom.off-period</td>\n",
       "    </tr>\n",
       "    <tr>\n",
       "      <th>2</th>\n",
       "      <td>1.613509e+09</td>\n",
       "      <td>1.613509e+09</td>\n",
       "      <td>1.613509e+09</td>\n",
       "      <td>1.613513e+09</td>\n",
       "      <td>1.613521e+09</td>\n",
       "      <td>84JO8cfE</td>\n",
       "      <td>event-0e82d4f-284e282ff185184c317b30be1faf0fc3...</td>\n",
       "      <td>patient</td>\n",
       "      <td>symptom</td>\n",
       "      <td>on-period</td>\n",
       "      <td>{'category': 'Symptom', 'duration': '&lt;=1h', 'i...</td>\n",
       "      <td>patient.symptom.on-period</td>\n",
       "    </tr>\n",
       "    <tr>\n",
       "      <th>3</th>\n",
       "      <td>1.613509e+09</td>\n",
       "      <td>1.613509e+09</td>\n",
       "      <td>1.613509e+09</td>\n",
       "      <td>1.613511e+09</td>\n",
       "      <td>1.613520e+09</td>\n",
       "      <td>84JO8cfE</td>\n",
       "      <td>event-0e82d4f-2edb4019ed381ff7e0d8260373638fdd...</td>\n",
       "      <td>patient</td>\n",
       "      <td>activity</td>\n",
       "      <td>boxing</td>\n",
       "      <td>{'category': 'Activity', 'duration': '&lt;=30m', ...</td>\n",
       "      <td>patient.activity.boxing</td>\n",
       "    </tr>\n",
       "    <tr>\n",
       "      <th>4</th>\n",
       "      <td>1.613516e+09</td>\n",
       "      <td>1.613516e+09</td>\n",
       "      <td>1.613516e+09</td>\n",
       "      <td>1.613517e+09</td>\n",
       "      <td>1.613521e+09</td>\n",
       "      <td>84JO8cfE</td>\n",
       "      <td>event-0e82d4f-9bb5604f3d43b24a253edb95ff3bdefc...</td>\n",
       "      <td>patient</td>\n",
       "      <td>side-effect</td>\n",
       "      <td>dyskinesia</td>\n",
       "      <td>{'category': 'Side Effect', 'duration': '&lt;=30m...</td>\n",
       "      <td>patient.side-effect.dyskinesia</td>\n",
       "    </tr>\n",
       "    <tr>\n",
       "      <th>5</th>\n",
       "      <td>1.613604e+09</td>\n",
       "      <td>1.613604e+09</td>\n",
       "      <td>1.613604e+09</td>\n",
       "      <td>1.613606e+09</td>\n",
       "      <td>1.613608e+09</td>\n",
       "      <td>84JO8cfE</td>\n",
       "      <td>event-0e82d4f-c1aedb55a9f635218bb9c82df260b77e...</td>\n",
       "      <td>patient</td>\n",
       "      <td>activity</td>\n",
       "      <td>tai-chi</td>\n",
       "      <td>{'category': 'Activity', 'duration': '&lt;=30m', ...</td>\n",
       "      <td>patient.activity.tai-chi</td>\n",
       "    </tr>\n",
       "    <tr>\n",
       "      <th>6</th>\n",
       "      <td>1.613607e+09</td>\n",
       "      <td>1.613607e+09</td>\n",
       "      <td>1.613607e+09</td>\n",
       "      <td>1.613608e+09</td>\n",
       "      <td>1.613608e+09</td>\n",
       "      <td>84JO8cfE</td>\n",
       "      <td>event-0e82d4f-74323a6322148bc8a90bfe00bf7e8bd9...</td>\n",
       "      <td>patient</td>\n",
       "      <td>symptom</td>\n",
       "      <td>balance-issues</td>\n",
       "      <td>{'category': 'Symptom', 'duration': '&lt;=15m', '...</td>\n",
       "      <td>patient.symptom.balance-issues</td>\n",
       "    </tr>\n",
       "    <tr>\n",
       "      <th>7</th>\n",
       "      <td>1.613756e+09</td>\n",
       "      <td>1.613756e+09</td>\n",
       "      <td>1.613756e+09</td>\n",
       "      <td>1.613758e+09</td>\n",
       "      <td>1.613758e+09</td>\n",
       "      <td>84JO8cfE</td>\n",
       "      <td>event-0e82d4f-eef1c7766693431ea992b27f9af3ef2b...</td>\n",
       "      <td>patient</td>\n",
       "      <td>activity</td>\n",
       "      <td>tai-chi</td>\n",
       "      <td>{'category': 'Activity', 'duration': '&lt;=30m', ...</td>\n",
       "      <td>patient.activity.tai-chi</td>\n",
       "    </tr>\n",
       "  </tbody>\n",
       "</table>\n",
       "</div>"
      ],
      "text/plain": [
       "   start_time_min    start_time      end_time  end_time_max  created_time  \\\n",
       "0    1.613502e+09  1.613502e+09  1.613504e+09  1.613504e+09  1.613520e+09   \n",
       "1    1.613505e+09  1.613505e+09  1.613505e+09  1.613508e+09  1.613520e+09   \n",
       "2    1.613509e+09  1.613509e+09  1.613509e+09  1.613513e+09  1.613521e+09   \n",
       "3    1.613509e+09  1.613509e+09  1.613509e+09  1.613511e+09  1.613520e+09   \n",
       "4    1.613516e+09  1.613516e+09  1.613516e+09  1.613517e+09  1.613521e+09   \n",
       "5    1.613604e+09  1.613604e+09  1.613604e+09  1.613606e+09  1.613608e+09   \n",
       "6    1.613607e+09  1.613607e+09  1.613607e+09  1.613608e+09  1.613608e+09   \n",
       "7    1.613756e+09  1.613756e+09  1.613756e+09  1.613758e+09  1.613758e+09   \n",
       "\n",
       "  device_id                                                 id  \\\n",
       "0  84JO8cfE  event-0e82d4f-7cfc718bc93ec92e1c2cc407065792b7...   \n",
       "1  84JO8cfE  event-0e82d4f-9af8d6d42c8f34b7984f40c77e3d48eb...   \n",
       "2  84JO8cfE  event-0e82d4f-284e282ff185184c317b30be1faf0fc3...   \n",
       "3  84JO8cfE  event-0e82d4f-2edb4019ed381ff7e0d8260373638fdd...   \n",
       "4  84JO8cfE  event-0e82d4f-9bb5604f3d43b24a253edb95ff3bdefc...   \n",
       "5  84JO8cfE  event-0e82d4f-c1aedb55a9f635218bb9c82df260b77e...   \n",
       "6  84JO8cfE  event-0e82d4f-74323a6322148bc8a90bfe00bf7e8bd9...   \n",
       "7  84JO8cfE  event-0e82d4f-eef1c7766693431ea992b27f9af3ef2b...   \n",
       "\n",
       "  event_namespace   event_type      event_enum  \\\n",
       "0         patient        sleep          normal   \n",
       "1         patient      symptom      off-period   \n",
       "2         patient      symptom       on-period   \n",
       "3         patient     activity          boxing   \n",
       "4         patient  side-effect      dyskinesia   \n",
       "5         patient     activity         tai-chi   \n",
       "6         patient      symptom  balance-issues   \n",
       "7         patient     activity         tai-chi   \n",
       "\n",
       "                                             payload  \\\n",
       "0  {'category': 'Sleep', 'hours_slept': '0.5', 'n...   \n",
       "1  {'category': 'Symptom', 'duration': '<=1h', 'i...   \n",
       "2  {'category': 'Symptom', 'duration': '<=1h', 'i...   \n",
       "3  {'category': 'Activity', 'duration': '<=30m', ...   \n",
       "4  {'category': 'Side Effect', 'duration': '<=30m...   \n",
       "5  {'category': 'Activity', 'duration': '<=30m', ...   \n",
       "6  {'category': 'Symptom', 'duration': '<=15m', '...   \n",
       "7  {'category': 'Activity', 'duration': '<=30m', ...   \n",
       "\n",
       "                     display_name  \n",
       "0            patient.sleep.normal  \n",
       "1      patient.symptom.off-period  \n",
       "2       patient.symptom.on-period  \n",
       "3         patient.activity.boxing  \n",
       "4  patient.side-effect.dyskinesia  \n",
       "5        patient.activity.tai-chi  \n",
       "6  patient.symptom.balance-issues  \n",
       "7        patient.activity.tai-chi  "
      ]
     },
     "execution_count": 14,
     "metadata": {},
     "output_type": "execute_result"
    }
   ],
   "source": [
    "# Display the contents of the dataframe.\n",
    "\n",
    "spans"
   ]
  },
  {
   "cell_type": "markdown",
   "metadata": {},
   "source": [
    "A few things are evident from a quick glance at the dataframe:\n",
    "\n",
    "* There are only seven different events in this time frame (as there are seven rows in the dataframe).\n",
    "* There are five timestamps:\n",
    "    * \"start_time_min\": A \"fuzzy\" or uncertain start of the event\n",
    "    * \"start_time\": The time when the event is certain to have started\n",
    "    * \"end_time\": The time when the event is certain to have ended\n",
    "    * \"end_time_max\": A \"fuzzy\" or uncertain end of the event\n",
    "    * \"created_time\": When the patient entered the event into Strive\n",
    "    * (If the patient did not mark a \"fuzzy\" duration, the pairs of start/end times will match.)\n",
    "* The event_namespace, event_type, and event_enum categorize the spans, as they do events.\n",
    "* There is additional information about the spans in the payload.\n",
    "\n",
    "The possible event_namespace, event_type, and event_num values can be explored for spans exactly as they were explored for events."
   ]
  },
  {
   "cell_type": "markdown",
   "metadata": {},
   "source": [
    "### Find the available event types and enums:"
   ]
  },
  {
   "cell_type": "code",
   "execution_count": 15,
   "metadata": {
    "ExecuteTime": {
     "end_time": "2021-03-31T22:53:59.033944Z",
     "start_time": "2021-03-31T22:53:59.028906Z"
    }
   },
   "outputs": [
    {
     "data": {
      "text/plain": [
       "array(['sleep', 'symptom', 'activity', 'side-effect'], dtype=object)"
      ]
     },
     "execution_count": 15,
     "metadata": {},
     "output_type": "execute_result"
    }
   ],
   "source": [
    "spans.loc[spans['event_namespace'] == 'patient'].event_type.unique()"
   ]
  },
  {
   "cell_type": "code",
   "execution_count": 16,
   "metadata": {
    "ExecuteTime": {
     "end_time": "2021-03-31T22:54:00.493458Z",
     "start_time": "2021-03-31T22:54:00.487202Z"
    }
   },
   "outputs": [
    {
     "name": "stdout",
     "output_type": "stream",
     "text": [
      "* \"activity\" event enums\n",
      "    * boxing\n",
      "    * tai-chi\n",
      "* \"side-effect\" event enums\n",
      "    * dyskinesia\n",
      "* \"sleep\" event enums\n",
      "    * normal\n",
      "* \"symptom\" event enums\n",
      "    * off-period\n",
      "    * on-period\n",
      "    * balance-issues\n"
     ]
    }
   ],
   "source": [
    "# Loop through the event types and print all unique enums for each.\n",
    "\n",
    "for event_type in ('activity', 'side-effect', 'sleep', 'symptom'):\n",
    "    print(f'* \"{event_type}\" event enums')\n",
    "    enums = spans.loc[spans['event_type'] == event_type].event_enum.unique()\n",
    "    for enum in enums:\n",
    "        print(f'    * {enum}')"
   ]
  },
  {
   "cell_type": "markdown",
   "metadata": {},
   "source": [
    "These are the specific spans that the patient reported during the chosen time window.\n",
    "\n",
    "To extract specific spans, one could parse them from the complete dataframe, or pull them directly from the API, as in the previous \"Event\" example."
   ]
  },
  {
   "cell_type": "markdown",
   "metadata": {},
   "source": [
    "### Save the complete dataframe to a CSV file:"
   ]
  },
  {
   "cell_type": "code",
   "execution_count": 19,
   "metadata": {
    "ExecuteTime": {
     "end_time": "2021-03-30T22:57:48.396800Z",
     "start_time": "2021-03-30T22:57:48.392260Z"
    }
   },
   "outputs": [],
   "source": [
    "# Create specific path for this file,\n",
    "#  appending the current date/time to avoid overwriting previous data.\n",
    "timestr = dt.datetime.now().strftime(\"%Y%m%d-%H%M%S\")\n",
    "save_filename = 'spans_' + timestr + '.csv'\n",
    "save_filepath = os.path.join(BASE_PATH, save_filename)\n",
    "\n",
    "# Save the dataframe to the specified file.\n",
    "spans.to_csv(save_filepath, index=False)"
   ]
  },
  {
   "cell_type": "markdown",
   "metadata": {},
   "source": [
    "### Examine the payload of a span:\n",
    "\n",
    "Additional information may be relevant, such as the quality or interruptions of sleep, which are packed into the payload.\n",
    "\n",
    "Examine the payload of the first row in the dataframe:"
   ]
  },
  {
   "cell_type": "code",
   "execution_count": 17,
   "metadata": {
    "ExecuteTime": {
     "end_time": "2021-03-31T22:54:04.622785Z",
     "start_time": "2021-03-31T22:54:04.618761Z"
    }
   },
   "outputs": [
    {
     "data": {
      "text/plain": [
       "{'category': 'Sleep',\n",
       " 'hours_slept': '0.5',\n",
       " 'name': 'Sleep',\n",
       " 'nap': True,\n",
       " 'quality': 'poor',\n",
       " 'times_woken_up': '0'}"
      ]
     },
     "execution_count": 17,
     "metadata": {},
     "output_type": "execute_result"
    }
   ],
   "source": [
    "spans.iloc[0].payload"
   ]
  },
  {
   "cell_type": "markdown",
   "metadata": {},
   "source": [
    "There seem to be several interesting variables in the payload, so it might be inconvenient to have the payload packed into one column of the CSV file.\n",
    "\n",
    "However, the fields in the payload may not apply to other types of spans. Symptoms have no \"nap\" variable. If all of these span types are expanded together, there will be columns with many NaN values.\n",
    "\n",
    "To make the data clearer, extract one type of span from the dataframe, and then expand the payload into separate columns in the dataframe:"
   ]
  },
  {
   "cell_type": "code",
   "execution_count": 18,
   "metadata": {
    "ExecuteTime": {
     "end_time": "2021-03-31T22:54:07.328017Z",
     "start_time": "2021-03-31T22:54:07.309591Z"
    }
   },
   "outputs": [
    {
     "data": {
      "text/html": [
       "<div>\n",
       "<style scoped>\n",
       "    .dataframe tbody tr th:only-of-type {\n",
       "        vertical-align: middle;\n",
       "    }\n",
       "\n",
       "    .dataframe tbody tr th {\n",
       "        vertical-align: top;\n",
       "    }\n",
       "\n",
       "    .dataframe thead th {\n",
       "        text-align: right;\n",
       "    }\n",
       "</style>\n",
       "<table border=\"1\" class=\"dataframe\">\n",
       "  <thead>\n",
       "    <tr style=\"text-align: right;\">\n",
       "      <th></th>\n",
       "      <th>start_time_min</th>\n",
       "      <th>start_time</th>\n",
       "      <th>end_time</th>\n",
       "      <th>end_time_max</th>\n",
       "      <th>created_time</th>\n",
       "      <th>device_id</th>\n",
       "      <th>id</th>\n",
       "      <th>event_namespace</th>\n",
       "      <th>event_type</th>\n",
       "      <th>event_enum</th>\n",
       "      <th>display_name</th>\n",
       "      <th>category</th>\n",
       "      <th>hours_slept</th>\n",
       "      <th>name</th>\n",
       "      <th>nap</th>\n",
       "      <th>quality</th>\n",
       "      <th>times_woken_up</th>\n",
       "    </tr>\n",
       "  </thead>\n",
       "  <tbody>\n",
       "    <tr>\n",
       "      <th>0</th>\n",
       "      <td>1.613502e+09</td>\n",
       "      <td>1.613502e+09</td>\n",
       "      <td>1.613504e+09</td>\n",
       "      <td>1.613504e+09</td>\n",
       "      <td>1.613520e+09</td>\n",
       "      <td>84JO8cfE</td>\n",
       "      <td>event-0e82d4f-7cfc718bc93ec92e1c2cc407065792b7...</td>\n",
       "      <td>patient</td>\n",
       "      <td>sleep</td>\n",
       "      <td>normal</td>\n",
       "      <td>patient.sleep.normal</td>\n",
       "      <td>Sleep</td>\n",
       "      <td>0.5</td>\n",
       "      <td>Sleep</td>\n",
       "      <td>True</td>\n",
       "      <td>poor</td>\n",
       "      <td>0</td>\n",
       "    </tr>\n",
       "  </tbody>\n",
       "</table>\n",
       "</div>"
      ],
      "text/plain": [
       "   start_time_min    start_time      end_time  end_time_max  created_time  \\\n",
       "0    1.613502e+09  1.613502e+09  1.613504e+09  1.613504e+09  1.613520e+09   \n",
       "\n",
       "  device_id                                                 id  \\\n",
       "0  84JO8cfE  event-0e82d4f-7cfc718bc93ec92e1c2cc407065792b7...   \n",
       "\n",
       "  event_namespace event_type event_enum          display_name category  \\\n",
       "0         patient      sleep     normal  patient.sleep.normal    Sleep   \n",
       "\n",
       "  hours_slept   name   nap quality times_woken_up  \n",
       "0         0.5  Sleep  True    poor              0  "
      ]
     },
     "execution_count": 18,
     "metadata": {},
     "output_type": "execute_result"
    }
   ],
   "source": [
    "# Extract 'sleep' rows from the dataframe.\n",
    "sleep_spans = spans[spans.event_type == 'sleep']\n",
    "\n",
    "# Expand the payload into columns.\n",
    "sleep_spans_expanded = pd.concat([sleep_spans.drop(\n",
    "    'payload', axis=1), pd.DataFrame(sleep_spans['payload'].tolist())], axis=1)\n",
    "\n",
    "# Examine result.\n",
    "sleep_spans_expanded"
   ]
  },
  {
   "cell_type": "markdown",
   "metadata": {},
   "source": [
    "### Save the expanded version to a CSV file:"
   ]
  },
  {
   "cell_type": "code",
   "execution_count": 34,
   "metadata": {
    "ExecuteTime": {
     "end_time": "2021-03-30T22:51:47.196627Z",
     "start_time": "2021-03-30T22:51:47.191567Z"
    }
   },
   "outputs": [],
   "source": [
    "# Create specific path for this file,\n",
    "#  appending the current date/time to avoid overwriting previous data.\n",
    "timestr = dt.datetime.now().strftime(\"%Y%m%d-%H%M%S\")\n",
    "save_filename = 'sleep_expanded_' + timestr + '.csv'\n",
    "save_filepath = os.path.join(BASE_PATH, save_filename)\n",
    "\n",
    "# Save the dataframe to the specified file.\n",
    "sleep_spans_expanded.to_csv(save_filepath, index=False)"
   ]
  },
  {
   "cell_type": "markdown",
   "metadata": {},
   "source": [
    "## 5. Summary\n",
    "\n",
    "This notebook serves as a tutorial for exploring and pulling patient-reported data from the Event and Span endpoints of the [Rune API](https://docs.runelabs.io/). The included procedure can be followed to explore any data that takes the form of \"events\" (i.e., occur at one point in time) or \"spans\" (i.e., have duration). Once the desired classifications of data (namespace, category, and enum) are ascertained, specific data can be pulled from the API and manipulated or stored for further use."
   ]
  }
 ],
 "metadata": {
  "kernelspec": {
   "display_name": "Python 3 (ipykernel)",
   "language": "python",
   "name": "python3"
  },
  "language_info": {
   "codemirror_mode": {
    "name": "ipython",
    "version": 3
   },
   "file_extension": ".py",
   "mimetype": "text/x-python",
   "name": "python",
   "nbconvert_exporter": "python",
   "pygments_lexer": "ipython3",
   "version": "3.8.5"
  },
  "varInspector": {
   "cols": {
    "lenName": 16,
    "lenType": 16,
    "lenVar": 40
   },
   "kernels_config": {
    "python": {
     "delete_cmd_postfix": "",
     "delete_cmd_prefix": "del ",
     "library": "var_list.py",
     "varRefreshCmd": "print(var_dic_list())"
    },
    "r": {
     "delete_cmd_postfix": ") ",
     "delete_cmd_prefix": "rm(",
     "library": "var_list.r",
     "varRefreshCmd": "cat(var_dic_list()) "
    }
   },
   "types_to_exclude": [
    "module",
    "function",
    "builtin_function_or_method",
    "instance",
    "_Feature"
   ],
   "window_display": false
  }
 },
 "nbformat": 4,
 "nbformat_minor": 4
}
