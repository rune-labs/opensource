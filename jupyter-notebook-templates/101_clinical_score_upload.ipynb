{
 "cells": [
  {
   "cell_type": "markdown",
   "metadata": {},
   "source": [
    "# Uploading Clinical Scores and Similar Data to the Rune Platform\n",
    "\n",
    "Various types of data are ingested into the Rune platform in different ways. Neural signals from deep brain stimulation devices are automatically uploaded via our Box.com integration. Wearable data and patient reported outcomes are automatically uploaded via our iPhone/Apple Watch integration. However, research moves quickly, and not all emerging types of data are immediately compatible with our automated ingestion tools.\n",
    "\n",
    "For many such data types, our event ingestion API provides the flexibility to upload and ingest data into the platform. While it is not appropriate for dense streams of data (such as local field potentials or accelerometry), it can accommodate data that occur as individual events, including clinical assessments, symptom metrics, behavioral task data, etc.\n",
    "\n",
    "This notebook serves as a tutorial and template for upload and ingestion of such data, using the [Movement Disorders Society Unified Parkinson's Disease Rating Scale (MDS-UPDRS)](https://www.movementdisorders.org/MDS/MDS-Rating-Scales/MDS-Unified-Parkinsons-Disease-Rating-Scale-MDS-UPDRS.htm) as a common example. UPDRS scores can be placed in a CSV file in the format of [the provided example](https://rune-labs.quip.com/ooCbAOWCeWBT/UPDRSuploadformat), and uploaded using this notebook.\n",
    "\n",
    "This template is intended to serve as a basis for extensions that handle a variety of data types, depending on the specific needs of research groups and therapy developers. We are happy to help with your specific application.\n",
    "\n",
    "**Note:** Because no method is available for deletion of individual segments of data from the Rune platform, it is vital to check and confirm the format of the data before upload/ingestion. Mistakes could cause a patient's data record to become polluted with incorrect events. Functions for format checking of data are included for this purpose, and a separate \"clinical score\" device should be created for each patient. It is also recommended to create a test patient on the Rune platform, and upload to that patient first to confirm your code/data format.\n",
    "\n",
    "**Contents:**\n",
    "* [Set up](#Set-up)\n",
    "* [1. Configure API client](#1.-Configure-API-client)\n",
    "* [2. Define functions to create Events and Spans](#2.-Define-functions-to-create-Events-and-Spans)\n",
    "* [3. Read a clinical assessment from a CSV file](#3.-Read-a-clinical-assessment-from-a-CSV-file)\n",
    "* [4. Check the formatting of the data](#4.-Check-the-formatting-of-the-data)\n",
    "* [5. Ingest the items (assessment scores) as events](#5.-Ingest-the-items-(assessment-scores)-as-events)\n",
    "* [6. Pull the uploaded events from the Rune platform](#6.-Pull-the-uploaded-events-from-the-Rune-platform)"
   ]
  },
  {
   "cell_type": "markdown",
   "metadata": {},
   "source": [
    "---\n",
    "\n",
    "# Set up\n",
    "\n",
    "## Access credentials\n",
    "\n",
    "Pulling data from the Rune API requires a local configuration (.yaml) file that includes your Rune user access tokens (as discussed in previous example notebooks). Uploading data to the platform currently requires a second local configuration file, which includes client credentials for the specific patient for which you will upload data.\n",
    "\n",
    "### Your Rune user access tokens\n",
    "\n",
    "If you have not previously done so, you will need to set up your access tokens for read access to all patients within your organization. See our [API doc](https://docs.runelabs.io/stream/#section/Overview/Authentication) for instructions on how to set this up.\n",
    "\n",
    "Next, set up a .yaml file with your token ID and secret. This is text file that will store your credentials. See our [`runeq` quickstart](https://runeq.readthedocs.io/en/latest/pages/quickstart.html#configuration) for how to set this up.\n",
    "\n",
    "Once this is complete, you will have the following in `~/.rune/config.yaml`:\n",
    "\n",
    "```yaml\n",
    "access_token_id: 1234567890abcdef\n",
    "access_token_secret: 1234567890abcdef\n",
    "```\n",
    "\n",
    "### Client keys for the specific patient\n",
    "\n",
    "Next, you'll need a **client key pair** for the specific patient. Creation of these credentials requires admin access, and can be accomplished by the following steps: \n",
    "\n",
    "1. Open the settings menu for the patient.\n",
    "    * From the patient list, click the gear icon to the right of the \"browse\" and \"analyze\" buttons for the patient.\n",
    "    * **OR**\n",
    "    * While viewing the patient's data, click the gear icon next to the patient code name at the upper left of the screen.\n",
    "2. Click \"Clients\" on the left.\n",
    "3. Click \"Create Client\" at the top.\n",
    "4. Name the client something descriptive (e.g., Gavin's Macbook).\n",
    "5. Click \"Create.\"\n",
    "6. Copy and paste the given \"Client Key ID\" and \"Client Key Secret\" into a .yaml file with the below format.\n",
    "    * When finished, click \"Done.\" These credentials will never be shown again. You can create new credentials at any time using the \"New Key +\" button.\n",
    "\n",
    "Save these keys in a separate .yaml file (e.g., `~/.rune/config-patient01.yaml`:\n",
    "\n",
    "```yaml\n",
    "auth_method: client_keys\n",
    "client_key_id: 1234567890abcdef\n",
    "client_access_key: 1234567890abcdef\n",
    "stream_url: https://stream.runelabs.io\n",
    "```"
   ]
  },
  {
   "cell_type": "markdown",
   "metadata": {},
   "source": [
    "## Create a clinical assessment \"device\" for the patient\n",
    "\n",
    "Data on the Rune platform is associated with devices. LFP data from a Medtronic Percept device is associated with a Percept \"device\" on the platform. Symptom data from an Apple Watch is similarly associated with an Apple Watch \"device.\" To upload clinical assessment data, create a *clinical assessment* \"device\" for that patient on in the research portal. This requires admin level access. Create the device by following these steps:\n",
    "\n",
    "1. Open the settings menu for the patient.\n",
    "    * From the patient list, click the gear icon to the right of the \"browse\" and \"analyze\" buttons for the patient.\n",
    "    * **OR**\n",
    "    * While viewing the patient's data, click the gear icon next to the patient code name at the upper left of the screen.\n",
    "2. Click \"Devices\" on the left.\n",
    "3. Click \"Register Device\" at the top.\n",
    "4. Select \"Clinical Assessment\" as the device type.\n",
    "5. Name the device as desired in the \"Alias\" field (e.g., \"UPDRS scores\").\n",
    "6. Click \"Create.\"\n",
    "\n",
    "The `device_id` of this device will used in the API parameters below."
   ]
  },
  {
   "cell_type": "markdown",
   "metadata": {},
   "source": [
    "## Import necessary packages/modules\n",
    "\n",
    "Most of the packages/modules used here are included in the Python/Anaconda standard libraries. Others can be installed  using pip by opening a terminal (Apple/Linux) or Anaconda command prompt (Windows), and entering `pip install packagename`.\n",
    "\n",
    "Additional packages/modules:\n",
    "* `tzlocal.get_localzone`: Get local time zone in a usable format (i.e., not three-character designation).\n",
    "* `requests`: Handle HTTP requests to send data to the Rune platform.\n",
    "* `ipyfilechooser.FileChooser`: Browse for files on the local computer."
   ]
  },
  {
   "cell_type": "code",
   "execution_count": 1,
   "metadata": {
    "ExecuteTime": {
     "end_time": "2022-01-12T23:52:24.341799Z",
     "start_time": "2022-01-12T23:52:23.508672Z"
    }
   },
   "outputs": [],
   "source": [
    "import pandas as pd\n",
    "import datetime as dt\n",
    "import requests\n",
    "from pprint import pprint\n",
    "from tzlocal import get_localzone\n",
    "from ipyfilechooser import FileChooser\n",
    "from runeq import Config, stream"
   ]
  },
  {
   "cell_type": "markdown",
   "metadata": {},
   "source": [
    "---\n",
    "\n",
    "# 1. Configure API client\n",
    "\n",
    "Use the configuration files created above (in the set up instructions) to create an API client, and prepare accessors for the Event (and Span if desired) endpoint for the desired patient."
   ]
  },
  {
   "cell_type": "code",
   "execution_count": 2,
   "metadata": {
    "ExecuteTime": {
     "end_time": "2022-01-12T23:52:25.384222Z",
     "start_time": "2022-01-12T23:52:25.380008Z"
    }
   },
   "outputs": [],
   "source": [
    "# Create an API client with the user access token config file.\n",
    "#  (If the file is in the default location, ~/.rune/config.yaml,\n",
    "#   it is not necessary to pass the path to Config().)\n",
    "\n",
    "cfg = Config()\n",
    "client = stream.V1Client(cfg)\n",
    "\n",
    "data_url = 'https://data.runelabs.io'"
   ]
  },
  {
   "cell_type": "code",
   "execution_count": 3,
   "metadata": {
    "ExecuteTime": {
     "end_time": "2022-01-12T23:52:28.844636Z",
     "start_time": "2022-01-12T23:52:28.840218Z"
    }
   },
   "outputs": [],
   "source": [
    "# Prepare parameters for the Event/Span endpoints for the desired patient,\n",
    "#  using the client config file.\n",
    "\n",
    "patient_cfg = Config('~/.rune/config_patient01.yaml')\n",
    "\n",
    "patient_id = 'c118dbfff9644fbb83e5fe1982d4534c'\n",
    "device_id = 'M4S95rKL'"
   ]
  },
  {
   "cell_type": "code",
   "execution_count": 4,
   "metadata": {
    "ExecuteTime": {
     "end_time": "2022-01-12T23:52:30.144165Z",
     "start_time": "2022-01-12T23:52:30.141373Z"
    }
   },
   "outputs": [],
   "source": [
    "# Prepare accessors for the Event and Span API endpoints.\n",
    "\n",
    "event = client.Event(patient_id=patient_id, device_id=device_id)\n",
    "span = client.Span(patient_id=patient_id, device_id=device_id)"
   ]
  },
  {
   "cell_type": "markdown",
   "metadata": {},
   "source": [
    "---\n",
    "\n",
    "# 2. Define functions to create Events and Spans\n",
    "\n",
    "\"Events\" and \"spans\" are slightly different structures in the Rune platform.\n",
    "\n",
    "* Event: Events that occur at a single point in time\n",
    "* Span: Events that have duration, including \"fuzzy\" start and end times\n",
    "\n",
    "In this example, we will only be creating \"events,\" as we are representing assessments that are considered to have been recorded at a single point in time. To represent a task or assessment that has duration information, we would use \"spans.\"\n",
    "\n",
    "Functions are defined here for creating both events and spans on the Rune platform, but only the `create_event()` function will be used in this example."
   ]
  },
  {
   "cell_type": "code",
   "execution_count": 5,
   "metadata": {
    "ExecuteTime": {
     "end_time": "2022-01-12T23:52:42.131854Z",
     "start_time": "2022-01-12T23:52:42.125899Z"
    }
   },
   "outputs": [],
   "source": [
    "def create_event(\n",
    "    event_namespace,\n",
    "    event_type,\n",
    "    event_enum,\n",
    "    event_time,\n",
    "    event_description='',\n",
    "    add_payload=None,\n",
    "    device_id=device_id,\n",
    "    cfg=patient_cfg,\n",
    "    dry_run=False\n",
    "):\n",
    "    \"\"\"\n",
    "    Create an \"event\"\n",
    "\n",
    "    The event_description field is optional, and will be an empty string in the payload if not provided.\n",
    "    The add_payload field is optional, and the payload will include only the body below if not provided.\n",
    "    If dry_run is True, nothing will be posted to the Rune platform. This is for testing purposes.\n",
    "\n",
    "    \"\"\"\n",
    "    \n",
    "    body = {\n",
    "        'classification': f'{event_namespace}.{event_type}.{event_enum}',\n",
    "        'created_time': dt.datetime.utcnow().timestamp(),\n",
    "        'device_id': device_id,\n",
    "        'device_version': 'jupyter-notebook',\n",
    "        'payload': {\n",
    "            'category': event_type.upper(),  # Upper case for consistency\n",
    "            'name': event_enum,\n",
    "            'description': event_description\n",
    "        },\n",
    "        'time': event_time\n",
    "    }\n",
    "\n",
    "    if add_payload is not None:\n",
    "        body['payload'].update(add_payload)\n",
    "\n",
    "    if not dry_run:\n",
    "        r = requests.post(\n",
    "            f'{data_url}/rest/v1/event',\n",
    "            json=body,\n",
    "            headers=cfg.auth_headers,\n",
    "        )\n",
    "    else:\n",
    "        pprint(body)\n",
    "        r = None\n",
    "\n",
    "    return r"
   ]
  },
  {
   "cell_type": "code",
   "execution_count": 6,
   "metadata": {
    "ExecuteTime": {
     "end_time": "2022-01-12T23:52:42.822624Z",
     "start_time": "2022-01-12T23:52:42.817054Z"
    }
   },
   "outputs": [],
   "source": [
    "def create_span(\n",
    "    event_namespace,\n",
    "    event_type,\n",
    "    event_enum,\n",
    "    start_time,\n",
    "    end_time,\n",
    "    event_description='',\n",
    "    add_payload=None,\n",
    "    device_id=device_id,\n",
    "    cfg=patient_cfg,\n",
    "    dry_run=False\n",
    "):\n",
    "    \"\"\"\n",
    "    Create a \"span\"\n",
    "\n",
    "    The event_time parameter from the create_event() function is replaced here by start_time and end_time.\n",
    "    \n",
    "    The event_description field is optional, and will be an empty string in the payload if not provided.\n",
    "    The add_payload field is optional, and the payload will include only the body below if not provided.\n",
    "    If dry_run is True, nothing will be posted to the Rune platform. This is for testing purposes.\n",
    "\n",
    "    \"\"\"\n",
    "    \n",
    "    body = {\n",
    "        'classification': f'{event_namespace}.{event_type}.{event_enum}',\n",
    "        'created_time': dt.datetime.utcnow().timestamp(),\n",
    "        'device_id': device_id,\n",
    "        'device_version': 'jupyter-notebook',\n",
    "        'payload': {\n",
    "            'category': event_type.upper(),  # Upper case for consistency\n",
    "            'name': event_enum,\n",
    "            'description': event_description\n",
    "        },\n",
    "        'start_time': start_time,\n",
    "        'end_time': end_time,\n",
    "    }\n",
    "    \n",
    "    if add_payload is not None:\n",
    "        body['payload'].update(add_payload)\n",
    "\n",
    "    if not dry_run:\n",
    "        r = requests.post(\n",
    "            f'{data_url}/rest/v1/span',\n",
    "            json=body,\n",
    "            headers=cfg.auth_headers,\n",
    "        )\n",
    "    else:\n",
    "        pprint(body)\n",
    "        r = None\n",
    "        \n",
    "    return r"
   ]
  },
  {
   "cell_type": "markdown",
   "metadata": {},
   "source": [
    "---\n",
    "\n",
    "# 3. Read a clinical assessment from a CSV file\n",
    "\n",
    "The API is flexible, allowing ingestion of events in a variety of formats. However, to ease analysis of uploaded data and collaboration across institutions, consistency is ideal. This example focuses on UPDRS scores, and an example CSV file is provided with a suggested format [here](https://rune-labs.quip.com/ooCbAOWCeWBT/UPDRSuploadformat). In this file, each row corresponds to an item of the assessment. The code in this example is designed to handle this format, and it is recommended that UPDRS data files conform to it, including the item designations (e.g., `1_a`, `2_3`, `3_4a`). Section 4 below demonstrates how to define these item designations and test data for consistency.\n",
    "\n",
    "This code will also handle partial assessments, utilizing the same file format, but removing rows that correspond to missing items.\n",
    "\n",
    "This example can be modified as desired, and is intended to serve as a basis for other types of data (e.g., other clinical assessments, symptom metrics, behavioral task data). The code may require some modification to handle new formats.\n",
    "\n",
    "The steps below will:\n",
    "\n",
    "* Open a file chooser to select the desired file to upload\n",
    "* Read the file into a dataframe\n",
    "* Localize timestamps to the desired time zone and convert to UTC"
   ]
  },
  {
   "cell_type": "markdown",
   "metadata": {},
   "source": [
    "## Select the desired file"
   ]
  },
  {
   "cell_type": "code",
   "execution_count": 7,
   "metadata": {
    "ExecuteTime": {
     "end_time": "2022-01-12T23:52:45.156977Z",
     "start_time": "2022-01-12T23:52:45.101823Z"
    }
   },
   "outputs": [
    {
     "data": {
      "application/vnd.jupyter.widget-view+json": {
       "model_id": "6715116088054b2ebfcaaf218bd3b751",
       "version_major": 2,
       "version_minor": 0
      },
      "text/plain": [
       "FileChooser(path='/Users/gavin/Documents/GitHub/jupyter-notebook-templates', filename='', title='', show_hidde…"
      ]
     },
     "metadata": {},
     "output_type": "display_data"
    }
   ],
   "source": [
    "fc = FileChooser()\n",
    "display(fc)"
   ]
  },
  {
   "cell_type": "code",
   "execution_count": 8,
   "metadata": {
    "ExecuteTime": {
     "end_time": "2022-01-12T23:53:02.304387Z",
     "start_time": "2022-01-12T23:53:02.301928Z"
    }
   },
   "outputs": [],
   "source": [
    "file_path = fc.selected"
   ]
  },
  {
   "cell_type": "code",
   "execution_count": 9,
   "metadata": {
    "ExecuteTime": {
     "end_time": "2022-01-12T23:53:02.962947Z",
     "start_time": "2022-01-12T23:53:02.960274Z"
    }
   },
   "outputs": [
    {
     "name": "stdout",
     "output_type": "stream",
     "text": [
      "/Users/gavin/Documents/data/patient01/UPDRS_test.csv\n"
     ]
    }
   ],
   "source": [
    "print(file_path)"
   ]
  },
  {
   "cell_type": "markdown",
   "metadata": {},
   "source": [
    "The file chooser above is used for convenience, but it is also possible to define a file path manually/programatically if desired. For example:\n",
    "\n",
    "`file_path = '/Users/name/Documents/assessments/patient_001/patient001_UPDRS_2021-11-24.csv'`"
   ]
  },
  {
   "cell_type": "markdown",
   "metadata": {},
   "source": [
    "## Read the file into a dataframe"
   ]
  },
  {
   "cell_type": "code",
   "execution_count": 10,
   "metadata": {
    "ExecuteTime": {
     "end_time": "2022-01-12T23:53:05.027507Z",
     "start_time": "2022-01-12T23:53:05.019302Z"
    }
   },
   "outputs": [],
   "source": [
    "data = pd.read_csv(file_path, index_col=['Item'], parse_dates=[['Date','Time']])"
   ]
  },
  {
   "cell_type": "code",
   "execution_count": 11,
   "metadata": {
    "ExecuteTime": {
     "end_time": "2022-01-12T23:53:05.518627Z",
     "start_time": "2022-01-12T23:53:05.501969Z"
    }
   },
   "outputs": [
    {
     "data": {
      "text/html": [
       "<div>\n",
       "<style scoped>\n",
       "    .dataframe tbody tr th:only-of-type {\n",
       "        vertical-align: middle;\n",
       "    }\n",
       "\n",
       "    .dataframe tbody tr th {\n",
       "        vertical-align: top;\n",
       "    }\n",
       "\n",
       "    .dataframe thead th {\n",
       "        text-align: right;\n",
       "    }\n",
       "</style>\n",
       "<table border=\"1\" class=\"dataframe\">\n",
       "  <thead>\n",
       "    <tr style=\"text-align: right;\">\n",
       "      <th></th>\n",
       "      <th>Date_Time</th>\n",
       "      <th>Assessment</th>\n",
       "      <th>Description</th>\n",
       "      <th>Value</th>\n",
       "    </tr>\n",
       "    <tr>\n",
       "      <th>Item</th>\n",
       "      <th></th>\n",
       "      <th></th>\n",
       "      <th></th>\n",
       "      <th></th>\n",
       "    </tr>\n",
       "  </thead>\n",
       "  <tbody>\n",
       "    <tr>\n",
       "      <th>1_A</th>\n",
       "      <td>2021-07-28 10:52:00</td>\n",
       "      <td>UPDRS</td>\n",
       "      <td>Source of Information</td>\n",
       "      <td>patient</td>\n",
       "    </tr>\n",
       "    <tr>\n",
       "      <th>1_1</th>\n",
       "      <td>2021-07-28 10:52:00</td>\n",
       "      <td>UPDRS</td>\n",
       "      <td>Cognitive impairment</td>\n",
       "      <td>4</td>\n",
       "    </tr>\n",
       "    <tr>\n",
       "      <th>1_2</th>\n",
       "      <td>2021-07-28 10:52:00</td>\n",
       "      <td>UPDRS</td>\n",
       "      <td>Hallucinations and psychosis</td>\n",
       "      <td>4</td>\n",
       "    </tr>\n",
       "    <tr>\n",
       "      <th>1_3</th>\n",
       "      <td>2021-07-28 10:52:00</td>\n",
       "      <td>UPDRS</td>\n",
       "      <td>Depressed mood</td>\n",
       "      <td>4</td>\n",
       "    </tr>\n",
       "    <tr>\n",
       "      <th>1_4</th>\n",
       "      <td>2021-07-28 10:52:00</td>\n",
       "      <td>UPDRS</td>\n",
       "      <td>Anxious mood</td>\n",
       "      <td>4</td>\n",
       "    </tr>\n",
       "    <tr>\n",
       "      <th>...</th>\n",
       "      <td>...</td>\n",
       "      <td>...</td>\n",
       "      <td>...</td>\n",
       "      <td>...</td>\n",
       "    </tr>\n",
       "    <tr>\n",
       "      <th>4_2</th>\n",
       "      <td>2021-07-28 10:52:00</td>\n",
       "      <td>UPDRS</td>\n",
       "      <td>Functional impact of dyskinesias</td>\n",
       "      <td>4</td>\n",
       "    </tr>\n",
       "    <tr>\n",
       "      <th>4_3</th>\n",
       "      <td>2021-07-28 10:52:00</td>\n",
       "      <td>UPDRS</td>\n",
       "      <td>Time spent in the OFF state</td>\n",
       "      <td>4</td>\n",
       "    </tr>\n",
       "    <tr>\n",
       "      <th>4_4</th>\n",
       "      <td>2021-07-28 10:52:00</td>\n",
       "      <td>UPDRS</td>\n",
       "      <td>Functional impact of fluctuations</td>\n",
       "      <td>4</td>\n",
       "    </tr>\n",
       "    <tr>\n",
       "      <th>4_5</th>\n",
       "      <td>2021-07-28 10:52:00</td>\n",
       "      <td>UPDRS</td>\n",
       "      <td>Complexity of motor fluctuations</td>\n",
       "      <td>4</td>\n",
       "    </tr>\n",
       "    <tr>\n",
       "      <th>4_6</th>\n",
       "      <td>2021-07-28 10:52:00</td>\n",
       "      <td>UPDRS</td>\n",
       "      <td>Painful OFF-state dystonia</td>\n",
       "      <td>4</td>\n",
       "    </tr>\n",
       "  </tbody>\n",
       "</table>\n",
       "<p>74 rows × 4 columns</p>\n",
       "</div>"
      ],
      "text/plain": [
       "               Date_Time Assessment                        Description  \\\n",
       "Item                                                                     \n",
       "1_A  2021-07-28 10:52:00      UPDRS              Source of Information   \n",
       "1_1  2021-07-28 10:52:00      UPDRS               Cognitive impairment   \n",
       "1_2  2021-07-28 10:52:00      UPDRS       Hallucinations and psychosis   \n",
       "1_3  2021-07-28 10:52:00      UPDRS                     Depressed mood   \n",
       "1_4  2021-07-28 10:52:00      UPDRS                       Anxious mood   \n",
       "...                  ...        ...                                ...   \n",
       "4_2  2021-07-28 10:52:00      UPDRS   Functional impact of dyskinesias   \n",
       "4_3  2021-07-28 10:52:00      UPDRS        Time spent in the OFF state   \n",
       "4_4  2021-07-28 10:52:00      UPDRS  Functional impact of fluctuations   \n",
       "4_5  2021-07-28 10:52:00      UPDRS   Complexity of motor fluctuations   \n",
       "4_6  2021-07-28 10:52:00      UPDRS         Painful OFF-state dystonia   \n",
       "\n",
       "        Value  \n",
       "Item           \n",
       "1_A   patient  \n",
       "1_1         4  \n",
       "1_2         4  \n",
       "1_3         4  \n",
       "1_4         4  \n",
       "...       ...  \n",
       "4_2         4  \n",
       "4_3         4  \n",
       "4_4         4  \n",
       "4_5         4  \n",
       "4_6         4  \n",
       "\n",
       "[74 rows x 4 columns]"
      ]
     },
     "execution_count": 11,
     "metadata": {},
     "output_type": "execute_result"
    }
   ],
   "source": [
    "data"
   ]
  },
  {
   "cell_type": "markdown",
   "metadata": {},
   "source": [
    "## Localize to the desired time zone and convert to UTC\n",
    "\n",
    "All timestamps on the Rune platform are stored in UTC, which can be converted to any desired time zone.\n",
    "\n",
    "This method of localizing and converting time zones with pandas will automatically handle daylight savings time.\n",
    "\n",
    "See all possible time zones by importing the pytz package and using `pytz.all_timezones`. A few examples:\n",
    "\n",
    "* 'UTC'\n",
    "* 'GMT'\n",
    "* 'US/Eastern'\n",
    "* 'US/Central'\n",
    "* 'US/Mountain'\n",
    "* 'US/Pacific'\n",
    "* 'Japan'\n",
    "* 'Asia/Shanghai'\n",
    "* 'Europe/Zurich'"
   ]
  },
  {
   "cell_type": "markdown",
   "metadata": {},
   "source": [
    "The desired time zone (in which the assessment was performed or data was recorded) can be set in a variety of ways:\n",
    "\n",
    "* Manually enter the designation: `timezone = 'US/Eastern'`\n",
    "* If the data is being uploaded in the same time zone, use the `get_localzone()` function of the `tzlocal` package as demonstrated below.\n",
    "* If data from multiple time zones is being uploaded, it might be helpful to add a time zone column to the CSV file format, and include the appropriate time zone designation. These could then be read from the data frame and utilized in the localization steps below."
   ]
  },
  {
   "cell_type": "code",
   "execution_count": 12,
   "metadata": {
    "ExecuteTime": {
     "end_time": "2022-01-12T23:53:09.226755Z",
     "start_time": "2022-01-12T23:53:09.218587Z"
    }
   },
   "outputs": [
    {
     "data": {
      "text/plain": [
       "'America/Denver'"
      ]
     },
     "execution_count": 12,
     "metadata": {},
     "output_type": "execute_result"
    }
   ],
   "source": [
    "# Get the local time zone.\n",
    "\n",
    "timezone = get_localzone().key\n",
    "timezone"
   ]
  },
  {
   "cell_type": "code",
   "execution_count": 13,
   "metadata": {
    "ExecuteTime": {
     "end_time": "2022-01-12T23:53:10.407916Z",
     "start_time": "2022-01-12T23:53:10.316936Z"
    },
    "scrolled": false
   },
   "outputs": [
    {
     "data": {
      "text/html": [
       "<div>\n",
       "<style scoped>\n",
       "    .dataframe tbody tr th:only-of-type {\n",
       "        vertical-align: middle;\n",
       "    }\n",
       "\n",
       "    .dataframe tbody tr th {\n",
       "        vertical-align: top;\n",
       "    }\n",
       "\n",
       "    .dataframe thead th {\n",
       "        text-align: right;\n",
       "    }\n",
       "</style>\n",
       "<table border=\"1\" class=\"dataframe\">\n",
       "  <thead>\n",
       "    <tr style=\"text-align: right;\">\n",
       "      <th></th>\n",
       "      <th>Date_Time</th>\n",
       "      <th>Date_Time_UTC</th>\n",
       "      <th>Assessment</th>\n",
       "      <th>Description</th>\n",
       "      <th>Value</th>\n",
       "    </tr>\n",
       "    <tr>\n",
       "      <th>Item</th>\n",
       "      <th></th>\n",
       "      <th></th>\n",
       "      <th></th>\n",
       "      <th></th>\n",
       "      <th></th>\n",
       "    </tr>\n",
       "  </thead>\n",
       "  <tbody>\n",
       "    <tr>\n",
       "      <th>1_A</th>\n",
       "      <td>2021-07-28 10:52:00-06:00</td>\n",
       "      <td>2021-07-28 16:52:00+00:00</td>\n",
       "      <td>UPDRS</td>\n",
       "      <td>Source of Information</td>\n",
       "      <td>patient</td>\n",
       "    </tr>\n",
       "    <tr>\n",
       "      <th>1_1</th>\n",
       "      <td>2021-07-28 10:52:00-06:00</td>\n",
       "      <td>2021-07-28 16:52:00+00:00</td>\n",
       "      <td>UPDRS</td>\n",
       "      <td>Cognitive impairment</td>\n",
       "      <td>4</td>\n",
       "    </tr>\n",
       "    <tr>\n",
       "      <th>1_2</th>\n",
       "      <td>2021-07-28 10:52:00-06:00</td>\n",
       "      <td>2021-07-28 16:52:00+00:00</td>\n",
       "      <td>UPDRS</td>\n",
       "      <td>Hallucinations and psychosis</td>\n",
       "      <td>4</td>\n",
       "    </tr>\n",
       "    <tr>\n",
       "      <th>1_3</th>\n",
       "      <td>2021-07-28 10:52:00-06:00</td>\n",
       "      <td>2021-07-28 16:52:00+00:00</td>\n",
       "      <td>UPDRS</td>\n",
       "      <td>Depressed mood</td>\n",
       "      <td>4</td>\n",
       "    </tr>\n",
       "    <tr>\n",
       "      <th>1_4</th>\n",
       "      <td>2021-07-28 10:52:00-06:00</td>\n",
       "      <td>2021-07-28 16:52:00+00:00</td>\n",
       "      <td>UPDRS</td>\n",
       "      <td>Anxious mood</td>\n",
       "      <td>4</td>\n",
       "    </tr>\n",
       "    <tr>\n",
       "      <th>...</th>\n",
       "      <td>...</td>\n",
       "      <td>...</td>\n",
       "      <td>...</td>\n",
       "      <td>...</td>\n",
       "      <td>...</td>\n",
       "    </tr>\n",
       "    <tr>\n",
       "      <th>4_2</th>\n",
       "      <td>2021-07-28 10:52:00-06:00</td>\n",
       "      <td>2021-07-28 16:52:00+00:00</td>\n",
       "      <td>UPDRS</td>\n",
       "      <td>Functional impact of dyskinesias</td>\n",
       "      <td>4</td>\n",
       "    </tr>\n",
       "    <tr>\n",
       "      <th>4_3</th>\n",
       "      <td>2021-07-28 10:52:00-06:00</td>\n",
       "      <td>2021-07-28 16:52:00+00:00</td>\n",
       "      <td>UPDRS</td>\n",
       "      <td>Time spent in the OFF state</td>\n",
       "      <td>4</td>\n",
       "    </tr>\n",
       "    <tr>\n",
       "      <th>4_4</th>\n",
       "      <td>2021-07-28 10:52:00-06:00</td>\n",
       "      <td>2021-07-28 16:52:00+00:00</td>\n",
       "      <td>UPDRS</td>\n",
       "      <td>Functional impact of fluctuations</td>\n",
       "      <td>4</td>\n",
       "    </tr>\n",
       "    <tr>\n",
       "      <th>4_5</th>\n",
       "      <td>2021-07-28 10:52:00-06:00</td>\n",
       "      <td>2021-07-28 16:52:00+00:00</td>\n",
       "      <td>UPDRS</td>\n",
       "      <td>Complexity of motor fluctuations</td>\n",
       "      <td>4</td>\n",
       "    </tr>\n",
       "    <tr>\n",
       "      <th>4_6</th>\n",
       "      <td>2021-07-28 10:52:00-06:00</td>\n",
       "      <td>2021-07-28 16:52:00+00:00</td>\n",
       "      <td>UPDRS</td>\n",
       "      <td>Painful OFF-state dystonia</td>\n",
       "      <td>4</td>\n",
       "    </tr>\n",
       "  </tbody>\n",
       "</table>\n",
       "<p>74 rows × 5 columns</p>\n",
       "</div>"
      ],
      "text/plain": [
       "                     Date_Time             Date_Time_UTC Assessment  \\\n",
       "Item                                                                  \n",
       "1_A  2021-07-28 10:52:00-06:00 2021-07-28 16:52:00+00:00      UPDRS   \n",
       "1_1  2021-07-28 10:52:00-06:00 2021-07-28 16:52:00+00:00      UPDRS   \n",
       "1_2  2021-07-28 10:52:00-06:00 2021-07-28 16:52:00+00:00      UPDRS   \n",
       "1_3  2021-07-28 10:52:00-06:00 2021-07-28 16:52:00+00:00      UPDRS   \n",
       "1_4  2021-07-28 10:52:00-06:00 2021-07-28 16:52:00+00:00      UPDRS   \n",
       "...                        ...                       ...        ...   \n",
       "4_2  2021-07-28 10:52:00-06:00 2021-07-28 16:52:00+00:00      UPDRS   \n",
       "4_3  2021-07-28 10:52:00-06:00 2021-07-28 16:52:00+00:00      UPDRS   \n",
       "4_4  2021-07-28 10:52:00-06:00 2021-07-28 16:52:00+00:00      UPDRS   \n",
       "4_5  2021-07-28 10:52:00-06:00 2021-07-28 16:52:00+00:00      UPDRS   \n",
       "4_6  2021-07-28 10:52:00-06:00 2021-07-28 16:52:00+00:00      UPDRS   \n",
       "\n",
       "                            Description    Value  \n",
       "Item                                              \n",
       "1_A               Source of Information  patient  \n",
       "1_1                Cognitive impairment        4  \n",
       "1_2        Hallucinations and psychosis        4  \n",
       "1_3                      Depressed mood        4  \n",
       "1_4                        Anxious mood        4  \n",
       "...                                 ...      ...  \n",
       "4_2    Functional impact of dyskinesias        4  \n",
       "4_3         Time spent in the OFF state        4  \n",
       "4_4   Functional impact of fluctuations        4  \n",
       "4_5    Complexity of motor fluctuations        4  \n",
       "4_6          Painful OFF-state dystonia        4  \n",
       "\n",
       "[74 rows x 5 columns]"
      ]
     },
     "execution_count": 13,
     "metadata": {},
     "output_type": "execute_result"
    }
   ],
   "source": [
    "# Localize to the desired time zone, and convert to UTC.\n",
    "\n",
    "data.Date_Time = data.Date_Time.dt.tz_localize(timezone)\n",
    "data.insert(1,'Date_Time_UTC',data.Date_Time.dt.tz_convert('UTC'))\n",
    "\n",
    "data"
   ]
  },
  {
   "cell_type": "markdown",
   "metadata": {},
   "source": [
    "Note that the format of the `Date_Time` column now includes an offset value from UTC (which is `+00:00` after the timestamps have been converted to UTC)."
   ]
  },
  {
   "cell_type": "markdown",
   "metadata": {},
   "source": [
    "---\n",
    "\n",
    "# 4. Check the formatting of the data\n",
    "\n",
    "**Because no method is available for deletion of individual segments of data from the Rune platform, it is vital to check and confirm the format of the data before upload/ingestion. Mistakes could cause a patient's data record to become polluted with incorrect events.**\n",
    "\n",
    "Formatting errors or typos in the CSV file could cause a variety of issues in the ingested data. Check the extracted dataframe and enforce these conditions:\n",
    "\n",
    "* The desired columns are present, with the correct labels.\n",
    "    * In this UPDRS example, these include Item, Date_Time_UTC, Assessment, Description, and Value.\n",
    "* The item labels are correct.\n",
    "    * In this UPDRS example, \"correct\" means they are included in the desired item set.\n",
    "        * Not all items are required, as partial assessments are allowable.\n",
    "* No dots are used in the category strings (`event_namespace`, `event_type`, `event_enum`).\n",
    "* The category strings are all lowercase.\n",
    "    * Namespace is hard coded, and is not included in the data file.\n",
    "    * `event_type` is forced to lowercase in the code below.\n",
    "    * `event_enum` is compared to a list of acceptable items.\n",
    "* Any other strings have the desired case.\n",
    "* The timestamps are in a valid format, and match the expected date/time.\n",
    "    * Pandas should parse most date formats, but a human check is recommended."
   ]
  },
  {
   "cell_type": "markdown",
   "metadata": {},
   "source": [
    "## Define a function to perform automated format checking\n",
    "\n",
    "The function below checks the dataframe for several of the conditions in the above list. It can be modified to include additional conditions, or to handle different assessments and/or file formats.\n",
    "\n",
    "Note that it requests a human check of the first date/time in the file, to confirm that is as expected. Pandas parses most date formats successfully, but a quick human check is advised to catch any unexpected issues with parsing, time zone correction, or data entry errors.\n",
    "\n",
    "This function returns a boolean variable called `data_pass`, which is subsequently used to prevent ingestion before all detected issues are corrected."
   ]
  },
  {
   "cell_type": "code",
   "execution_count": 14,
   "metadata": {
    "ExecuteTime": {
     "end_time": "2022-01-12T23:53:18.325782Z",
     "start_time": "2022-01-12T23:53:18.320582Z"
    }
   },
   "outputs": [],
   "source": [
    "def data_format_check(data, expected_columns, expected_items):\n",
    "    \"\"\"\n",
    "    Check formatting of a dataframe before ingestion\n",
    "\n",
    "    Inputs:\n",
    "        data - Pandas dataframe of data read from file\n",
    "        expected_columns - List of expected column labels\n",
    "        expected_items - List of acceptable items\n",
    "    \"\"\"\n",
    "    \n",
    "    if data.index.name != 'Item':\n",
    "        raise ValueError('The index label is not \"Item\".')\n",
    "        \n",
    "    if (data.keys() != expected_columns).any():\n",
    "        raise ValueError('The column labels do not match the expected labels.')\n",
    "        \n",
    "    if not all(item in expected_items for item in data.index):\n",
    "        raise ValueError('Items in the file that are not found in the list of acceptable items:')\n",
    "        for item in data.index:\n",
    "            if item not in expected_items:\n",
    "                print(f'{item}\\n')\n",
    "    \n",
    "    if any('.' in item for item in data.index):\n",
    "        raise ValueError('At least one \".\" was found in the item labels.')\n",
    "        \n",
    "    if any('.' in assmt for assmt in data.Assessment):\n",
    "        raise ValueError('At least one \".\" was found in the Assessment column.')\n",
    "        \n",
    "    print(f'Manually confirm that this date/time is expected: {data.iloc[0].Date_Time}\\n')"
   ]
  },
  {
   "cell_type": "markdown",
   "metadata": {},
   "source": [
    "## Create lists of expected columns/items and check the data\n",
    "\n",
    "The expected column item labels can be hard coded here (as shown below), or pulled from a master file.\n",
    "\n",
    "(Note the use of set {} rather than list [], which is optimized for lookup operations such as that used in the `data_format_check()` function.)"
   ]
  },
  {
   "cell_type": "code",
   "execution_count": 15,
   "metadata": {
    "ExecuteTime": {
     "end_time": "2022-01-12T23:53:22.898884Z",
     "start_time": "2022-01-12T23:53:22.892361Z"
    }
   },
   "outputs": [
    {
     "name": "stdout",
     "output_type": "stream",
     "text": [
      "Manually confirm that this date/time is expected: 2021-07-28 10:52:00-06:00\n",
      "\n",
      "Data from file passes all automated checks.\n"
     ]
    }
   ],
   "source": [
    "columns = ['Date_Time', 'Date_Time_UTC', 'Assessment', 'Description', 'Value']\n",
    "items = {'1_A', '1_1', '1_2', '1_3', '1_4', '1_5', '1_6', '1_6a', '1_7', '1_8', '1_9', \n",
    "         '1_10', '1_11', '1_12', '1_13', '2_1', '2_2', '2_3', '2_4', '2_5', '2_6', '2_7',\n",
    "         '2_8', '2_9', '2_10', '2_11', '2_12', '2_13', '3a', '3b', '3c', '3_c1', '3_1',\n",
    "         '3_2', '3_3a', '3_3b', '3_3c', '3_3d', '3_3e', '3_4a', '3_4b', '3_5a', '3_5b',\n",
    "         '3_6a', '3_6b', '3_7a', '3_7b', '3_8a', '3_8b', '3_9', '3_10', '3_11', '3_12',\n",
    "         '3_13', '3_14', '3_15a', '3_15b', '3_16a', '3_16b', '3_17a', '3_17b', '3_17c',\n",
    "         '3_17d', '3_17e', '3_18', '3_dyskA', '3_dyskB', '3_hy', '4_1', '4_2', '4_3',\n",
    "         '4_4', '4_5', '4_6'\n",
    "        }\n",
    "\n",
    "data_format_check(data, columns, items)\n",
    "\n",
    "# If a ValueError is raised in data_format_check(), it won't reach the code below.\n",
    "print('Data from file passes all automated checks.')\n",
    "data_pass = True"
   ]
  },
  {
   "cell_type": "markdown",
   "metadata": {},
   "source": [
    "Once the data passes all automated checks, and the date/time is confirmed to be correct, the data can be uploaded/ingested into the Rune platform."
   ]
  },
  {
   "cell_type": "markdown",
   "metadata": {},
   "source": [
    "---\n",
    "\n",
    "# 5. Ingest the items (assessment scores) as events\n",
    "\n",
    "In the UPDRS example, each score will have its own event. Additionally, a comprehensive \"all\" event will be created that includes all of the other scores in its payload. This will ease future analysis of the data by allowing access to entire assessments or individual items as desired."
   ]
  },
  {
   "cell_type": "markdown",
   "metadata": {},
   "source": [
    "## Upload comprehensive \"all\" event with all items in payload\n",
    "\n",
    "This event is created to represent the overall assessment, including all available items (i.e., scores). The scores are packed into a text payload, so they aren't as easy to access, but they are all in a single event.\n",
    "\n",
    "A user could then query for all assessments of this type (i.e., `clinical.updrs.all`), and the API would return all of them, including partial assessments."
   ]
  },
  {
   "cell_type": "code",
   "execution_count": 16,
   "metadata": {
    "ExecuteTime": {
     "end_time": "2022-01-12T23:53:31.464302Z",
     "start_time": "2022-01-12T23:53:31.460843Z"
    }
   },
   "outputs": [],
   "source": [
    "# Convert the relevant columns of the dataframe to a dictionary.\n",
    "\n",
    "payload_fields = data[['Description','Value']].to_dict('index')"
   ]
  },
  {
   "cell_type": "markdown",
   "metadata": {},
   "source": [
    "Set the `dry_run` parameter of the `create_event` (or `create_span`) function to `True` to test and validate your code, so that you avoid ingesting improperly formatted events to the platform. During a dry run, the payload will be printed to the screen for validation.\n",
    "\n",
    "When your code is validated, change the `dry_run` parameter to `False`."
   ]
  },
  {
   "cell_type": "code",
   "execution_count": 17,
   "metadata": {
    "ExecuteTime": {
     "end_time": "2022-01-12T23:53:42.413789Z",
     "start_time": "2022-01-12T23:53:42.016044Z"
    },
    "scrolled": true
   },
   "outputs": [],
   "source": [
    "# If the data passed automated format checks above:\n",
    "#\n",
    "# Post the event to the Rune platform, using the dictionary for the text payload.\n",
    "# Uses the 'Assessment' and 'Date-Time' values from the first row, assuming that \n",
    "#  all values in this CSV file were from the same assessment.\n",
    "\n",
    "if data_pass:\n",
    "    response = create_event(\n",
    "        'clinical',\n",
    "        data.iloc[0].Assessment.lower(),\n",
    "        'all',\n",
    "        data.iloc[0].Date_Time_UTC.timestamp(),\n",
    "        event_description='All scores',\n",
    "        add_payload=payload_fields,\n",
    "        dry_run=True\n",
    "    )"
   ]
  },
  {
   "cell_type": "code",
   "execution_count": 18,
   "metadata": {
    "ExecuteTime": {
     "end_time": "2022-01-12T23:53:43.445262Z",
     "start_time": "2022-01-12T23:53:43.442561Z"
    }
   },
   "outputs": [
    {
     "name": "stdout",
     "output_type": "stream",
     "text": [
      "<Response [200]>\n"
     ]
    }
   ],
   "source": [
    "# Check the API response.\n",
    "\n",
    "print(response)"
   ]
  },
  {
   "cell_type": "markdown",
   "metadata": {},
   "source": [
    "When posting data to the API, the response will indicate success or reasons for failure with a code. Possible responses include:\n",
    "\n",
    "* `200`: Success\n",
    "* `400`: Invalid Request. The validation error will be indicated as a message in the response body. This will include cases where the device ID does not exist, is disabled, or does not belong to the patient.\n",
    "* `401`: Missing or invalid authentication\n",
    "* `413`: Payload too large\n",
    "* `500`: Server error. The message body will indicate whether to retry."
   ]
  },
  {
   "cell_type": "markdown",
   "metadata": {},
   "source": [
    "## Upload individual events for each separate item\n",
    "\n",
    "Each individual item will be ingested as a separate event. These enable querying of individual items from the platform.\n",
    "\n",
    "A user could then query specifically for subsets or individual items (e.g., `clinical.updrs.3_11`)."
   ]
  },
  {
   "cell_type": "markdown",
   "metadata": {},
   "source": [
    "Again, set the `dry_run` parameter of the `create_event` or `create_span` function to `True` to test and validate you code, so that you avoid ingesting improperly formatted events to the platform. During a dry run, the payload will be printed to the screen for validation.\n",
    "\n",
    "When your code is validated, change the `dry_run` parameter to `False`."
   ]
  },
  {
   "cell_type": "code",
   "execution_count": 19,
   "metadata": {
    "ExecuteTime": {
     "end_time": "2022-01-12T23:54:02.202049Z",
     "start_time": "2022-01-12T23:54:02.198137Z"
    }
   },
   "outputs": [],
   "source": [
    "# Define a function to handle each row of the dataframe as a separate event.\n",
    "\n",
    "def event_from_row(index, row):\n",
    "    \"\"\"\n",
    "    Ingest an event shaped from the data in one row of a dataframe.\n",
    "\n",
    "    \"\"\"\n",
    "    event_enum = index\n",
    "    event_type = row.Assessment.lower()\n",
    "    timestamp = row.Date_Time_UTC.timestamp()\n",
    "    event_description = row.Description\n",
    "    value = {'value': row.Value}\n",
    "\n",
    "    response = create_event(\n",
    "        'clinical',\n",
    "        event_type,\n",
    "        event_enum,\n",
    "        timestamp,\n",
    "        event_description=event_description,\n",
    "        add_payload=value,\n",
    "        dry_run=True\n",
    "    )\n",
    "\n",
    "    return response"
   ]
  },
  {
   "cell_type": "markdown",
   "metadata": {},
   "source": [
    "Iterating over the rows of a pandas dataframe with the `iterrows()` function is not very efficient, and typically should be avoided. However, the difference in processing time here is negligible."
   ]
  },
  {
   "cell_type": "code",
   "execution_count": 20,
   "metadata": {
    "ExecuteTime": {
     "end_time": "2022-01-12T23:54:22.806165Z",
     "start_time": "2022-01-12T23:54:09.947829Z"
    }
   },
   "outputs": [
    {
     "name": "stdout",
     "output_type": "stream",
     "text": [
      "SUCCESS: 1_A\n",
      "SUCCESS: 1_1\n",
      "SUCCESS: 1_2\n",
      "SUCCESS: 1_3\n",
      "SUCCESS: 1_4\n",
      "SUCCESS: 1_5\n",
      "SUCCESS: 1_6\n",
      "SUCCESS: 1_6a\n",
      "SUCCESS: 1_7\n",
      "SUCCESS: 1_8\n",
      "SUCCESS: 1_9\n",
      "SUCCESS: 1_10\n",
      "SUCCESS: 1_11\n",
      "SUCCESS: 1_12\n",
      "SUCCESS: 1_13\n",
      "SUCCESS: 2_1\n",
      "SUCCESS: 2_2\n",
      "SUCCESS: 2_3\n",
      "SUCCESS: 2_4\n",
      "SUCCESS: 2_5\n",
      "SUCCESS: 2_6\n",
      "SUCCESS: 2_7\n",
      "SUCCESS: 2_8\n",
      "SUCCESS: 2_9\n",
      "SUCCESS: 2_10\n",
      "SUCCESS: 2_11\n",
      "SUCCESS: 2_12\n",
      "SUCCESS: 2_13\n",
      "SUCCESS: 3a\n",
      "SUCCESS: 3b\n",
      "SUCCESS: 3c\n",
      "SUCCESS: 3_c1\n",
      "SUCCESS: 3_1\n",
      "SUCCESS: 3_2\n",
      "SUCCESS: 3_3a\n",
      "SUCCESS: 3_3b\n",
      "SUCCESS: 3_3c\n",
      "SUCCESS: 3_3d\n",
      "SUCCESS: 3_3e\n",
      "SUCCESS: 3_4a\n",
      "SUCCESS: 3_4b\n",
      "SUCCESS: 3_5a\n",
      "SUCCESS: 3_5b\n",
      "SUCCESS: 3_6a\n",
      "SUCCESS: 3_6b\n",
      "SUCCESS: 3_7a\n",
      "SUCCESS: 3_7b\n",
      "SUCCESS: 3_8a\n",
      "SUCCESS: 3_8b\n",
      "SUCCESS: 3_9\n",
      "SUCCESS: 3_10\n",
      "SUCCESS: 3_11\n",
      "SUCCESS: 3_12\n",
      "SUCCESS: 3_13\n",
      "SUCCESS: 3_14\n",
      "SUCCESS: 3_15a\n",
      "SUCCESS: 3_15b\n",
      "SUCCESS: 3_16a\n",
      "SUCCESS: 3_16b\n",
      "SUCCESS: 3_17a\n",
      "SUCCESS: 3_17b\n",
      "SUCCESS: 3_17c\n",
      "SUCCESS: 3_17d\n",
      "SUCCESS: 3_17e\n",
      "SUCCESS: 3_18\n",
      "SUCCESS: 3_dyskA\n",
      "SUCCESS: 3_dyskB\n",
      "SUCCESS: 3_hy\n",
      "SUCCESS: 4_1\n",
      "SUCCESS: 4_2\n",
      "SUCCESS: 4_3\n",
      "SUCCESS: 4_4\n",
      "SUCCESS: 4_5\n",
      "SUCCESS: 4_6\n",
      "Done.\n"
     ]
    }
   ],
   "source": [
    "# If the data passed automated format checks above:\n",
    "#\n",
    "# Iterate over the rows of the dataframe, creating an event for each.\n",
    "            \n",
    "if data_pass:\n",
    "    for index, row in data.iterrows():\n",
    "        response = event_from_row(index, row)\n",
    "\n",
    "        if response.ok:\n",
    "            print(f'SUCCESS: {index}')\n",
    "        else:\n",
    "            print(f'FAILURE: {index}')\n",
    "            # If any request fails, raise an exception to break out of the loop.\n",
    "            response.raise_for_status()\n",
    "\n",
    "print('Done.')"
   ]
  },
  {
   "cell_type": "markdown",
   "metadata": {},
   "source": [
    "The API responses are explained in the previous section."
   ]
  },
  {
   "cell_type": "markdown",
   "metadata": {},
   "source": [
    "---\n",
    "\n",
    "# 6. Pull the uploaded events from the Rune platform\n",
    "\n",
    "Once the data has been uploaded to the Rune platform, it will be available via the Rune API (along with all other data streams) for analysis. Upload success can be confirmed by pulling the events from the API.\n",
    "\n",
    "**NOTE:** After upload, there will be a delay (often ~15 minutes) before the events are available to be queried.\n",
    "\n",
    "Exploration of Events and Spans is covered in one of our tutorial notebooks: https://github.com/rune-labs/opensource/blob/master/jupyter-notebook-templates/07_explore_patient_events.ipynb"
   ]
  },
  {
   "cell_type": "code",
   "execution_count": 21,
   "metadata": {
    "ExecuteTime": {
     "end_time": "2022-01-12T23:54:33.582432Z",
     "start_time": "2022-01-12T23:54:33.578912Z"
    }
   },
   "outputs": [],
   "source": [
    "# Define function for pulling events.\n",
    "\n",
    "def get_events(client, params):\n",
    "    \"\"\"Makes API calls for events, outputs dataframe\"\"\"\n",
    "\n",
    "    accessor = client.Event(**params)\n",
    "\n",
    "    df = pd.DataFrame()\n",
    "    for page in accessor.iter_json_data():\n",
    "        df_page = pd.DataFrame(page['event'])\n",
    "        df = df.append(df_page, ignore_index=True)\n",
    "\n",
    "    return df"
   ]
  },
  {
   "cell_type": "code",
   "execution_count": 22,
   "metadata": {
    "ExecuteTime": {
     "end_time": "2022-01-12T23:54:34.816451Z",
     "start_time": "2022-01-12T23:54:34.812657Z"
    }
   },
   "outputs": [],
   "source": [
    "# Set parameters for pulling data from the API.\n",
    "#  Starting 1 second before the first timestamp in the file.\n",
    "#  Ending 1 second after the last timestamp in the file.\n",
    "\n",
    "params = {\n",
    "    'patient_id': patient_id,\n",
    "    'device_id': device_id,\n",
    "    'start_time': data.iloc[0].Date_Time_UTC.timestamp()-1,\n",
    "    'end_time': data.iloc[-1].Date_Time_UTC.timestamp()+2\n",
    "}"
   ]
  },
  {
   "cell_type": "code",
   "execution_count": 23,
   "metadata": {
    "ExecuteTime": {
     "end_time": "2022-01-12T23:54:37.345620Z",
     "start_time": "2022-01-12T23:54:35.699945Z"
    }
   },
   "outputs": [],
   "source": [
    "# Retrieve data.\n",
    "\n",
    "events = get_events(client, params)"
   ]
  },
  {
   "cell_type": "code",
   "execution_count": 24,
   "metadata": {
    "ExecuteTime": {
     "end_time": "2022-01-12T23:54:38.038757Z",
     "start_time": "2022-01-12T23:54:38.023426Z"
    },
    "scrolled": false
   },
   "outputs": [
    {
     "data": {
      "text/html": [
       "<div>\n",
       "<style scoped>\n",
       "    .dataframe tbody tr th:only-of-type {\n",
       "        vertical-align: middle;\n",
       "    }\n",
       "\n",
       "    .dataframe tbody tr th {\n",
       "        vertical-align: top;\n",
       "    }\n",
       "\n",
       "    .dataframe thead th {\n",
       "        text-align: right;\n",
       "    }\n",
       "</style>\n",
       "<table border=\"1\" class=\"dataframe\">\n",
       "  <thead>\n",
       "    <tr style=\"text-align: right;\">\n",
       "      <th></th>\n",
       "      <th>time</th>\n",
       "      <th>created_time</th>\n",
       "      <th>device_id</th>\n",
       "      <th>id</th>\n",
       "      <th>event_namespace</th>\n",
       "      <th>event_type</th>\n",
       "      <th>event_enum</th>\n",
       "      <th>payload</th>\n",
       "      <th>display_name</th>\n",
       "    </tr>\n",
       "  </thead>\n",
       "  <tbody>\n",
       "    <tr>\n",
       "      <th>0</th>\n",
       "      <td>1627491120</td>\n",
       "      <td>1.641546e+09</td>\n",
       "      <td>M4S95rKL</td>\n",
       "      <td>event-2d4534c-0009bb509ed10a95c560b1e9afc6d710...</td>\n",
       "      <td>clinical</td>\n",
       "      <td>updrs</td>\n",
       "      <td>3_3e</td>\n",
       "      <td>{'category': 'UPDRS', 'description': 'Rigidity...</td>\n",
       "      <td>clinical.updrs.3_3e</td>\n",
       "    </tr>\n",
       "    <tr>\n",
       "      <th>1</th>\n",
       "      <td>1627491120</td>\n",
       "      <td>1.641546e+09</td>\n",
       "      <td>M4S95rKL</td>\n",
       "      <td>event-2d4534c-012198512f883f6df37e759db90097f1...</td>\n",
       "      <td>clinical</td>\n",
       "      <td>updrs</td>\n",
       "      <td>3_8b</td>\n",
       "      <td>{'category': 'UPDRS', 'description': 'Leg agil...</td>\n",
       "      <td>clinical.updrs.3_8b</td>\n",
       "    </tr>\n",
       "    <tr>\n",
       "      <th>2</th>\n",
       "      <td>1627491120</td>\n",
       "      <td>1.641546e+09</td>\n",
       "      <td>M4S95rKL</td>\n",
       "      <td>event-2d4534c-06dd403662735e13acdc7ce8621a7b2a...</td>\n",
       "      <td>clinical</td>\n",
       "      <td>updrs</td>\n",
       "      <td>3_2</td>\n",
       "      <td>{'category': 'UPDRS', 'description': 'Facial e...</td>\n",
       "      <td>clinical.updrs.3_2</td>\n",
       "    </tr>\n",
       "    <tr>\n",
       "      <th>3</th>\n",
       "      <td>1627491120</td>\n",
       "      <td>1.641546e+09</td>\n",
       "      <td>M4S95rKL</td>\n",
       "      <td>event-2d4534c-08b5574f9a551e79edfdb2368635bb98...</td>\n",
       "      <td>clinical</td>\n",
       "      <td>updrs</td>\n",
       "      <td>2_4</td>\n",
       "      <td>{'category': 'UPDRS', 'description': 'Eating t...</td>\n",
       "      <td>clinical.updrs.2_4</td>\n",
       "    </tr>\n",
       "    <tr>\n",
       "      <th>4</th>\n",
       "      <td>1627491120</td>\n",
       "      <td>1.641546e+09</td>\n",
       "      <td>M4S95rKL</td>\n",
       "      <td>event-2d4534c-0a8033f51ca609890af214ad4c820fad...</td>\n",
       "      <td>clinical</td>\n",
       "      <td>updrs</td>\n",
       "      <td>3_6a</td>\n",
       "      <td>{'category': 'UPDRS', 'description': 'Pronatio...</td>\n",
       "      <td>clinical.updrs.3_6a</td>\n",
       "    </tr>\n",
       "    <tr>\n",
       "      <th>...</th>\n",
       "      <td>...</td>\n",
       "      <td>...</td>\n",
       "      <td>...</td>\n",
       "      <td>...</td>\n",
       "      <td>...</td>\n",
       "      <td>...</td>\n",
       "      <td>...</td>\n",
       "      <td>...</td>\n",
       "      <td>...</td>\n",
       "    </tr>\n",
       "    <tr>\n",
       "      <th>70</th>\n",
       "      <td>1627491120</td>\n",
       "      <td>1.641546e+09</td>\n",
       "      <td>M4S95rKL</td>\n",
       "      <td>event-2d4534c-ee989d41c6212698732596fcb7ad3397...</td>\n",
       "      <td>clinical</td>\n",
       "      <td>updrs</td>\n",
       "      <td>2_13</td>\n",
       "      <td>{'category': 'UPDRS', 'description': 'Freezing...</td>\n",
       "      <td>clinical.updrs.2_13</td>\n",
       "    </tr>\n",
       "    <tr>\n",
       "      <th>71</th>\n",
       "      <td>1627491120</td>\n",
       "      <td>1.641546e+09</td>\n",
       "      <td>M4S95rKL</td>\n",
       "      <td>event-2d4534c-f337a09795b35c44555e05ab9e412643...</td>\n",
       "      <td>clinical</td>\n",
       "      <td>updrs</td>\n",
       "      <td>2_12</td>\n",
       "      <td>{'category': 'UPDRS', 'description': 'Walking ...</td>\n",
       "      <td>clinical.updrs.2_12</td>\n",
       "    </tr>\n",
       "    <tr>\n",
       "      <th>72</th>\n",
       "      <td>1627491120</td>\n",
       "      <td>1.641546e+09</td>\n",
       "      <td>M4S95rKL</td>\n",
       "      <td>event-2d4534c-f356d4bb844b72735d9817a9b1e8fa94...</td>\n",
       "      <td>clinical</td>\n",
       "      <td>updrs</td>\n",
       "      <td>3_7a</td>\n",
       "      <td>{'category': 'UPDRS', 'description': 'Toe tapp...</td>\n",
       "      <td>clinical.updrs.3_7a</td>\n",
       "    </tr>\n",
       "    <tr>\n",
       "      <th>73</th>\n",
       "      <td>1627491120</td>\n",
       "      <td>1.641546e+09</td>\n",
       "      <td>M4S95rKL</td>\n",
       "      <td>event-2d4534c-fb4f38b195c5b342f1e299c441724227...</td>\n",
       "      <td>clinical</td>\n",
       "      <td>updrs</td>\n",
       "      <td>3_c1</td>\n",
       "      <td>{'category': 'UPDRS', 'description': 'If yes, ...</td>\n",
       "      <td>clinical.updrs.3_c1</td>\n",
       "    </tr>\n",
       "    <tr>\n",
       "      <th>74</th>\n",
       "      <td>1627491120</td>\n",
       "      <td>1.641546e+09</td>\n",
       "      <td>M4S95rKL</td>\n",
       "      <td>event-2d4534c-fdfdadb07537747dad4e977fe6b187df...</td>\n",
       "      <td>clinical</td>\n",
       "      <td>updrs</td>\n",
       "      <td>1_12</td>\n",
       "      <td>{'category': 'UPDRS', 'description': 'Lighthea...</td>\n",
       "      <td>clinical.updrs.1_12</td>\n",
       "    </tr>\n",
       "  </tbody>\n",
       "</table>\n",
       "<p>75 rows × 9 columns</p>\n",
       "</div>"
      ],
      "text/plain": [
       "          time  created_time device_id  \\\n",
       "0   1627491120  1.641546e+09  M4S95rKL   \n",
       "1   1627491120  1.641546e+09  M4S95rKL   \n",
       "2   1627491120  1.641546e+09  M4S95rKL   \n",
       "3   1627491120  1.641546e+09  M4S95rKL   \n",
       "4   1627491120  1.641546e+09  M4S95rKL   \n",
       "..         ...           ...       ...   \n",
       "70  1627491120  1.641546e+09  M4S95rKL   \n",
       "71  1627491120  1.641546e+09  M4S95rKL   \n",
       "72  1627491120  1.641546e+09  M4S95rKL   \n",
       "73  1627491120  1.641546e+09  M4S95rKL   \n",
       "74  1627491120  1.641546e+09  M4S95rKL   \n",
       "\n",
       "                                                   id event_namespace  \\\n",
       "0   event-2d4534c-0009bb509ed10a95c560b1e9afc6d710...        clinical   \n",
       "1   event-2d4534c-012198512f883f6df37e759db90097f1...        clinical   \n",
       "2   event-2d4534c-06dd403662735e13acdc7ce8621a7b2a...        clinical   \n",
       "3   event-2d4534c-08b5574f9a551e79edfdb2368635bb98...        clinical   \n",
       "4   event-2d4534c-0a8033f51ca609890af214ad4c820fad...        clinical   \n",
       "..                                                ...             ...   \n",
       "70  event-2d4534c-ee989d41c6212698732596fcb7ad3397...        clinical   \n",
       "71  event-2d4534c-f337a09795b35c44555e05ab9e412643...        clinical   \n",
       "72  event-2d4534c-f356d4bb844b72735d9817a9b1e8fa94...        clinical   \n",
       "73  event-2d4534c-fb4f38b195c5b342f1e299c441724227...        clinical   \n",
       "74  event-2d4534c-fdfdadb07537747dad4e977fe6b187df...        clinical   \n",
       "\n",
       "   event_type event_enum                                            payload  \\\n",
       "0       updrs       3_3e  {'category': 'UPDRS', 'description': 'Rigidity...   \n",
       "1       updrs       3_8b  {'category': 'UPDRS', 'description': 'Leg agil...   \n",
       "2       updrs        3_2  {'category': 'UPDRS', 'description': 'Facial e...   \n",
       "3       updrs        2_4  {'category': 'UPDRS', 'description': 'Eating t...   \n",
       "4       updrs       3_6a  {'category': 'UPDRS', 'description': 'Pronatio...   \n",
       "..        ...        ...                                                ...   \n",
       "70      updrs       2_13  {'category': 'UPDRS', 'description': 'Freezing...   \n",
       "71      updrs       2_12  {'category': 'UPDRS', 'description': 'Walking ...   \n",
       "72      updrs       3_7a  {'category': 'UPDRS', 'description': 'Toe tapp...   \n",
       "73      updrs       3_c1  {'category': 'UPDRS', 'description': 'If yes, ...   \n",
       "74      updrs       1_12  {'category': 'UPDRS', 'description': 'Lighthea...   \n",
       "\n",
       "           display_name  \n",
       "0   clinical.updrs.3_3e  \n",
       "1   clinical.updrs.3_8b  \n",
       "2    clinical.updrs.3_2  \n",
       "3    clinical.updrs.2_4  \n",
       "4   clinical.updrs.3_6a  \n",
       "..                  ...  \n",
       "70  clinical.updrs.2_13  \n",
       "71  clinical.updrs.2_12  \n",
       "72  clinical.updrs.3_7a  \n",
       "73  clinical.updrs.3_c1  \n",
       "74  clinical.updrs.1_12  \n",
       "\n",
       "[75 rows x 9 columns]"
      ]
     },
     "execution_count": 24,
     "metadata": {},
     "output_type": "execute_result"
    }
   ],
   "source": [
    "# Examine the dataframe of pulled events.\n",
    "\n",
    "events"
   ]
  },
  {
   "cell_type": "markdown",
   "metadata": {},
   "source": [
    "The returned data looks correct. There were 74 items in the CSV file, and there are 75 rows in the data frame (including the \"all\" item event). The `display_name` column shows the combined event namespace, type, and enum for each item. Each also includes the expected text payload."
   ]
  },
  {
   "cell_type": "markdown",
   "metadata": {},
   "source": [
    "## See which items exist on the platform\n",
    "\n",
    "To confirm that a complete assessment was uploaded, or explore which items exist in a partial assessment, extract all events of the correct type (here UPDRS) from the data frame and print their enums."
   ]
  },
  {
   "cell_type": "code",
   "execution_count": 25,
   "metadata": {
    "ExecuteTime": {
     "end_time": "2022-01-12T23:54:41.544921Z",
     "start_time": "2022-01-12T23:54:41.538202Z"
    }
   },
   "outputs": [
    {
     "name": "stdout",
     "output_type": "stream",
     "text": [
      "* updrs items:\n",
      "    * 1_1\n",
      "    * 1_10\n",
      "    * 1_11\n",
      "    * 1_12\n",
      "    * 1_13\n",
      "    * 1_2\n",
      "    * 1_3\n",
      "    * 1_4\n",
      "    * 1_5\n",
      "    * 1_6\n",
      "    * 1_6a\n",
      "    * 1_7\n",
      "    * 1_8\n",
      "    * 1_9\n",
      "    * 1_A\n",
      "    * 2_1\n",
      "    * 2_10\n",
      "    * 2_11\n",
      "    * 2_12\n",
      "    * 2_13\n",
      "    * 2_2\n",
      "    * 2_3\n",
      "    * 2_4\n",
      "    * 2_5\n",
      "    * 2_6\n",
      "    * 2_7\n",
      "    * 2_8\n",
      "    * 2_9\n",
      "    * 3_1\n",
      "    * 3_10\n",
      "    * 3_11\n",
      "    * 3_12\n",
      "    * 3_13\n",
      "    * 3_14\n",
      "    * 3_15a\n",
      "    * 3_15b\n",
      "    * 3_16a\n",
      "    * 3_16b\n",
      "    * 3_17a\n",
      "    * 3_17b\n",
      "    * 3_17c\n",
      "    * 3_17d\n",
      "    * 3_17e\n",
      "    * 3_18\n",
      "    * 3_2\n",
      "    * 3_3a\n",
      "    * 3_3b\n",
      "    * 3_3c\n",
      "    * 3_3d\n",
      "    * 3_3e\n",
      "    * 3_4a\n",
      "    * 3_4b\n",
      "    * 3_5a\n",
      "    * 3_5b\n",
      "    * 3_6a\n",
      "    * 3_6b\n",
      "    * 3_7a\n",
      "    * 3_7b\n",
      "    * 3_8a\n",
      "    * 3_8b\n",
      "    * 3_9\n",
      "    * 3_c1\n",
      "    * 3_dyskA\n",
      "    * 3_dyskB\n",
      "    * 3_hy\n",
      "    * 3a\n",
      "    * 3b\n",
      "    * 3c\n",
      "    * 4_1\n",
      "    * 4_2\n",
      "    * 4_3\n",
      "    * 4_4\n",
      "    * 4_5\n",
      "    * 4_6\n",
      "    * all\n"
     ]
    }
   ],
   "source": [
    "# Get the event type from the file (should be 'updrs' in this example).\n",
    "event_type = data.iloc[0].Assessment.lower()\n",
    "\n",
    "# Extract all events of the correct type and list their enums.\n",
    "enums = events.loc[events['event_type'] == event_type].event_enum.unique()\n",
    "enums.sort()\n",
    "print(f'* {event_type} items:')\n",
    "for enum in enums:\n",
    "    print(f'    * {enum}')"
   ]
  },
  {
   "cell_type": "markdown",
   "metadata": {},
   "source": [
    "## Pull a specific item from the API\n",
    "\n",
    "A specific item can be accessed in two ways:\n",
    "1. Pull all events of the desired type (here UPDRS) from the API, and extract the desired item from the full data frame.\n",
    "2. Pull just the desired item from the API using the `event` parameter.\n",
    "\n",
    "For example, to access just item 3-11:"
   ]
  },
  {
   "cell_type": "code",
   "execution_count": 26,
   "metadata": {
    "ExecuteTime": {
     "end_time": "2022-01-12T23:54:45.432838Z",
     "start_time": "2022-01-12T23:54:43.845409Z"
    }
   },
   "outputs": [],
   "source": [
    "# Copy the previously use parameters.\n",
    "params_3_11 = params.copy()\n",
    "\n",
    "# Add the desired \"event\" parameter to the new set of parameters.\n",
    "params_3_11['event'] = 'clinical.updrs.3_11'\n",
    "\n",
    "# Pull from the API with the specific parameter set.\n",
    "updrs_3_11_events = get_events(client, params_3_11)"
   ]
  },
  {
   "cell_type": "code",
   "execution_count": 27,
   "metadata": {
    "ExecuteTime": {
     "end_time": "2022-01-12T23:54:45.488754Z",
     "start_time": "2022-01-12T23:54:45.479473Z"
    },
    "scrolled": true
   },
   "outputs": [
    {
     "data": {
      "text/html": [
       "<div>\n",
       "<style scoped>\n",
       "    .dataframe tbody tr th:only-of-type {\n",
       "        vertical-align: middle;\n",
       "    }\n",
       "\n",
       "    .dataframe tbody tr th {\n",
       "        vertical-align: top;\n",
       "    }\n",
       "\n",
       "    .dataframe thead th {\n",
       "        text-align: right;\n",
       "    }\n",
       "</style>\n",
       "<table border=\"1\" class=\"dataframe\">\n",
       "  <thead>\n",
       "    <tr style=\"text-align: right;\">\n",
       "      <th></th>\n",
       "      <th>time</th>\n",
       "      <th>created_time</th>\n",
       "      <th>device_id</th>\n",
       "      <th>id</th>\n",
       "      <th>event_namespace</th>\n",
       "      <th>event_type</th>\n",
       "      <th>event_enum</th>\n",
       "      <th>payload</th>\n",
       "      <th>display_name</th>\n",
       "    </tr>\n",
       "  </thead>\n",
       "  <tbody>\n",
       "    <tr>\n",
       "      <th>0</th>\n",
       "      <td>1627491120</td>\n",
       "      <td>1.641546e+09</td>\n",
       "      <td>M4S95rKL</td>\n",
       "      <td>event-2d4534c-eca860bd7c17ccfa048596bb77810ed5...</td>\n",
       "      <td>clinical</td>\n",
       "      <td>updrs</td>\n",
       "      <td>3_11</td>\n",
       "      <td>{'category': 'UPDRS', 'description': 'Freezing...</td>\n",
       "      <td>clinical.updrs.3_11</td>\n",
       "    </tr>\n",
       "  </tbody>\n",
       "</table>\n",
       "</div>"
      ],
      "text/plain": [
       "         time  created_time device_id  \\\n",
       "0  1627491120  1.641546e+09  M4S95rKL   \n",
       "\n",
       "                                                  id event_namespace  \\\n",
       "0  event-2d4534c-eca860bd7c17ccfa048596bb77810ed5...        clinical   \n",
       "\n",
       "  event_type event_enum                                            payload  \\\n",
       "0      updrs       3_11  {'category': 'UPDRS', 'description': 'Freezing...   \n",
       "\n",
       "          display_name  \n",
       "0  clinical.updrs.3_11  "
      ]
     },
     "execution_count": 27,
     "metadata": {},
     "output_type": "execute_result"
    }
   ],
   "source": [
    "updrs_3_11_events"
   ]
  },
  {
   "cell_type": "code",
   "execution_count": 28,
   "metadata": {
    "ExecuteTime": {
     "end_time": "2022-01-12T23:54:46.891437Z",
     "start_time": "2022-01-12T23:54:46.887253Z"
    }
   },
   "outputs": [
    {
     "data": {
      "text/plain": [
       "{'category': 'UPDRS',\n",
       " 'description': 'Freezing of gait',\n",
       " 'name': '3_11',\n",
       " 'value': '4'}"
      ]
     },
     "execution_count": 28,
     "metadata": {},
     "output_type": "execute_result"
    }
   ],
   "source": [
    "updrs_3_11_events.iloc[0].payload"
   ]
  },
  {
   "cell_type": "markdown",
   "metadata": {},
   "source": [
    "## Examine the payload of an event\n",
    "\n",
    "Any information can be placed in the payload of an event. In this example, we have included the type of assessment, item designation, item description, and recorded value in the payload of each individual item event. We have also placed all of the items in the payload of an \"all\" event.\n",
    "\n",
    "Pull the \"all\" event from the API and examine its payload:"
   ]
  },
  {
   "cell_type": "code",
   "execution_count": 29,
   "metadata": {
    "ExecuteTime": {
     "end_time": "2022-01-12T23:54:53.871530Z",
     "start_time": "2022-01-12T23:54:52.160489Z"
    }
   },
   "outputs": [],
   "source": [
    "# Now pull the comprehensive \"all\" event.\n",
    "\n",
    "# Copy the previously use parameters.\n",
    "params_all = params.copy()\n",
    "\n",
    "# Add the desired \"event\" parameter to the new set of parameters.\n",
    "params_all['event'] = 'clinical.updrs.all'\n",
    "\n",
    "# Pull from the API with the specific parameter set.\n",
    "updrs_all_events = get_events(client, params_all)"
   ]
  },
  {
   "cell_type": "code",
   "execution_count": 30,
   "metadata": {
    "ExecuteTime": {
     "end_time": "2022-01-12T23:54:53.946468Z",
     "start_time": "2022-01-12T23:54:53.938440Z"
    }
   },
   "outputs": [
    {
     "data": {
      "text/plain": [
       "{'1_1': {'Description': 'Cognitive impairment', 'Value': '4'},\n",
       " '1_10': {'Description': 'Urinary problems', 'Value': '4'},\n",
       " '1_11': {'Description': 'Constipation problems', 'Value': '4'},\n",
       " '1_12': {'Description': 'Lightheadedness on standing', 'Value': '4'},\n",
       " '1_13': {'Description': 'Fatigue', 'Value': '4'},\n",
       " '1_2': {'Description': 'Hallucinations and psychosis', 'Value': '4'},\n",
       " '1_3': {'Description': 'Depressed mood', 'Value': '4'},\n",
       " '1_4': {'Description': 'Anxious mood', 'Value': '4'},\n",
       " '1_5': {'Description': 'Apathy', 'Value': '4'},\n",
       " '1_6': {'Description': 'Features of DDS', 'Value': '4'},\n",
       " '1_6a': {'Description': 'Who is filling out questionnaire',\n",
       "  'Value': 'patient'},\n",
       " '1_7': {'Description': 'Sleep problems', 'Value': '4'},\n",
       " '1_8': {'Description': 'Daytime sleepiness', 'Value': '4'},\n",
       " '1_9': {'Description': 'Pain and other sensations', 'Value': '4'},\n",
       " '1_A': {'Description': 'Source of Information', 'Value': 'patient'},\n",
       " '2_1': {'Description': 'Speech', 'Value': '4'},\n",
       " '2_10': {'Description': 'Tremor', 'Value': '4'},\n",
       " '2_11': {'Description': 'Getting out of b', 'Value': '4'},\n",
       " '2_12': {'Description': 'Walking and balance', 'Value': '4'},\n",
       " '2_13': {'Description': 'Freezing', 'Value': '4'},\n",
       " '2_2': {'Description': 'Saliva and drooling', 'Value': '4'},\n",
       " '2_3': {'Description': 'Chewing and swallowing', 'Value': '4'},\n",
       " '2_4': {'Description': 'Eating tasks', 'Value': '4'},\n",
       " '2_5': {'Description': 'Dressing', 'Value': '4'},\n",
       " '2_6': {'Description': 'Hygiene', 'Value': '4'},\n",
       " '2_7': {'Description': 'Handwriting', 'Value': '4'},\n",
       " '2_8': {'Description': 'Doing hobbies and other activities', 'Value': '4'},\n",
       " '2_9': {'Description': 'Turning in bed', 'Value': '4'},\n",
       " '3_1': {'Description': 'Speech', 'Value': '4'},\n",
       " '3_10': {'Description': 'Gait', 'Value': '4'},\n",
       " '3_11': {'Description': 'Freezing of gait', 'Value': '4'},\n",
       " '3_12': {'Description': 'Postural stability', 'Value': '4'},\n",
       " '3_13': {'Description': 'Posture', 'Value': '4'},\n",
       " '3_14': {'Description': 'Global Spontaneity of Movement', 'Value': '4'},\n",
       " '3_15a': {'Description': 'Postural tremor - Right hand', 'Value': '4'},\n",
       " '3_15b': {'Description': 'Postural tremor - Left hand', 'Value': '4'},\n",
       " '3_16a': {'Description': 'Kinetic tremor - Right hand', 'Value': '4'},\n",
       " '3_16b': {'Description': 'Kinetic tremor - Left hand', 'Value': '4'},\n",
       " '3_17a': {'Description': 'Rest tremor amplitude - RUE', 'Value': '4'},\n",
       " '3_17b': {'Description': 'Rest tremor amplitude - LUE', 'Value': '4'},\n",
       " '3_17c': {'Description': 'Rest tremor amplitude - RLE', 'Value': '4'},\n",
       " '3_17d': {'Description': 'Rest tremor amplitude - LLE', 'Value': '4'},\n",
       " '3_17e': {'Description': 'Rest tremor amplitude - Lip/jaw', 'Value': '4'},\n",
       " '3_18': {'Description': 'Constancy of rest tremor', 'Value': '4'},\n",
       " '3_2': {'Description': 'Facial expression', 'Value': '4'},\n",
       " '3_3a': {'Description': 'Rigidity - neck', 'Value': '4'},\n",
       " '3_3b': {'Description': 'Rigidity - RUE', 'Value': '4'},\n",
       " '3_3c': {'Description': 'Rigidity - LUE', 'Value': '4'},\n",
       " '3_3d': {'Description': 'Rigidity - RLE', 'Value': '4'},\n",
       " '3_3e': {'Description': 'Rigidity - LLE', 'Value': '4'},\n",
       " '3_4a': {'Description': 'Finger tapping - Right hand', 'Value': '4'},\n",
       " '3_4b': {'Description': 'Finger tapping - Left hand', 'Value': '4'},\n",
       " '3_5a': {'Description': 'Hand Movements - Right hand', 'Value': '4'},\n",
       " '3_5b': {'Description': 'Hand Movements - Left hand', 'Value': '4'},\n",
       " '3_6a': {'Description': 'Pronation-supination movements - Right hand',\n",
       "  'Value': '4'},\n",
       " '3_6b': {'Description': 'Pronation-supination movements - Left hand',\n",
       "  'Value': '4'},\n",
       " '3_7a': {'Description': 'Toe tapping - Right foot', 'Value': '4'},\n",
       " '3_7b': {'Description': 'Toe tapping - Left foot', 'Value': '4'},\n",
       " '3_8a': {'Description': 'Leg agility - Right leg', 'Value': '4'},\n",
       " '3_8b': {'Description': 'Leg agility - Left leg', 'Value': '4'},\n",
       " '3_9': {'Description': 'Arising from Chair', 'Value': '4'},\n",
       " '3_c1': {'Description': 'If yes, minutes since last dose', 'Value': '30'},\n",
       " '3_dyskA': {'Description': 'Were dyskinesias present?', 'Value': 'yes'},\n",
       " '3_dyskB': {'Description': 'Did these movements interfere with ratings?',\n",
       "  'Value': 'no'},\n",
       " '3_hy': {'Description': 'Hoehn and Yahr Stage', 'Value': '5'},\n",
       " '3a': {'Description': 'Is the patient on medication?', 'Value': 'yes'},\n",
       " '3b': {'Description': \"Patient's clinical state\", 'Value': 'on'},\n",
       " '3c': {'Description': 'Is the patient on levodopa?', 'Value': 'yes'},\n",
       " '4_1': {'Description': 'Time spent with dyskinesias', 'Value': '4'},\n",
       " '4_2': {'Description': 'Functional impact of dyskinesias', 'Value': '4'},\n",
       " '4_3': {'Description': 'Time spent in the OFF state', 'Value': '4'},\n",
       " '4_4': {'Description': 'Functional impact of fluctuations', 'Value': '4'},\n",
       " '4_5': {'Description': 'Complexity of motor fluctuations', 'Value': '4'},\n",
       " '4_6': {'Description': 'Painful OFF-state dystonia', 'Value': '4'},\n",
       " 'category': 'UPDRS',\n",
       " 'description': 'All scores',\n",
       " 'name': 'all'}"
      ]
     },
     "execution_count": 30,
     "metadata": {},
     "output_type": "execute_result"
    }
   ],
   "source": [
    "updrs_all_events.iloc[0].payload"
   ]
  },
  {
   "cell_type": "markdown",
   "metadata": {},
   "source": [
    "If desired, we can extract the information for a particular item from this payload:"
   ]
  },
  {
   "cell_type": "code",
   "execution_count": 31,
   "metadata": {
    "ExecuteTime": {
     "end_time": "2022-01-12T23:54:55.740395Z",
     "start_time": "2022-01-12T23:54:55.736176Z"
    }
   },
   "outputs": [
    {
     "name": "stdout",
     "output_type": "stream",
     "text": [
      "Item 4_6:\n",
      "    Description: Painful OFF-state dystonia\n",
      "    Value: 4\n"
     ]
    }
   ],
   "source": [
    "# Using item 4-6 for example:\n",
    "item = '4_6'\n",
    "item_info = updrs_all_events.iloc[0].payload[item]\n",
    "\n",
    "print(f\"Item {item}:\")\n",
    "print(f\"    Description: {item_info['Description']}\")\n",
    "print(f\"    Value: {item_info['Value']}\")"
   ]
  },
  {
   "cell_type": "markdown",
   "metadata": {},
   "source": [
    "---\n",
    "\n",
    "# Summary\n",
    "\n",
    "This notebook has utilized the UPDRS assessment as an example to demonstrate how to upload clinical scores and other such data to the Rune platform. It provides a recommended format as a CSV file. The example code and file can be modified to handle other data and formats. We are happy to help with your specific application."
   ]
  }
 ],
 "metadata": {
  "kernelspec": {
   "display_name": "Python 3 (ipykernel)",
   "language": "python",
   "name": "python3"
  },
  "language_info": {
   "codemirror_mode": {
    "name": "ipython",
    "version": 3
   },
   "file_extension": ".py",
   "mimetype": "text/x-python",
   "name": "python",
   "nbconvert_exporter": "python",
   "pygments_lexer": "ipython3",
   "version": "3.8.5"
  },
  "varInspector": {
   "cols": {
    "lenName": 16,
    "lenType": 16,
    "lenVar": 40
   },
   "kernels_config": {
    "python": {
     "delete_cmd_postfix": "",
     "delete_cmd_prefix": "del ",
     "library": "var_list.py",
     "varRefreshCmd": "print(var_dic_list())"
    },
    "r": {
     "delete_cmd_postfix": ") ",
     "delete_cmd_prefix": "rm(",
     "library": "var_list.r",
     "varRefreshCmd": "cat(var_dic_list()) "
    }
   },
   "types_to_exclude": [
    "module",
    "function",
    "builtin_function_or_method",
    "instance",
    "_Feature"
   ],
   "window_display": false
  }
 },
 "nbformat": 4,
 "nbformat_minor": 4
}
