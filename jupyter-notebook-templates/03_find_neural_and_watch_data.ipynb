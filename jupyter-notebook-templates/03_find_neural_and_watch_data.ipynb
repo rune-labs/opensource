{
 "cells": [
  {
   "cell_type": "markdown",
   "metadata": {},
   "source": [
    "# Find epochs with concurrent neural and watch data\n",
    "\n",
    "For subjects with paired RC+S and Apple watch streaming, here is some example code to find both neural and watch data using the `availability` expression. The user specifies a resolution of interest (per day, per hour, per 10 minutes, etc.), and the API request will output 0's and 1's for data availability per time bin. Even if there is only 1 second of data available within a bin, the output is 1. Note that the finest resolution available is 5 minute bins."
   ]
  },
  {
   "cell_type": "code",
   "execution_count": 1,
   "metadata": {
    "ExecuteTime": {
     "end_time": "2020-09-10T23:25:54.743703Z",
     "start_time": "2020-09-10T23:25:53.950541Z"
    }
   },
   "outputs": [],
   "source": [
    "import datetime\n",
    "import numpy as np\n",
    "import pandas as pd\n",
    "import matplotlib.pyplot as plt\n",
    "from collections import defaultdict\n",
    "from runeq import Config, stream"
   ]
  },
  {
   "cell_type": "markdown",
   "metadata": {
    "ExecuteTime": {
     "end_time": "2020-05-05T23:06:02.559225Z",
     "start_time": "2020-05-05T23:06:02.556246Z"
    }
   },
   "source": [
    "### Functions checking data availability\n",
    "The functions below at wrapper functions for checking neural and accelerometry data availability."
   ]
  },
  {
   "cell_type": "code",
   "execution_count": 2,
   "metadata": {
    "ExecuteTime": {
     "end_time": "2020-09-10T23:25:55.799127Z",
     "start_time": "2020-09-10T23:25:55.792454Z"
    }
   },
   "outputs": [],
   "source": [
    "def check_neural_data_availability(client, params):\n",
    "    \"\"\"\n",
    "    Finds neural data availability within some time frame\n",
    "    Outputs: dataframe with 0's and 1's for data availability per timestamp\n",
    "    \"\"\"\n",
    "\n",
    "    accessor = client.LFP(expression='availability(lfp)', **params)\n",
    "\n",
    "    df = pd.DataFrame()\n",
    "    for page in accessor.iter_json_availability():\n",
    "        df_page = pd.DataFrame()\n",
    "        for idx, key in enumerate(page['data'].keys()):\n",
    "            df_page.insert(idx, key, page['data'][key])\n",
    "        df_page.insert(0, 'time', page['time'])\n",
    "        df = df.append(df_page, ignore_index=True)\n",
    "\n",
    "    return df\n",
    "\n",
    "\n",
    "def check_accel_data_availability(client, params):\n",
    "    \"\"\"\n",
    "    Finds accel data availability within some time frame\n",
    "    Outputs: dataframe with 0's and 1's for data availability per timestamp\n",
    "    \"\"\"\n",
    "\n",
    "    accessor = client.Accel(expression='availability(accel)', **params)\n",
    "\n",
    "    df = pd.DataFrame()\n",
    "    for page in accessor.iter_json_availability():\n",
    "        df = pd.DataFrame(page['availability(accel)'])\n",
    "        df.insert(0, 'time', page['time'])\n",
    "\n",
    "    return df"
   ]
  },
  {
   "cell_type": "markdown",
   "metadata": {},
   "source": [
    "### Functions for finding data epochs\n",
    "\n",
    "`find_epochs` find the start/end points of data epochs based on matches to some specified state, in which time stamps are continuous. For example, if we have a list of data availability (which are 0's and 1's), we can use this function to find the start/end of each continuous segment of 1's. `find_overlapping_epochs` takes multiple data epochs and finds the intersecting time points in which all conditions were met. For example, if epochs with neural data and epochs with accelerometry data were entered, it would return epochs in which both neural + accelerometry data were available. The final function `plot_epochs` plots start/end of each epoch."
   ]
  },
  {
   "cell_type": "code",
   "execution_count": 3,
   "metadata": {
    "ExecuteTime": {
     "end_time": "2020-09-10T23:25:57.301776Z",
     "start_time": "2020-09-10T23:25:57.288475Z"
    }
   },
   "outputs": [],
   "source": [
    "def find_epochs(timestamp_series, state_series, state_match):\n",
    "    \"\"\"\n",
    "    Returns start/stop time of data epochs based off state changes\n",
    "    For example, we want to find all data epochs in which sampling rate == 250\n",
    "    Each epoch starts when the first sampling rate event == 250\n",
    "    Each epoch ends when sampling rate changes to different value\n",
    "\n",
    "    Input:\n",
    "        time_series - unix time stamps for each state <pd series>\n",
    "        state_series - values for a particular state <pd series>\n",
    "        state_match - desired state value <int, float, or string>\n",
    "    Output:\n",
    "        epochs - list of unix time stamps for epoch start/stop\n",
    "    \"\"\"\n",
    "\n",
    "    # calculate changes in adjacent values to identify state changes\n",
    "    match = pd.DataFrame([1 if x == state_match else 0 for x in state_series])\n",
    "    match['change'] = match.diff()\n",
    "\n",
    "    # when 'change' is 0, then a current value is same as previous value\n",
    "    # an epoch begins when the change value is 1\n",
    "    # an epoch ends when the change value is -1\n",
    "    start_idx = [((np.isnan(x) and y == 1) or x == 1)\n",
    "                 for x, y in zip(match['change'], match[0])]\n",
    "    stop_idx = [x == -1 for x in match['change']]\n",
    "\n",
    "    # obtain datetime stamps for the start and stop of all epochs\n",
    "    window_start = timestamp_series[start_idx]\n",
    "    window_stop = timestamp_series[stop_idx]\n",
    "\n",
    "    # if the last epoch has no stop, add the last datetime stamp as the stop\n",
    "    if len(window_start) > len(window_stop):\n",
    "        window_stop = window_stop.append(\n",
    "            pd.Series(timestamp_series.iloc[-1]),\n",
    "            ignore_index=True\n",
    "        )\n",
    "\n",
    "    # make array of start/stop times\n",
    "    epochs = np.array([window_start.values, window_stop.values]).transpose()\n",
    "\n",
    "    return epochs\n",
    "\n",
    "\n",
    "def find_overlapping_epochs(*conditions):\n",
    "    \"\"\"\n",
    "    Return epochs where all conditions are true.\n",
    "\n",
    "    Input:\n",
    "        One or more conditions. Each condition is a list of epochs.\n",
    "        Each epoch is a list/tuple with 2 elements: the start and\n",
    "        end time of a time interval where the condition was true.\n",
    "\n",
    "    Output:\n",
    "        A list of tuples, where each tuple represents the start and\n",
    "        end time of an epoch where all the conditions are true\n",
    "    \"\"\"\n",
    "\n",
    "    # Compile a set of all the timestamps (the start times AND\n",
    "    # end times of any of our conditions).\n",
    "    times = set()\n",
    "\n",
    "    # Also create a dictionary that summarizes the overall change at\n",
    "    # each timestamp: the net number of conditions that \"turn on\" (or\n",
    "    # \"become\" true).\n",
    "    change_at_time = defaultdict(int)\n",
    "\n",
    "    for condition in conditions:\n",
    "        for epoch in condition:\n",
    "            start, end = epoch\n",
    "            times.add(start)\n",
    "            times.add(end)\n",
    "            # When a condition starts, the change at time t is positive\n",
    "            change_at_time[start] += 1\n",
    "            # When a condition ends, the change at time t is negative\n",
    "            change_at_time[end] -= 1\n",
    "\n",
    "    results = []\n",
    "\n",
    "    # Now go through the timestamps *in order*, and keep track of\n",
    "    # the cumulative sum of change_at_time:\n",
    "    num_on = 0\n",
    "\n",
    "    num_conditions = len(conditions)\n",
    "\n",
    "    # When we find a timestamp where all of the conditions are true\n",
    "    # (i.e. cumulative sum = num_conditions), we'll keep track of the\n",
    "    # start time:\n",
    "    current_epoch_start = None\n",
    "\n",
    "    for time in sorted(times):\n",
    "        num_on += change_at_time[time]\n",
    "        if num_on == num_conditions and current_epoch_start is None:\n",
    "            current_epoch_start = time\n",
    "\n",
    "        if num_on != num_conditions and current_epoch_start is not None:\n",
    "            results.append((current_epoch_start, time))\n",
    "            current_epoch_start = None\n",
    "\n",
    "    if not results:\n",
    "        print('No epochs matching all criteria')\n",
    "\n",
    "    return results\n",
    "\n",
    "\n",
    "def plot_epochs(condition_names, *conditions):\n",
    "    \"\"\"\n",
    "    Plots data availability for one or more conditions\n",
    "\n",
    "    Input: List of condition names, list of start/end times for epochs per\n",
    "    condition\n",
    "    \"\"\"\n",
    "\n",
    "    num_conditions = len(conditions)\n",
    "\n",
    "    fig, ax = plt.subplots(figsize=(12, 5))\n",
    "\n",
    "    for idx, condition in enumerate(conditions):\n",
    "        for epoch in condition:\n",
    "            ax.plot(\n",
    "                [datetime.datetime.fromtimestamp(epoch[0]),\n",
    "                 datetime.datetime.fromtimestamp(epoch[1])],\n",
    "                [idx, idx],\n",
    "                linewidth=25\n",
    "            )\n",
    "\n",
    "    plt.xticks(rotation=90)\n",
    "    plt.yticks(np.arange(num_conditions), condition_names)\n",
    "    plt.tight_layout()\n",
    "    plt.xlabel('Time')\n",
    "    plt.ylabel('Filter Criteria')\n",
    "    plt.title('Data Availability')"
   ]
  },
  {
   "cell_type": "markdown",
   "metadata": {},
   "source": [
    "Be sure to obtain the credentials for the RC+S in addition to the Apple Watch, and to use the appropriate device_id when checking for neural/accel data availability. "
   ]
  },
  {
   "cell_type": "markdown",
   "metadata": {},
   "source": [
    "## 1. Initialize API credentials"
   ]
  },
  {
   "cell_type": "code",
   "execution_count": 4,
   "metadata": {
    "ExecuteTime": {
     "end_time": "2020-09-10T23:25:59.120694Z",
     "start_time": "2020-09-10T23:25:59.114252Z"
    }
   },
   "outputs": [],
   "source": [
    "# set up client\n",
    "\n",
    "cfg = Config()\n",
    "client = stream.V1Client(cfg)"
   ]
  },
  {
   "cell_type": "markdown",
   "metadata": {},
   "source": [
    "## 2. Check data availability"
   ]
  },
  {
   "cell_type": "markdown",
   "metadata": {},
   "source": [
    "### Example 1\n",
    "\n",
    "In a single patient, we will check for data availability on a daily basis for the month of March 2020."
   ]
  },
  {
   "cell_type": "code",
   "execution_count": 5,
   "metadata": {
    "ExecuteTime": {
     "end_time": "2020-09-10T23:26:00.287871Z",
     "start_time": "2020-09-10T23:26:00.284160Z"
    }
   },
   "outputs": [],
   "source": [
    "# initialize neural availability parameters\n",
    "\n",
    "neural_params = {\n",
    "    'patient_id': 'd629537621de441d8b713037bff1e8fd',\n",
    "    'device_id': 'c0Cg11Ub',\n",
    "    'start_time': datetime.datetime(2020, 3, 1).timestamp(),\n",
    "    'end_time': datetime.datetime(2020, 4, 1).timestamp(),\n",
    "    'channels': '0,1,2,3',\n",
    "    'resolution': 60 * 60 * 24\n",
    "}"
   ]
  },
  {
   "cell_type": "code",
   "execution_count": 6,
   "metadata": {
    "ExecuteTime": {
     "end_time": "2020-09-10T23:26:01.638105Z",
     "start_time": "2020-09-10T23:26:01.633993Z"
    }
   },
   "outputs": [],
   "source": [
    "# initialize accel availability parameters\n",
    "\n",
    "accel_params = {\n",
    "    'patient_id': 'd629537621de441d8b713037bff1e8fd',\n",
    "    'device_id': '6*yEoMb2',\n",
    "    'start_time': datetime.datetime(2020, 3, 1).timestamp(),\n",
    "    'end_time': datetime.datetime(2020, 4, 1).timestamp(),\n",
    "    'resolution': 60 * 60 * 24\n",
    "}"
   ]
  },
  {
   "cell_type": "code",
   "execution_count": 7,
   "metadata": {
    "ExecuteTime": {
     "end_time": "2020-09-10T23:26:04.905455Z",
     "start_time": "2020-09-10T23:26:03.317715Z"
    }
   },
   "outputs": [],
   "source": [
    "# check data availability with daily resolution\n",
    "\n",
    "neural_data_avail_daily = check_neural_data_availability(client, neural_params)\n",
    "accel_data_avail_daily = check_accel_data_availability(client, accel_params)"
   ]
  },
  {
   "cell_type": "code",
   "execution_count": 8,
   "metadata": {
    "ExecuteTime": {
     "end_time": "2020-09-10T23:26:05.844450Z",
     "start_time": "2020-09-10T23:26:05.840304Z"
    }
   },
   "outputs": [],
   "source": [
    "# days with both accel + neural\n",
    "\n",
    "all_avail_daily = neural_data_avail_daily.time[\n",
    "    (neural_data_avail_daily['channel.0'] == 1)\n",
    "    & (accel_data_avail_daily[0] == 1)\n",
    "]"
   ]
  },
  {
   "cell_type": "code",
   "execution_count": 9,
   "metadata": {
    "ExecuteTime": {
     "end_time": "2020-09-10T23:26:11.723706Z",
     "start_time": "2020-09-10T23:26:11.714314Z"
    }
   },
   "outputs": [
    {
     "data": {
      "text/plain": [
       "4    2020-03-05\n",
       "5    2020-03-06\n",
       "6    2020-03-07\n",
       "7    2020-03-08\n",
       "8    2020-03-09\n",
       "9    2020-03-10\n",
       "10   2020-03-11\n",
       "11   2020-03-12\n",
       "12   2020-03-13\n",
       "13   2020-03-14\n",
       "14   2020-03-15\n",
       "15   2020-03-16\n",
       "17   2020-03-18\n",
       "18   2020-03-19\n",
       "19   2020-03-20\n",
       "20   2020-03-21\n",
       "21   2020-03-22\n",
       "22   2020-03-23\n",
       "23   2020-03-24\n",
       "24   2020-03-25\n",
       "26   2020-03-27\n",
       "27   2020-03-28\n",
       "28   2020-03-29\n",
       "29   2020-03-30\n",
       "Name: time, dtype: datetime64[ns]"
      ]
     },
     "execution_count": 9,
     "metadata": {},
     "output_type": "execute_result"
    }
   ],
   "source": [
    "# print days with both channel 0 and accel recordings\n",
    "\n",
    "pd.to_datetime(all_avail_daily, unit='s')"
   ]
  },
  {
   "cell_type": "markdown",
   "metadata": {},
   "source": [
    "### Example 2\n",
    "\n",
    "Next, we will check data availability with a higher resolution (every 10 minutes) in the same time frame."
   ]
  },
  {
   "cell_type": "code",
   "execution_count": 10,
   "metadata": {
    "ExecuteTime": {
     "end_time": "2020-09-10T23:26:51.406051Z",
     "start_time": "2020-09-10T23:26:13.806760Z"
    }
   },
   "outputs": [],
   "source": [
    "neural_data_avail_fine_res = pd.DataFrame()\n",
    "accel_data_avail_fine_res = pd.DataFrame()\n",
    "\n",
    "# loop through all the days in our time range and check for data per 10 min bin\n",
    "for start_day in all_avail_daily:\n",
    "    start_time = start_day\n",
    "    end_time = start_day + 60*60*24\n",
    "    neural_params = {\n",
    "        'patient_id': 'd629537621de441d8b713037bff1e8fd',\n",
    "        'device_id': 'c0Cg11Ub',\n",
    "        'start_time': start_time,\n",
    "        'end_time': end_time,\n",
    "        'channels': '0,1,2,3',\n",
    "        'resolution': 60*10\n",
    "    }\n",
    "    accel_params = {\n",
    "        'patient_id': 'd629537621de441d8b713037bff1e8fd',\n",
    "        'device_id': '6*yEoMb2',\n",
    "        'start_time': start_time,\n",
    "        'end_time': end_time,\n",
    "        'resolution': 60*10\n",
    "    }\n",
    "    neural_day = check_neural_data_availability(client, neural_params)\n",
    "    neural_data_avail_fine_res = neural_data_avail_fine_res.append(neural_day)\n",
    "    accel_day = check_accel_data_availability(client, accel_params)\n",
    "    accel_data_avail_fine_res = accel_data_avail_fine_res.append(accel_day)"
   ]
  },
  {
   "cell_type": "code",
   "execution_count": 11,
   "metadata": {
    "ExecuteTime": {
     "end_time": "2020-09-10T23:28:41.817771Z",
     "start_time": "2020-09-10T23:28:41.790782Z"
    }
   },
   "outputs": [],
   "source": [
    "# find individual epochs\n",
    "\n",
    "epochs_neural = find_epochs(\n",
    "    neural_data_avail_fine_res.time,\n",
    "    neural_data_avail_fine_res['channel.0'],\n",
    "    1\n",
    ")\n",
    "epochs_accel = find_epochs(\n",
    "    accel_data_avail_fine_res.time,\n",
    "    accel_data_avail_fine_res[0],\n",
    "    1\n",
    ")"
   ]
  },
  {
   "cell_type": "code",
   "execution_count": 12,
   "metadata": {
    "ExecuteTime": {
     "end_time": "2020-09-10T23:28:42.638267Z",
     "start_time": "2020-09-10T23:28:42.634895Z"
    }
   },
   "outputs": [],
   "source": [
    "# find overlap epochs\n",
    "\n",
    "epochs_neural_and_accel = find_overlapping_epochs(\n",
    "    epochs_neural, \n",
    "    epochs_accel\n",
    ")"
   ]
  },
  {
   "cell_type": "code",
   "execution_count": 13,
   "metadata": {
    "ExecuteTime": {
     "end_time": "2020-09-10T23:28:44.101156Z",
     "start_time": "2020-09-10T23:28:43.838620Z"
    },
    "scrolled": false
   },
   "outputs": [
    {
     "data": {
      "image/png": "[encoded data removed]",
      "text/plain": [
       "<Figure size 864x360 with 1 Axes>"
      ]
     },
     "metadata": {
      "needs_background": "light"
     },
     "output_type": "display_data"
    }
   ],
   "source": [
    "# plot data availability\n",
    "\n",
    "plot_epochs(\n",
    "    [\n",
    "        'neural',\n",
    "        'accel',\n",
    "        'neural+accel'\n",
    "    ],\n",
    "    epochs_neural,\n",
    "    epochs_accel,\n",
    "    epochs_neural_and_accel\n",
    ")"
   ]
  },
  {
   "cell_type": "markdown",
   "metadata": {},
   "source": [
    "To obtain the raw neural time series and accelerometry data, we can then loop through the `epochs` variable and use `get_neural_time_series` and `get_accel` from the previous notebooks `01_download_neural_data` and `02_download_watch_data`, respectively.\n",
    "\n",
    "Other uses of the `availability` expression:\n",
    "- Find bilateral data (run `check_neural_data_availability` for each hemisphere)\n",
    "- After filtering for meta data and obtaining a list of epochs of neural data, loop through epochs and check accel availability "
   ]
  },
  {
   "cell_type": "markdown",
   "metadata": {},
   "source": [
    "## Summary\n",
    "\n",
    "We checked for concurrent neural and watch data. After relevant epochs are found, we can further filter by meta data parameters."
   ]
  }
 ],
 "metadata": {
  "kernelspec": {
   "display_name": "Python 3",
   "language": "python",
   "name": "python3"
  },
  "language_info": {
   "codemirror_mode": {
    "name": "ipython",
    "version": 3
   },
   "file_extension": ".py",
   "mimetype": "text/x-python",
   "name": "python",
   "nbconvert_exporter": "python",
   "pygments_lexer": "ipython3",
   "version": "3.7.6"
  },
  "varInspector": {
   "cols": {
    "lenName": 16,
    "lenType": 16,
    "lenVar": 40
   },
   "kernels_config": {
    "python": {
     "delete_cmd_postfix": "",
     "delete_cmd_prefix": "del ",
     "library": "var_list.py",
     "varRefreshCmd": "print(var_dic_list())"
    },
    "r": {
     "delete_cmd_postfix": ") ",
     "delete_cmd_prefix": "rm(",
     "library": "var_list.r",
     "varRefreshCmd": "cat(var_dic_list()) "
    }
   },
   "types_to_exclude": [
    "module",
    "function",
    "builtin_function_or_method",
    "instance",
    "_Feature"
   ],
   "window_display": false
  }
 },
 "nbformat": 4,
 "nbformat_minor": 4
}
