{
 "cells": [
  {
   "cell_type": "markdown",
   "metadata": {},
   "source": [
    "# Advanced neural data selection\n",
    "\n",
    "Often times we want to subselect neural data that match certain meta data parameters. For example, to compare neurophysiology on vs. off deep brain stimulation, we would need to filter data by therapy status. We could also filter by stimulation frequency, stimulation amplitude, sensing sampling rate, etc. \n",
    "\n",
    "This template is an example of how to use Rune's API to find windows of time in which meta data parameters were met. We specify filtering parameters and target values, and we retrieve a list of time stamps for data epochs that match our critera. Note that these time stamps represent windows in which meta data parameters were constant, but do not necessarily represent times when data were streamed. For example, if sampling rate was constant at 250 hz for 2 weeks and the subject streamed data for 2 days within that period, these functions will return the full two week window. To find epochs in which all of our settings were met **and** data were streamed, we can check for overlap between the epochs returned here and the epochs found using the `availability` expression in the previous notebook."
   ]
  },
  {
   "cell_type": "code",
   "execution_count": 25,
   "metadata": {
    "ExecuteTime": {
     "end_time": "2021-12-03T14:19:56.923941Z",
     "start_time": "2021-12-03T14:19:56.920915Z"
    }
   },
   "outputs": [],
   "source": [
    "import io\n",
    "import datetime\n",
    "import pandas as pd\n",
    "import numpy as np\n",
    "import matplotlib.pyplot as plt\n",
    "from runeq import Config, stream\n",
    "from collections import defaultdict"
   ]
  },
  {
   "cell_type": "markdown",
   "metadata": {},
   "source": [
    "## Functions for API calls\n",
    "\n",
    "These wrapper functions use Rune's API and Python package `runeq` to pull meta data about stimulation, sensing, and adaptive parameters. The outputs are state values for each parameter, in addition to time stamps for each state value. \n",
    "\n",
    "Additionally, the API can be used to pull raw neural time series data, spectrograms, and power spectra. A wrapper function for pulling neural time series is included for demonstration of how to retrieve data after we have identified time stamps for data of interest (this function is from the previous notebook `01_download_neural_data`)."
   ]
  },
  {
   "cell_type": "code",
   "execution_count": 26,
   "metadata": {
    "ExecuteTime": {
     "end_time": "2021-12-03T14:19:59.044880Z",
     "start_time": "2021-12-03T14:19:59.036055Z"
    }
   },
   "outputs": [],
   "source": [
    "def make_full_df(accessor):\n",
    "    \"\"\"Loop through pages of API calls and append to a single dataframe\"\"\"\n",
    "\n",
    "    df = pd.DataFrame()\n",
    "    for page in accessor.iter_csv_text():\n",
    "        page_df = pd.read_csv(io.StringIO(page))\n",
    "        df = df.append(page_df, ignore_index=True)\n",
    "\n",
    "    return df\n",
    "\n",
    "def get_stimulation_meta_data(client, params):\n",
    "    \"\"\"Makes API calls for stimulation meta data, outputs dataframe\"\"\"\n",
    "      \n",
    "    stimulation_fields = {\n",
    "        'event': 'therapy_status',\n",
    "            'fields': 'active_group,'\n",
    "                      'therapy_status'\n",
    "    }    \n",
    "\n",
    "    accessor = client.State(**stimulation_fields, **params)\n",
    "    return make_full_df(accessor)\n",
    "\n",
    "\n",
    "def get_sensing_meta_data(client, params):\n",
    "    \"\"\"Makes API calls for sensing meta data, outputs dataframe\"\"\"\n",
    "\n",
    "    sensing_fields = {        \n",
    "        'event': 'sampling_frequency.lfp',\n",
    "        'fields': 'frequency_hz'\n",
    "    }\n",
    "\n",
    "    accessor = client.State(**sensing_fields, **params)\n",
    "    return make_full_df(accessor)\n",
    "\n",
    "\n",
    "def get_adaptive_meta_data(client, params):\n",
    "    \"\"\"Makes API calls for adaptive meta data, outputs dataframe\"\"\"\n",
    "\n",
    "    adaptive_fields = {\n",
    "        'event': 'adaptive_update',\n",
    "        'fields': 'adaptive_state,'\n",
    "                  'ld0_detection_status,'\n",
    "                  'ld0_feature_0,'\n",
    "                  'ld0_feature_1,'\n",
    "                  'ld0_feature_2,'\n",
    "                  'ld0_feature_3,'\n",
    "                  'ld0_fixed_decimal_point,'\n",
    "                  'ld0_output,'\n",
    "                  'ld0_threshold_high,'\n",
    "                  'ld0_threshold_low,'\n",
    "                  'ld1_detection_status,'\n",
    "                  'ld1_feature_0,'\n",
    "                  'ld1_feature_1,'\n",
    "                  'ld1_feature_2,'\n",
    "                  'ld1_feature_3,'\n",
    "                  'ld1_fixed_decimal_point,'\n",
    "                  'ld1_output,'\n",
    "                  'ld1_threshold_high,'\n",
    "                  'ld1_threshold_low,'\n",
    "                  'program_0_amplitude_amp,'\n",
    "                  'program_1_amplitude_amp,'\n",
    "                  'program_2_amplitude_amp,'\n",
    "                  'program_3_amplitude_amp,'\n",
    "                  'sensing_status,'\n",
    "                  'sensing_status_adaptive_stim,'\n",
    "                  'sensing_status_detection_ld_0,'\n",
    "                  'sensing_status_detection_ld_1,'\n",
    "                  'sensing_status_fft,'\n",
    "                  'sensing_status_lfp_sensing,'\n",
    "                  'sensing_status_loop_recording,'\n",
    "                  'sensing_status_none,'\n",
    "                  'sensing_status_power,'\n",
    "                  'sensing_status_unused,'\n",
    "                  'state_entry_count,'\n",
    "                  'state_time,'\n",
    "                  'stim_flag_program_0,'\n",
    "                  'stim_flag_program_1,'\n",
    "                  'stim_flag_program_2,'\n",
    "                  'stim_flag_program_3,'\n",
    "                  'stim_flags,'\n",
    "                  'stim_rate_hz'\n",
    "    }\n",
    "\n",
    "    accessor = client.State(**adaptive_fields, **params)\n",
    "    return make_full_df(accessor)\n",
    "\n",
    "\n",
    "def get_neural_time_series(client, params, save_filepath=None):\n",
    "    \"\"\"\n",
    "    Makes API calls for neural time series, saves to CSV and outputs\n",
    "    dataframe\n",
    "    \"\"\"\n",
    "\n",
    "    accessor = client.LFP(**params)\n",
    "    df = make_full_df(accessor)\n",
    "    if save_filepath:\n",
    "        df.to_csv(save_filepath)\n",
    "    return df"
   ]
  },
  {
   "cell_type": "markdown",
   "metadata": {},
   "source": [
    "## Functions for finding data epochs\n",
    "\n",
    "Rune's API returns timestamps for state values. These timestamps reflect times when information about these state values were available and/or changed. The following functions take those timestamps and generate time windows, or epochs, where data match individual or multiple criteria (these functions are from the previous notebook). However, they do not necessarily reflect when data were available."
   ]
  },
  {
   "cell_type": "code",
   "execution_count": 27,
   "metadata": {
    "ExecuteTime": {
     "end_time": "2021-12-03T14:20:01.972295Z",
     "start_time": "2021-12-03T14:20:01.961643Z"
    }
   },
   "outputs": [],
   "source": [
    "def find_epochs(timestamp_series, state_series, state_match):\n",
    "    \"\"\"\n",
    "    Returns start/stop time of data epochs based off state changes\n",
    "    For example, we want to find all data epochs in which sampling rate == 250\n",
    "    Each epoch starts when the first sampling rate event == 250\n",
    "    Each epoch ends when sampling rate changes to different value\n",
    "\n",
    "    Input:\n",
    "        time_series - unix time stamps for each state <pd series>\n",
    "        state_series - values for a particular state <pd series>\n",
    "        state_match - desired state value <int, float, or string>\n",
    "    Output:\n",
    "        epochs - list of unix time stamps for epoch start/stop\n",
    "    \"\"\"\n",
    "\n",
    "    # calculate changes in adjacent values to identify state changes\n",
    "    match = pd.DataFrame([1 if x == state_match else 0 for x in state_series])\n",
    "    match['change'] = match.diff()\n",
    "\n",
    "    # when 'change' is 0, then a current value is same as previous value\n",
    "    # an epoch begins when the change value is 1\n",
    "    # an epoch ends when the change value is -1\n",
    "    start_idx = [((np.isnan(x) and y == 1) or x == 1)\n",
    "                 for x, y in zip(match['change'], match[0])]\n",
    "    stop_idx = [x == -1 for x in match['change']]\n",
    "\n",
    "    # obtain datetime stamps for the start and stop of all epochs\n",
    "    window_start = timestamp_series[start_idx]\n",
    "    window_stop = timestamp_series[stop_idx]\n",
    "\n",
    "    # if the last epoch has no stop, add the last datetime stamp as the stop\n",
    "    if len(window_start) > len(window_stop):\n",
    "        window_stop = window_stop.append(\n",
    "            pd.Series(timestamp_series.iloc[-1]), ignore_index=True)\n",
    "\n",
    "    # make array of start/stop times\n",
    "    epochs = np.array([window_start.values, window_stop.values]).transpose()\n",
    "\n",
    "    return epochs\n",
    "\n",
    "\n",
    "def find_overlapping_epochs(*conditions):\n",
    "    \"\"\"\n",
    "    Return epochs where all conditions are true.\n",
    "\n",
    "    Input:\n",
    "        One or more conditions. Each condition is a list of epochs.\n",
    "        Each epoch is a list/tuple with 2 elements: the start and\n",
    "        end time of a time interval where the condition was true.\n",
    "\n",
    "    Output:\n",
    "        A list of tuples, where each tuple represents the start and\n",
    "        end time of an epoch where all the conditions are true\n",
    "    \"\"\"\n",
    "\n",
    "    # compile a set of all the timestamps\n",
    "    times = set()\n",
    "\n",
    "    # create a dictionary that summarizes the overall change at\n",
    "    # each timestamp: the net number of conditions that become true\n",
    "    change_at_time = defaultdict(int)\n",
    "\n",
    "    for condition in conditions:\n",
    "        for epoch in condition:\n",
    "            start, end = epoch\n",
    "            times.add(start)\n",
    "            times.add(end)\n",
    "            # When a condition starts, the change at time t is positive\n",
    "            change_at_time[start] += 1\n",
    "            # When a condition ends, the change at time t is negative\n",
    "            change_at_time[end] -= 1\n",
    "\n",
    "    results = []\n",
    "\n",
    "    # now go through the timestamps *in order*, and keep track of\n",
    "    # the cumulative sum of change_at_time:\n",
    "    num_on = 0\n",
    "\n",
    "    num_conditions = len(conditions)\n",
    "\n",
    "    # when we find a timestamp where all of the conditions are true\n",
    "    # (i.e. cumulative sum = num_conditions), keep track of the\n",
    "    # start time:\n",
    "    current_epoch_start = None\n",
    "\n",
    "    for time in sorted(times):\n",
    "        num_on += change_at_time[time]\n",
    "        if num_on == num_conditions and current_epoch_start is None:\n",
    "            current_epoch_start = time\n",
    "\n",
    "        if num_on != num_conditions and current_epoch_start is not None:\n",
    "            results.append((current_epoch_start, time))\n",
    "            current_epoch_start = None\n",
    "\n",
    "    if not results:\n",
    "        print('No epochs matching all criteria')\n",
    "\n",
    "    return results\n",
    "\n",
    "\n",
    "def filter_by_epoch_duration(epochs, min_duration):\n",
    "    \"\"\"\n",
    "    Given a list of epoch start/end times, returns epoch start/end times\n",
    "    that are at least minimum duration (sec)\n",
    "    \"\"\"\n",
    "\n",
    "    epoch_durations = [epoch[1]-epoch[0] for epoch in epochs]\n",
    "    keep_idx = [epoch_duration >=\n",
    "                min_duration for epoch_duration in epoch_durations]\n",
    "\n",
    "    return np.array(epochs_overlap_all)[np.array(keep_idx)].tolist()"
   ]
  },
  {
   "cell_type": "markdown",
   "metadata": {},
   "source": [
    "## Function for plotting data \n",
    "\n",
    "This function is for visualizing data availability that meet filtering criteria.\n",
    "\n",
    "Note: In this notebook, plots are static. Use magic function `%matplotlib notebook` for interactive zooming and panning."
   ]
  },
  {
   "cell_type": "code",
   "execution_count": 28,
   "metadata": {
    "ExecuteTime": {
     "end_time": "2021-12-03T14:20:23.339686Z",
     "start_time": "2021-12-03T14:20:23.335506Z"
    }
   },
   "outputs": [],
   "source": [
    "def plot_epochs(condition_names, *conditions):\n",
    "    \"\"\"\n",
    "    Plots data availability for one or more conditions\n",
    "\n",
    "    Input: List of condition names, list of start/end times for epochs per\n",
    "    condition\n",
    "    \"\"\"\n",
    "\n",
    "    num_conditions = len(conditions)\n",
    "\n",
    "    fig, ax = plt.subplots(figsize=(12, 5))\n",
    "\n",
    "    for idx, condition in enumerate(conditions):\n",
    "        for epoch in condition:\n",
    "            ax.plot(\n",
    "                [datetime.datetime.fromtimestamp(epoch[0]),\n",
    "                 datetime.datetime.fromtimestamp(epoch[1])],\n",
    "                [idx, idx],\n",
    "                linewidth=25\n",
    "            )\n",
    "\n",
    "    plt.xticks(rotation=90)\n",
    "    plt.yticks(np.arange(num_conditions), condition_names)\n",
    "    plt.tight_layout()\n",
    "    plt.xlabel('Time')\n",
    "    plt.ylabel('Filter Criteria')\n",
    "    plt.title('Data Availability')"
   ]
  },
  {
   "cell_type": "markdown",
   "metadata": {},
   "source": [
    "## Data selection in a single subject\n",
    "\n",
    "First we will use the API to pull all meta data. We will specify which parameters we want to filter by, and then we will identify epochs in which all filtering criteria were met. We can customize which meta data parameters and how many we use.\n",
    "\n",
    "## 1. Initialize API credentials"
   ]
  },
  {
   "cell_type": "code",
   "execution_count": 29,
   "metadata": {
    "ExecuteTime": {
     "end_time": "2021-12-03T14:20:32.047885Z",
     "start_time": "2021-12-03T14:20:32.044349Z"
    }
   },
   "outputs": [],
   "source": [
    "# set up client\n",
    "\n",
    "cfg = Config()\n",
    "client = stream.V1Client(cfg)"
   ]
  },
  {
   "cell_type": "code",
   "execution_count": 30,
   "metadata": {
    "ExecuteTime": {
     "end_time": "2021-12-03T14:20:34.454286Z",
     "start_time": "2021-12-03T14:20:34.451262Z"
    }
   },
   "outputs": [],
   "source": [
    "# initialize parameters for API calls\n",
    "\n",
    "params = {\n",
    "    'patient_id': 'rcs07',\n",
    "    'device_id': 'NPC700403H',\n",
    "    'start_time': datetime.datetime(2019, 9, 1).timestamp(),\n",
    "    'end_time': datetime.datetime(2020, 4, 30).timestamp(),\n",
    "    'algorithm': 'medtronic-rcs-3'\n",
    "}"
   ]
  },
  {
   "cell_type": "markdown",
   "metadata": {},
   "source": [
    "Here we specified a particular date range, but if you want to pull **all** meta data, you can set `start_time` to 0 and `end_time` to today:\n",
    "```\n",
    "start_time = 0\n",
    "end_time = datetime.datetime.now().timestamp()\n",
    "```"
   ]
  },
  {
   "cell_type": "markdown",
   "metadata": {},
   "source": [
    "## 2. Pull meta data for stimulation and sensing parameters"
   ]
  },
  {
   "cell_type": "code",
   "execution_count": 31,
   "metadata": {
    "ExecuteTime": {
     "end_time": "2021-12-03T14:20:56.482401Z",
     "start_time": "2021-12-03T14:20:37.195186Z"
    }
   },
   "outputs": [],
   "source": [
    "# get stimulation, sensing, and adaptive meta data\n",
    "\n",
    "stimulation_meta_data = get_stimulation_meta_data(client, params)\n",
    "sensing_meta_data = get_sensing_meta_data(client, params)\n",
    "adaptive_meta_data = get_adaptive_meta_data(client, params)"
   ]
  },
  {
   "cell_type": "code",
   "execution_count": 32,
   "metadata": {
    "ExecuteTime": {
     "end_time": "2021-12-03T14:20:56.534942Z",
     "start_time": "2021-12-03T14:20:56.528843Z"
    }
   },
   "outputs": [
    {
     "data": {
      "text/html": [
       "<div>\n",
       "<style scoped>\n",
       "    .dataframe tbody tr th:only-of-type {\n",
       "        vertical-align: middle;\n",
       "    }\n",
       "\n",
       "    .dataframe tbody tr th {\n",
       "        vertical-align: top;\n",
       "    }\n",
       "\n",
       "    .dataframe thead th {\n",
       "        text-align: right;\n",
       "    }\n",
       "</style>\n",
       "<table border=\"1\" class=\"dataframe\">\n",
       "  <thead>\n",
       "    <tr style=\"text-align: right;\">\n",
       "      <th></th>\n",
       "      <th>time</th>\n",
       "      <th>active_group</th>\n",
       "      <th>therapy_status</th>\n",
       "    </tr>\n",
       "  </thead>\n",
       "  <tbody>\n",
       "    <tr>\n",
       "      <th>0</th>\n",
       "      <td>1.567289e+09</td>\n",
       "      <td>NaN</td>\n",
       "      <td>NaN</td>\n",
       "    </tr>\n",
       "    <tr>\n",
       "      <th>1</th>\n",
       "      <td>1.568138e+09</td>\n",
       "      <td>0.0</td>\n",
       "      <td>0.0</td>\n",
       "    </tr>\n",
       "    <tr>\n",
       "      <th>2</th>\n",
       "      <td>1.568233e+09</td>\n",
       "      <td>0.0</td>\n",
       "      <td>0.0</td>\n",
       "    </tr>\n",
       "    <tr>\n",
       "      <th>3</th>\n",
       "      <td>1.568233e+09</td>\n",
       "      <td>0.0</td>\n",
       "      <td>0.0</td>\n",
       "    </tr>\n",
       "    <tr>\n",
       "      <th>4</th>\n",
       "      <td>1.568233e+09</td>\n",
       "      <td>0.0</td>\n",
       "      <td>0.0</td>\n",
       "    </tr>\n",
       "  </tbody>\n",
       "</table>\n",
       "</div>"
      ],
      "text/plain": [
       "           time  active_group  therapy_status\n",
       "0  1.567289e+09           NaN             NaN\n",
       "1  1.568138e+09           0.0             0.0\n",
       "2  1.568233e+09           0.0             0.0\n",
       "3  1.568233e+09           0.0             0.0\n",
       "4  1.568233e+09           0.0             0.0"
      ]
     },
     "execution_count": 32,
     "metadata": {},
     "output_type": "execute_result"
    }
   ],
   "source": [
    "stimulation_meta_data.head(5)"
   ]
  },
  {
   "cell_type": "code",
   "execution_count": 33,
   "metadata": {
    "ExecuteTime": {
     "end_time": "2021-12-03T14:20:59.412154Z",
     "start_time": "2021-12-03T14:20:59.404376Z"
    }
   },
   "outputs": [
    {
     "data": {
      "text/html": [
       "<div>\n",
       "<style scoped>\n",
       "    .dataframe tbody tr th:only-of-type {\n",
       "        vertical-align: middle;\n",
       "    }\n",
       "\n",
       "    .dataframe tbody tr th {\n",
       "        vertical-align: top;\n",
       "    }\n",
       "\n",
       "    .dataframe thead th {\n",
       "        text-align: right;\n",
       "    }\n",
       "</style>\n",
       "<table border=\"1\" class=\"dataframe\">\n",
       "  <thead>\n",
       "    <tr style=\"text-align: right;\">\n",
       "      <th></th>\n",
       "      <th>time</th>\n",
       "      <th>frequency_hz</th>\n",
       "    </tr>\n",
       "  </thead>\n",
       "  <tbody>\n",
       "    <tr>\n",
       "      <th>0</th>\n",
       "      <td>1.567289e+09</td>\n",
       "      <td>NaN</td>\n",
       "    </tr>\n",
       "    <tr>\n",
       "      <th>1</th>\n",
       "      <td>1.568233e+09</td>\n",
       "      <td>500.0</td>\n",
       "    </tr>\n",
       "    <tr>\n",
       "      <th>2</th>\n",
       "      <td>1.568233e+09</td>\n",
       "      <td>1000.0</td>\n",
       "    </tr>\n",
       "    <tr>\n",
       "      <th>3</th>\n",
       "      <td>1.568823e+09</td>\n",
       "      <td>500.0</td>\n",
       "    </tr>\n",
       "    <tr>\n",
       "      <th>4</th>\n",
       "      <td>1.568823e+09</td>\n",
       "      <td>1000.0</td>\n",
       "    </tr>\n",
       "  </tbody>\n",
       "</table>\n",
       "</div>"
      ],
      "text/plain": [
       "           time  frequency_hz\n",
       "0  1.567289e+09           NaN\n",
       "1  1.568233e+09         500.0\n",
       "2  1.568233e+09        1000.0\n",
       "3  1.568823e+09         500.0\n",
       "4  1.568823e+09        1000.0"
      ]
     },
     "execution_count": 33,
     "metadata": {},
     "output_type": "execute_result"
    }
   ],
   "source": [
    "sensing_meta_data.head(5)"
   ]
  },
  {
   "cell_type": "code",
   "execution_count": 34,
   "metadata": {
    "ExecuteTime": {
     "end_time": "2021-12-03T14:21:02.375667Z",
     "start_time": "2021-12-03T14:21:02.352252Z"
    }
   },
   "outputs": [
    {
     "data": {
      "text/html": [
       "<div>\n",
       "<style scoped>\n",
       "    .dataframe tbody tr th:only-of-type {\n",
       "        vertical-align: middle;\n",
       "    }\n",
       "\n",
       "    .dataframe tbody tr th {\n",
       "        vertical-align: top;\n",
       "    }\n",
       "\n",
       "    .dataframe thead th {\n",
       "        text-align: right;\n",
       "    }\n",
       "</style>\n",
       "<table border=\"1\" class=\"dataframe\">\n",
       "  <thead>\n",
       "    <tr style=\"text-align: right;\">\n",
       "      <th></th>\n",
       "      <th>time</th>\n",
       "      <th>adaptive_state</th>\n",
       "      <th>ld0_detection_status</th>\n",
       "      <th>ld0_feature_0</th>\n",
       "      <th>ld0_feature_1</th>\n",
       "      <th>ld0_feature_2</th>\n",
       "      <th>ld0_feature_3</th>\n",
       "      <th>ld0_fixed_decimal_point</th>\n",
       "      <th>ld0_output</th>\n",
       "      <th>ld0_threshold_high</th>\n",
       "      <th>...</th>\n",
       "      <th>sensing_status_power</th>\n",
       "      <th>sensing_status_unused</th>\n",
       "      <th>state_entry_count</th>\n",
       "      <th>state_time</th>\n",
       "      <th>stim_flag_program_0</th>\n",
       "      <th>stim_flag_program_1</th>\n",
       "      <th>stim_flag_program_2</th>\n",
       "      <th>stim_flag_program_3</th>\n",
       "      <th>stim_flags</th>\n",
       "      <th>stim_rate_hz</th>\n",
       "    </tr>\n",
       "  </thead>\n",
       "  <tbody>\n",
       "    <tr>\n",
       "      <th>0</th>\n",
       "      <td>1.567289e+09</td>\n",
       "      <td>NaN</td>\n",
       "      <td>NaN</td>\n",
       "      <td>NaN</td>\n",
       "      <td>NaN</td>\n",
       "      <td>NaN</td>\n",
       "      <td>NaN</td>\n",
       "      <td>NaN</td>\n",
       "      <td>NaN</td>\n",
       "      <td>NaN</td>\n",
       "      <td>...</td>\n",
       "      <td>NaN</td>\n",
       "      <td>NaN</td>\n",
       "      <td>NaN</td>\n",
       "      <td>NaN</td>\n",
       "      <td>NaN</td>\n",
       "      <td>NaN</td>\n",
       "      <td>NaN</td>\n",
       "      <td>NaN</td>\n",
       "      <td>NaN</td>\n",
       "      <td>NaN</td>\n",
       "    </tr>\n",
       "    <tr>\n",
       "      <th>1</th>\n",
       "      <td>1.583862e+09</td>\n",
       "      <td>0.0</td>\n",
       "      <td>0.0</td>\n",
       "      <td>1524.0</td>\n",
       "      <td>0.0</td>\n",
       "      <td>0.0</td>\n",
       "      <td>0.0</td>\n",
       "      <td>0.0</td>\n",
       "      <td>1524.0</td>\n",
       "      <td>55001.0</td>\n",
       "      <td>...</td>\n",
       "      <td>1.0</td>\n",
       "      <td>0.0</td>\n",
       "      <td>8074.0</td>\n",
       "      <td>15378194.0</td>\n",
       "      <td>0.0</td>\n",
       "      <td>0.0</td>\n",
       "      <td>0.0</td>\n",
       "      <td>0.0</td>\n",
       "      <td>0.0</td>\n",
       "      <td>130.2</td>\n",
       "    </tr>\n",
       "    <tr>\n",
       "      <th>2</th>\n",
       "      <td>1.583862e+09</td>\n",
       "      <td>0.0</td>\n",
       "      <td>0.0</td>\n",
       "      <td>4749.0</td>\n",
       "      <td>0.0</td>\n",
       "      <td>0.0</td>\n",
       "      <td>0.0</td>\n",
       "      <td>0.0</td>\n",
       "      <td>4749.0</td>\n",
       "      <td>55001.0</td>\n",
       "      <td>...</td>\n",
       "      <td>1.0</td>\n",
       "      <td>0.0</td>\n",
       "      <td>8074.0</td>\n",
       "      <td>15378195.0</td>\n",
       "      <td>0.0</td>\n",
       "      <td>0.0</td>\n",
       "      <td>0.0</td>\n",
       "      <td>0.0</td>\n",
       "      <td>0.0</td>\n",
       "      <td>130.2</td>\n",
       "    </tr>\n",
       "    <tr>\n",
       "      <th>3</th>\n",
       "      <td>1.583862e+09</td>\n",
       "      <td>0.0</td>\n",
       "      <td>0.0</td>\n",
       "      <td>9359.0</td>\n",
       "      <td>0.0</td>\n",
       "      <td>0.0</td>\n",
       "      <td>0.0</td>\n",
       "      <td>0.0</td>\n",
       "      <td>9359.0</td>\n",
       "      <td>55001.0</td>\n",
       "      <td>...</td>\n",
       "      <td>1.0</td>\n",
       "      <td>0.0</td>\n",
       "      <td>8074.0</td>\n",
       "      <td>15378196.0</td>\n",
       "      <td>0.0</td>\n",
       "      <td>0.0</td>\n",
       "      <td>0.0</td>\n",
       "      <td>0.0</td>\n",
       "      <td>0.0</td>\n",
       "      <td>130.2</td>\n",
       "    </tr>\n",
       "    <tr>\n",
       "      <th>4</th>\n",
       "      <td>1.583862e+09</td>\n",
       "      <td>0.0</td>\n",
       "      <td>0.0</td>\n",
       "      <td>4329.0</td>\n",
       "      <td>0.0</td>\n",
       "      <td>0.0</td>\n",
       "      <td>0.0</td>\n",
       "      <td>0.0</td>\n",
       "      <td>4329.0</td>\n",
       "      <td>55001.0</td>\n",
       "      <td>...</td>\n",
       "      <td>1.0</td>\n",
       "      <td>0.0</td>\n",
       "      <td>8074.0</td>\n",
       "      <td>15378197.0</td>\n",
       "      <td>0.0</td>\n",
       "      <td>0.0</td>\n",
       "      <td>0.0</td>\n",
       "      <td>0.0</td>\n",
       "      <td>0.0</td>\n",
       "      <td>130.2</td>\n",
       "    </tr>\n",
       "  </tbody>\n",
       "</table>\n",
       "<p>5 rows × 42 columns</p>\n",
       "</div>"
      ],
      "text/plain": [
       "           time  adaptive_state  ld0_detection_status  ld0_feature_0  \\\n",
       "0  1.567289e+09             NaN                   NaN            NaN   \n",
       "1  1.583862e+09             0.0                   0.0         1524.0   \n",
       "2  1.583862e+09             0.0                   0.0         4749.0   \n",
       "3  1.583862e+09             0.0                   0.0         9359.0   \n",
       "4  1.583862e+09             0.0                   0.0         4329.0   \n",
       "\n",
       "   ld0_feature_1  ld0_feature_2  ld0_feature_3  ld0_fixed_decimal_point  \\\n",
       "0            NaN            NaN            NaN                      NaN   \n",
       "1            0.0            0.0            0.0                      0.0   \n",
       "2            0.0            0.0            0.0                      0.0   \n",
       "3            0.0            0.0            0.0                      0.0   \n",
       "4            0.0            0.0            0.0                      0.0   \n",
       "\n",
       "   ld0_output  ld0_threshold_high  ...  sensing_status_power  \\\n",
       "0         NaN                 NaN  ...                   NaN   \n",
       "1      1524.0             55001.0  ...                   1.0   \n",
       "2      4749.0             55001.0  ...                   1.0   \n",
       "3      9359.0             55001.0  ...                   1.0   \n",
       "4      4329.0             55001.0  ...                   1.0   \n",
       "\n",
       "   sensing_status_unused  state_entry_count  state_time  stim_flag_program_0  \\\n",
       "0                    NaN                NaN         NaN                  NaN   \n",
       "1                    0.0             8074.0  15378194.0                  0.0   \n",
       "2                    0.0             8074.0  15378195.0                  0.0   \n",
       "3                    0.0             8074.0  15378196.0                  0.0   \n",
       "4                    0.0             8074.0  15378197.0                  0.0   \n",
       "\n",
       "   stim_flag_program_1  stim_flag_program_2  stim_flag_program_3  stim_flags  \\\n",
       "0                  NaN                  NaN                  NaN         NaN   \n",
       "1                  0.0                  0.0                  0.0         0.0   \n",
       "2                  0.0                  0.0                  0.0         0.0   \n",
       "3                  0.0                  0.0                  0.0         0.0   \n",
       "4                  0.0                  0.0                  0.0         0.0   \n",
       "\n",
       "   stim_rate_hz  \n",
       "0           NaN  \n",
       "1         130.2  \n",
       "2         130.2  \n",
       "3         130.2  \n",
       "4         130.2  \n",
       "\n",
       "[5 rows x 42 columns]"
      ]
     },
     "execution_count": 34,
     "metadata": {},
     "output_type": "execute_result"
    }
   ],
   "source": [
    "adaptive_meta_data.head(5)"
   ]
  },
  {
   "cell_type": "markdown",
   "metadata": {},
   "source": [
    "There are various sensing and stimulation related parameters that we can filter by. A full list of parameters are below: "
   ]
  },
  {
   "cell_type": "code",
   "execution_count": 35,
   "metadata": {
    "ExecuteTime": {
     "end_time": "2021-12-03T14:21:04.742360Z",
     "start_time": "2021-12-03T14:21:04.737390Z"
    }
   },
   "outputs": [
    {
     "name": "stdout",
     "output_type": "stream",
     "text": [
      "Stimulation Parameters: \n",
      "active_group\n",
      "therapy_status\n",
      "\n",
      "Sensing Parameters: \n",
      "frequency_hz\n",
      "\n",
      "Adaptive Parameters: \n",
      "adaptive_state\n",
      "ld0_detection_status\n",
      "ld0_feature_0\n",
      "ld0_feature_1\n",
      "ld0_feature_2\n",
      "ld0_feature_3\n",
      "ld0_fixed_decimal_point\n",
      "ld0_output\n",
      "ld0_threshold_high\n",
      "ld0_threshold_low\n",
      "ld1_detection_status\n",
      "ld1_feature_0\n",
      "ld1_feature_1\n",
      "ld1_feature_2\n",
      "ld1_feature_3\n",
      "ld1_fixed_decimal_point\n",
      "ld1_output\n",
      "ld1_threshold_high\n",
      "ld1_threshold_low\n",
      "program_0_amplitude_amp\n",
      "program_1_amplitude_amp\n",
      "program_2_amplitude_amp\n",
      "program_3_amplitude_amp\n",
      "sensing_status\n",
      "sensing_status_adaptive_stim\n",
      "sensing_status_detection_ld_0\n",
      "sensing_status_detection_ld_1\n",
      "sensing_status_fft\n",
      "sensing_status_lfp_sensing\n",
      "sensing_status_loop_recording\n",
      "sensing_status_none\n",
      "sensing_status_power\n",
      "sensing_status_unused\n",
      "state_entry_count\n",
      "state_time\n",
      "stim_flag_program_0\n",
      "stim_flag_program_1\n",
      "stim_flag_program_2\n",
      "stim_flag_program_3\n",
      "stim_flags\n",
      "stim_rate_hz\n"
     ]
    }
   ],
   "source": [
    "print('Stimulation Parameters: ')\n",
    "print(*list(stimulation_meta_data.columns[1:]), sep=\"\\n\")\n",
    "print('\\nSensing Parameters: ')\n",
    "print(*list(sensing_meta_data.columns[1:]), sep=\"\\n\")\n",
    "print('\\nAdaptive Parameters: ')\n",
    "print(*list(adaptive_meta_data.columns[1:]), sep=\"\\n\")"
   ]
  },
  {
   "cell_type": "markdown",
   "metadata": {},
   "source": [
    "We can filter by any combination of parameters. Before specifying particular values for each parameter, we can check what potential values are:"
   ]
  },
  {
   "cell_type": "code",
   "execution_count": 36,
   "metadata": {
    "ExecuteTime": {
     "end_time": "2021-12-03T14:21:07.553292Z",
     "start_time": "2021-12-03T14:21:07.549745Z"
    }
   },
   "outputs": [
    {
     "name": "stdout",
     "output_type": "stream",
     "text": [
      "Unique values for sampling frequency: \n",
      "[  nan  500. 1000.  250.]\n"
     ]
    }
   ],
   "source": [
    "print('Unique values for sampling frequency: ')\n",
    "print(sensing_meta_data.frequency_hz.unique())"
   ]
  },
  {
   "cell_type": "markdown",
   "metadata": {},
   "source": [
    "## 3. Identify epochs that match meta data parameters\n",
    "\n",
    "### Example 1\n",
    "\n",
    "We will start off with an example filter using 2 parameters:\n",
    "- Therapy status (off stimulation)\n",
    "- Sampling frequency (250 hz)"
   ]
  },
  {
   "cell_type": "code",
   "execution_count": 37,
   "metadata": {
    "ExecuteTime": {
     "end_time": "2021-12-03T14:21:10.499136Z",
     "start_time": "2021-12-03T14:21:10.496631Z"
    }
   },
   "outputs": [],
   "source": [
    "# meta data filter settings\n",
    "\n",
    "target_therapy_status = 0\n",
    "target_sampling_frequency = 250"
   ]
  },
  {
   "cell_type": "code",
   "execution_count": 38,
   "metadata": {
    "ExecuteTime": {
     "end_time": "2021-12-03T14:21:12.755754Z",
     "start_time": "2021-12-03T14:21:12.746853Z"
    }
   },
   "outputs": [],
   "source": [
    "# get list of epochs matching each condition/criteria\n",
    "\n",
    "epochs_therapy_status = find_epochs(\n",
    "    stimulation_meta_data.time,\n",
    "    stimulation_meta_data.therapy_status,\n",
    "    target_therapy_status\n",
    ")\n",
    "epochs_sampling_frequency = find_epochs(\n",
    "    sensing_meta_data.time,\n",
    "    sensing_meta_data.frequency_hz,\n",
    "    target_sampling_frequency\n",
    ")"
   ]
  },
  {
   "cell_type": "code",
   "execution_count": 39,
   "metadata": {
    "ExecuteTime": {
     "end_time": "2021-12-03T14:21:14.999679Z",
     "start_time": "2021-12-03T14:21:14.997004Z"
    }
   },
   "outputs": [],
   "source": [
    "# find overlap across all epochs\n",
    "\n",
    "epochs_overlap_all = find_overlapping_epochs(\n",
    "    epochs_therapy_status,\n",
    "    epochs_sampling_frequency\n",
    ")"
   ]
  },
  {
   "cell_type": "code",
   "execution_count": 40,
   "metadata": {
    "ExecuteTime": {
     "end_time": "2021-12-03T14:21:18.903462Z",
     "start_time": "2021-12-03T14:21:18.731709Z"
    }
   },
   "outputs": [
    {
     "data": {
      "image/png": "[encoded data removed]",
      "text/plain": [
       "<Figure size 864x360 with 1 Axes>"
      ]
     },
     "metadata": {
      "needs_background": "light"
     },
     "output_type": "display_data"
    }
   ],
   "source": [
    "# plot data availability\n",
    "\n",
    "plot_epochs(\n",
    "    [\n",
    "        'therapy status',\n",
    "        'sampling frequency',\n",
    "        'match all'\n",
    "    ],\n",
    "    epochs_therapy_status,\n",
    "    epochs_sampling_frequency,\n",
    "    epochs_overlap_all\n",
    ")"
   ]
  },
  {
   "cell_type": "markdown",
   "metadata": {},
   "source": [
    "For each individual filtering parameter, shaded bars correspond to epochs when data exist and meet that criterion. The 'match all' row identifies epochs that meet all critera.\n",
    "\n",
    "Note that time stamps are in UTC time, and will need to be adjusted for your particular time zone. Pacific time adjustment is -8 hours (-28800 seconds)."
   ]
  },
  {
   "cell_type": "markdown",
   "metadata": {},
   "source": [
    "### Example 2\n",
    "\n",
    "In this last example, we will filter by adaptive stimulation parameters as well.\n",
    "\n",
    "- Therapy status (on stimulation)\n",
    "- Sampling frequency (250 hz)\n",
    "- Adaptive sensing status (151, Medtronic code)\n",
    "- Adaptive ld 0 detection status (15, Medtronic code)\n",
    "- Minimum duration (10 min)\n",
    "\n",
    "Certain parameters, including adaptive settings, are currently still the raw values from the json files. They will need to be 'translated' for meaning."
   ]
  },
  {
   "cell_type": "code",
   "execution_count": 41,
   "metadata": {
    "ExecuteTime": {
     "end_time": "2021-12-03T14:21:22.854496Z",
     "start_time": "2021-12-03T14:21:22.849789Z"
    }
   },
   "outputs": [
    {
     "name": "stdout",
     "output_type": "stream",
     "text": [
      "Unique values for sensing status: \n",
      "[ nan  23. 151.]\n"
     ]
    }
   ],
   "source": [
    "print('Unique values for sensing status: ')\n",
    "print(adaptive_meta_data.sensing_status.unique())"
   ]
  },
  {
   "cell_type": "code",
   "execution_count": 42,
   "metadata": {
    "ExecuteTime": {
     "end_time": "2021-12-03T14:21:24.856423Z",
     "start_time": "2021-12-03T14:21:24.851994Z"
    }
   },
   "outputs": [
    {
     "name": "stdout",
     "output_type": "stream",
     "text": [
      "Unique values for ld0 detection status: \n",
      "[nan  0. 47. 15. 64. 32. 37.  5.]\n"
     ]
    }
   ],
   "source": [
    "print('Unique values for ld0 detection status: ')\n",
    "print(adaptive_meta_data['ld0_detection_status'].unique())"
   ]
  },
  {
   "cell_type": "code",
   "execution_count": 43,
   "metadata": {
    "ExecuteTime": {
     "end_time": "2021-12-03T14:21:28.337208Z",
     "start_time": "2021-12-03T14:21:27.439887Z"
    }
   },
   "outputs": [
    {
     "data": {
      "image/png": "[encoded data removed]",
      "text/plain": [
       "<Figure size 864x360 with 1 Axes>"
      ]
     },
     "metadata": {
      "needs_background": "light"
     },
     "output_type": "display_data"
    }
   ],
   "source": [
    "# meta data filter settings\n",
    "target_therapy_status = 1\n",
    "target_sampling_frequency = 250\n",
    "target_adaptive_sensing_status = 151\n",
    "target_ld0_detection_status = 15\n",
    "min_epoch_duration = 10*60\n",
    "\n",
    "# find epochs for each individual condition\n",
    "epochs_therapy_status = find_epochs(\n",
    "    stimulation_meta_data.time,\n",
    "    stimulation_meta_data.therapy_status,\n",
    "    target_therapy_status\n",
    ")\n",
    "epochs_sampling_frequency = find_epochs(\n",
    "    sensing_meta_data.time,\n",
    "    sensing_meta_data.frequency_hz,\n",
    "    target_sampling_frequency\n",
    ")\n",
    "epochs_adaptive_sensing_status = find_epochs(\n",
    "    adaptive_meta_data.time,\n",
    "    adaptive_meta_data.sensing_status,\n",
    "    target_adaptive_sensing_status\n",
    ")\n",
    "epochs_ld0_detection_status = find_epochs(\n",
    "    adaptive_meta_data.time,\n",
    "    adaptive_meta_data['ld0_detection_status'],\n",
    "    target_ld0_detection_status\n",
    ")\n",
    "\n",
    "# find overlap across all epochs\n",
    "epochs_overlap_all = find_overlapping_epochs(\n",
    "    epochs_therapy_status,\n",
    "    epochs_sampling_frequency,\n",
    "    epochs_adaptive_sensing_status,\n",
    "    epochs_ld0_detection_status\n",
    ")\n",
    "\n",
    "# only keep epochs that are greater than or equal to the minimum duration\n",
    "if epochs_overlap_all:\n",
    "    epochs_overlap_all = filter_by_epoch_duration(\n",
    "        epochs_overlap_all, min_epoch_duration)\n",
    "\n",
    "# plot data availability\n",
    "plot_epochs(\n",
    "    [\n",
    "        'therapy status',\n",
    "        'sampling frequency',\n",
    "        'adaptive sensing status',\n",
    "        'ld0 detection status',\n",
    "        'match all'\n",
    "    ],\n",
    "    epochs_therapy_status,\n",
    "    epochs_sampling_frequency,\n",
    "    epochs_adaptive_sensing_status,\n",
    "    epochs_ld0_detection_status,\n",
    "    epochs_overlap_all\n",
    ")"
   ]
  },
  {
   "cell_type": "markdown",
   "metadata": {},
   "source": [
    "## 4. Use epoch time stamps to retrieve data\n",
    "\n",
    "After selecting and specifying filtering criteria, the function `find_overlapping_epochs` returns  `epochs_overlap_all`, a list of time stamps that indicate epoch start and end times for every epoch that matches all filtering criteria. We can use these time stamps to obtain raw time series."
   ]
  },
  {
   "cell_type": "code",
   "execution_count": 44,
   "metadata": {
    "ExecuteTime": {
     "end_time": "2021-12-03T14:21:35.115913Z",
     "start_time": "2021-12-03T14:21:35.111906Z"
    },
    "scrolled": true
   },
   "outputs": [
    {
     "name": "stdout",
     "output_type": "stream",
     "text": [
      "Epoch 0 : 17:56:23.008000\n",
      "Epoch 1 : 2:35:30.304000\n",
      "Epoch 2 : 0:18:00.014000\n",
      "Epoch 3 : 0:28:30.089000\n",
      "Epoch 4 : 0:20:00.004000\n",
      "Epoch 5 : 0:11:51.857000\n",
      "Epoch 6 : 25 days, 18:55:20.163000\n",
      "Epoch 7 : 2:46:23.946000\n",
      "Epoch 8 : 8 days, 20:20:19.476000\n",
      "Epoch 9 : 6 days, 0:59:26.758000\n"
     ]
    }
   ],
   "source": [
    "# print duration of each epoch\n",
    "\n",
    "for idx, epoch in enumerate(epochs_overlap_all):\n",
    "    start = datetime.datetime.fromtimestamp(epoch[0])\n",
    "    stop = datetime.datetime.fromtimestamp(epoch[1])\n",
    "    print('Epoch', str(idx), ':', stop-start)"
   ]
  },
  {
   "cell_type": "markdown",
   "metadata": {},
   "source": [
    "We can loop through the epochs, download the raw data, and save to CSV files. For demonstration, we will download the raw time series for epoch 2. "
   ]
  },
  {
   "cell_type": "code",
   "execution_count": 45,
   "metadata": {
    "ExecuteTime": {
     "end_time": "2021-12-03T14:21:49.886489Z",
     "start_time": "2021-12-03T14:21:37.992562Z"
    }
   },
   "outputs": [],
   "source": [
    "# retrieve raw data for one epoch\n",
    "\n",
    "FILE_PATH = '~/Documents/api_data/nb01_ex01_neural_time_series.csv'\n",
    "\n",
    "EPOCH_NUM = 2\n",
    "\n",
    "params = {\n",
    "    'patient_id': 'rcs07',\n",
    "    'device_id': 'NPC700403H',\n",
    "    'start_time': epochs_overlap_all[EPOCH_NUM][0],\n",
    "    'end_time': epochs_overlap_all[EPOCH_NUM][1],\n",
    "    'channels': '0,1,2,3'\n",
    "}\n",
    "\n",
    "neural_time_series = get_neural_time_series(client, params, FILE_PATH)"
   ]
  },
  {
   "cell_type": "code",
   "execution_count": 46,
   "metadata": {
    "ExecuteTime": {
     "end_time": "2021-12-03T14:21:51.785137Z",
     "start_time": "2021-12-03T14:21:51.762669Z"
    }
   },
   "outputs": [
    {
     "data": {
      "text/html": [
       "<div>\n",
       "<style scoped>\n",
       "    .dataframe tbody tr th:only-of-type {\n",
       "        vertical-align: middle;\n",
       "    }\n",
       "\n",
       "    .dataframe tbody tr th {\n",
       "        vertical-align: top;\n",
       "    }\n",
       "\n",
       "    .dataframe thead th {\n",
       "        text-align: right;\n",
       "    }\n",
       "</style>\n",
       "<table border=\"1\" class=\"dataframe\">\n",
       "  <thead>\n",
       "    <tr style=\"text-align: right;\">\n",
       "      <th></th>\n",
       "      <th>timestamp</th>\n",
       "      <th>channel.0</th>\n",
       "      <th>channel.1</th>\n",
       "      <th>channel.2</th>\n",
       "      <th>channel.3</th>\n",
       "    </tr>\n",
       "  </thead>\n",
       "  <tbody>\n",
       "    <tr>\n",
       "      <th>0</th>\n",
       "      <td>2020-03-11 20:02:24.880000000</td>\n",
       "      <td>-0.000149</td>\n",
       "      <td>-0.000131</td>\n",
       "      <td>-0.000235</td>\n",
       "      <td>-0.000150</td>\n",
       "    </tr>\n",
       "    <tr>\n",
       "      <th>1</th>\n",
       "      <td>2020-03-11 20:02:24.884000000</td>\n",
       "      <td>-0.000158</td>\n",
       "      <td>-0.000140</td>\n",
       "      <td>-0.000238</td>\n",
       "      <td>-0.000155</td>\n",
       "    </tr>\n",
       "    <tr>\n",
       "      <th>2</th>\n",
       "      <td>2020-03-11 20:02:24.888000000</td>\n",
       "      <td>-0.000148</td>\n",
       "      <td>-0.000132</td>\n",
       "      <td>-0.000228</td>\n",
       "      <td>-0.000155</td>\n",
       "    </tr>\n",
       "    <tr>\n",
       "      <th>3</th>\n",
       "      <td>2020-03-11 20:02:24.892000000</td>\n",
       "      <td>-0.000158</td>\n",
       "      <td>-0.000143</td>\n",
       "      <td>-0.000207</td>\n",
       "      <td>-0.000155</td>\n",
       "    </tr>\n",
       "    <tr>\n",
       "      <th>4</th>\n",
       "      <td>2020-03-11 20:02:24.896000000</td>\n",
       "      <td>-0.000147</td>\n",
       "      <td>-0.000132</td>\n",
       "      <td>-0.000180</td>\n",
       "      <td>-0.000148</td>\n",
       "    </tr>\n",
       "    <tr>\n",
       "      <th>...</th>\n",
       "      <td>...</td>\n",
       "      <td>...</td>\n",
       "      <td>...</td>\n",
       "      <td>...</td>\n",
       "      <td>...</td>\n",
       "    </tr>\n",
       "    <tr>\n",
       "      <th>269829</th>\n",
       "      <td>2020-03-11 20:20:24.874000128</td>\n",
       "      <td>-0.000148</td>\n",
       "      <td>-0.000133</td>\n",
       "      <td>-0.000241</td>\n",
       "      <td>-0.000160</td>\n",
       "    </tr>\n",
       "    <tr>\n",
       "      <th>269830</th>\n",
       "      <td>2020-03-11 20:20:24.878000128</td>\n",
       "      <td>-0.000153</td>\n",
       "      <td>-0.000139</td>\n",
       "      <td>-0.000227</td>\n",
       "      <td>-0.000156</td>\n",
       "    </tr>\n",
       "    <tr>\n",
       "      <th>269831</th>\n",
       "      <td>2020-03-11 20:20:24.881999872</td>\n",
       "      <td>-0.000151</td>\n",
       "      <td>-0.000135</td>\n",
       "      <td>-0.000231</td>\n",
       "      <td>-0.000162</td>\n",
       "    </tr>\n",
       "    <tr>\n",
       "      <th>269832</th>\n",
       "      <td>2020-03-11 20:20:24.885999872</td>\n",
       "      <td>-0.000153</td>\n",
       "      <td>-0.000138</td>\n",
       "      <td>-0.000226</td>\n",
       "      <td>-0.000167</td>\n",
       "    </tr>\n",
       "    <tr>\n",
       "      <th>269833</th>\n",
       "      <td>2020-03-11 20:20:24.890000128</td>\n",
       "      <td>-0.000151</td>\n",
       "      <td>-0.000134</td>\n",
       "      <td>-0.000204</td>\n",
       "      <td>-0.000153</td>\n",
       "    </tr>\n",
       "  </tbody>\n",
       "</table>\n",
       "<p>269834 rows × 5 columns</p>\n",
       "</div>"
      ],
      "text/plain": [
       "                           timestamp  channel.0  channel.1  channel.2  \\\n",
       "0      2020-03-11 20:02:24.880000000  -0.000149  -0.000131  -0.000235   \n",
       "1      2020-03-11 20:02:24.884000000  -0.000158  -0.000140  -0.000238   \n",
       "2      2020-03-11 20:02:24.888000000  -0.000148  -0.000132  -0.000228   \n",
       "3      2020-03-11 20:02:24.892000000  -0.000158  -0.000143  -0.000207   \n",
       "4      2020-03-11 20:02:24.896000000  -0.000147  -0.000132  -0.000180   \n",
       "...                              ...        ...        ...        ...   \n",
       "269829 2020-03-11 20:20:24.874000128  -0.000148  -0.000133  -0.000241   \n",
       "269830 2020-03-11 20:20:24.878000128  -0.000153  -0.000139  -0.000227   \n",
       "269831 2020-03-11 20:20:24.881999872  -0.000151  -0.000135  -0.000231   \n",
       "269832 2020-03-11 20:20:24.885999872  -0.000153  -0.000138  -0.000226   \n",
       "269833 2020-03-11 20:20:24.890000128  -0.000151  -0.000134  -0.000204   \n",
       "\n",
       "        channel.3  \n",
       "0       -0.000150  \n",
       "1       -0.000155  \n",
       "2       -0.000155  \n",
       "3       -0.000155  \n",
       "4       -0.000148  \n",
       "...           ...  \n",
       "269829  -0.000160  \n",
       "269830  -0.000156  \n",
       "269831  -0.000162  \n",
       "269832  -0.000167  \n",
       "269833  -0.000153  \n",
       "\n",
       "[269834 rows x 5 columns]"
      ]
     },
     "execution_count": 46,
     "metadata": {},
     "output_type": "execute_result"
    }
   ],
   "source": [
    "# change timestamps to datetime for plotting\n",
    "\n",
    "neural_time_series.timestamp = pd.to_datetime(\n",
    "    neural_time_series.timestamp, unit='s')\n",
    "neural_time_series"
   ]
  },
  {
   "cell_type": "code",
   "execution_count": 47,
   "metadata": {
    "ExecuteTime": {
     "end_time": "2021-12-03T14:21:55.437616Z",
     "start_time": "2021-12-03T14:21:55.025529Z"
    }
   },
   "outputs": [
    {
     "data": {
      "text/plain": [
       "Text(0, 0.5, 'Voltage (V)')"
      ]
     },
     "execution_count": 47,
     "metadata": {},
     "output_type": "execute_result"
    },
    {
     "data": {
      "image/png": "[encoded data removed]",
      "text/plain": [
       "<Figure size 1080x360 with 1 Axes>"
      ]
     },
     "metadata": {
      "needs_background": "light"
     },
     "output_type": "display_data"
    }
   ],
   "source": [
    "# plot epoch across all four channels\n",
    "\n",
    "fig, ax = plt.subplots(figsize=(15, 5))\n",
    "ax.plot(neural_time_series.timestamp, neural_time_series['channel.0'])\n",
    "ax.plot(neural_time_series.timestamp, neural_time_series['channel.1'])\n",
    "ax.plot(neural_time_series.timestamp, neural_time_series['channel.2'])\n",
    "ax.plot(neural_time_series.timestamp, neural_time_series['channel.3'])\n",
    "plt.title('Raw Time Series')\n",
    "plt.xlabel('Time')\n",
    "plt.ylabel('Voltage (V)')"
   ]
  },
  {
   "cell_type": "markdown",
   "metadata": {},
   "source": [
    "## Summary\n",
    "\n",
    "We pulled information about sensing, stimulation, and adaptive parameters for a single subject. We used these parameters to further filter the data and identify epochs in which all our criteria were met. The user can specify which combination of parameters to filter by. We then demonstrated how to use these time stamps to pull raw time series data to save as a CSV."
   ]
  }
 ],
 "metadata": {
  "kernelspec": {
   "display_name": "Python 3 (ipykernel)",
   "language": "python",
   "name": "python3"
  },
  "language_info": {
   "codemirror_mode": {
    "name": "ipython",
    "version": 3
   },
   "file_extension": ".py",
   "mimetype": "text/x-python",
   "name": "python",
   "nbconvert_exporter": "python",
   "pygments_lexer": "ipython3",
   "version": "3.9.6"
  },
  "varInspector": {
   "cols": {
    "lenName": 16,
    "lenType": 16,
    "lenVar": 40
   },
   "kernels_config": {
    "python": {
     "delete_cmd_postfix": "",
     "delete_cmd_prefix": "del ",
     "library": "var_list.py",
     "varRefreshCmd": "print(var_dic_list())"
    },
    "r": {
     "delete_cmd_postfix": ") ",
     "delete_cmd_prefix": "rm(",
     "library": "var_list.r",
     "varRefreshCmd": "cat(var_dic_list()) "
    }
   },
   "position": {
    "height": "509.219px",
    "left": "1127.09px",
    "right": "20px",
    "top": "116.979px",
    "width": "356.771px"
   },
   "types_to_exclude": [
    "module",
    "function",
    "builtin_function_or_method",
    "instance",
    "_Feature"
   ],
   "window_display": false
  }
 },
 "nbformat": 4,
 "nbformat_minor": 4
}
